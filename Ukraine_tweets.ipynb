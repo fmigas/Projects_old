{
  "nbformat": 4,
  "nbformat_minor": 0,
  "metadata": {
    "colab": {
      "provenance": [],
      "mount_file_id": "1ogY7HZ71hX54eWn8651HIZkjlI6c2YcC",
      "authorship_tag": "ABX9TyPvcCgd55PkCsyqcPuoYuWE",
      "include_colab_link": true
    },
    "kernelspec": {
      "name": "python3",
      "display_name": "Python 3"
    },
    "language_info": {
      "name": "python"
    },
    "accelerator": "GPU",
    "widgets": {
      "application/vnd.jupyter.widget-state+json": {
        "49d3cbe48b8a4d389c328ffb28268d34": {
          "model_module": "@jupyter-widgets/controls",
          "model_name": "HBoxModel",
          "model_module_version": "1.5.0",
          "state": {
            "_dom_classes": [],
            "_model_module": "@jupyter-widgets/controls",
            "_model_module_version": "1.5.0",
            "_model_name": "HBoxModel",
            "_view_count": null,
            "_view_module": "@jupyter-widgets/controls",
            "_view_module_version": "1.5.0",
            "_view_name": "HBoxView",
            "box_style": "",
            "children": [
              "IPY_MODEL_93c7a3c727d94661a55b16da5357ef01",
              "IPY_MODEL_83bb56d48a1b43208db866d4766cd5d7",
              "IPY_MODEL_09256a2b562d4caa93df6245f6969abf"
            ],
            "layout": "IPY_MODEL_fe48db3d6f4140c4a5e2d8a2895cce43"
          }
        },
        "93c7a3c727d94661a55b16da5357ef01": {
          "model_module": "@jupyter-widgets/controls",
          "model_name": "HTMLModel",
          "model_module_version": "1.5.0",
          "state": {
            "_dom_classes": [],
            "_model_module": "@jupyter-widgets/controls",
            "_model_module_version": "1.5.0",
            "_model_name": "HTMLModel",
            "_view_count": null,
            "_view_module": "@jupyter-widgets/controls",
            "_view_module_version": "1.5.0",
            "_view_name": "HTMLView",
            "description": "",
            "description_tooltip": null,
            "layout": "IPY_MODEL_c69882ee465d477cbca0f1acca88d68d",
            "placeholder": "​",
            "style": "IPY_MODEL_bf07759821524a808553b7834d68a989",
            "value": "Downloading: 100%"
          }
        },
        "83bb56d48a1b43208db866d4766cd5d7": {
          "model_module": "@jupyter-widgets/controls",
          "model_name": "FloatProgressModel",
          "model_module_version": "1.5.0",
          "state": {
            "_dom_classes": [],
            "_model_module": "@jupyter-widgets/controls",
            "_model_module_version": "1.5.0",
            "_model_name": "FloatProgressModel",
            "_view_count": null,
            "_view_module": "@jupyter-widgets/controls",
            "_view_module_version": "1.5.0",
            "_view_name": "ProgressView",
            "bar_style": "success",
            "description": "",
            "description_tooltip": null,
            "layout": "IPY_MODEL_da0aecff3b3c4784b9a089bd01d08802",
            "max": 231508,
            "min": 0,
            "orientation": "horizontal",
            "style": "IPY_MODEL_a7e7c9860f484990af5673058da0148a",
            "value": 231508
          }
        },
        "09256a2b562d4caa93df6245f6969abf": {
          "model_module": "@jupyter-widgets/controls",
          "model_name": "HTMLModel",
          "model_module_version": "1.5.0",
          "state": {
            "_dom_classes": [],
            "_model_module": "@jupyter-widgets/controls",
            "_model_module_version": "1.5.0",
            "_model_name": "HTMLModel",
            "_view_count": null,
            "_view_module": "@jupyter-widgets/controls",
            "_view_module_version": "1.5.0",
            "_view_name": "HTMLView",
            "description": "",
            "description_tooltip": null,
            "layout": "IPY_MODEL_76c2869f64924ae6b19f970e601a0d73",
            "placeholder": "​",
            "style": "IPY_MODEL_814cfe825aa94b67aca149171c2a2b1d",
            "value": " 232k/232k [00:00&lt;00:00, 244kB/s]"
          }
        },
        "fe48db3d6f4140c4a5e2d8a2895cce43": {
          "model_module": "@jupyter-widgets/base",
          "model_name": "LayoutModel",
          "model_module_version": "1.2.0",
          "state": {
            "_model_module": "@jupyter-widgets/base",
            "_model_module_version": "1.2.0",
            "_model_name": "LayoutModel",
            "_view_count": null,
            "_view_module": "@jupyter-widgets/base",
            "_view_module_version": "1.2.0",
            "_view_name": "LayoutView",
            "align_content": null,
            "align_items": null,
            "align_self": null,
            "border": null,
            "bottom": null,
            "display": null,
            "flex": null,
            "flex_flow": null,
            "grid_area": null,
            "grid_auto_columns": null,
            "grid_auto_flow": null,
            "grid_auto_rows": null,
            "grid_column": null,
            "grid_gap": null,
            "grid_row": null,
            "grid_template_areas": null,
            "grid_template_columns": null,
            "grid_template_rows": null,
            "height": null,
            "justify_content": null,
            "justify_items": null,
            "left": null,
            "margin": null,
            "max_height": null,
            "max_width": null,
            "min_height": null,
            "min_width": null,
            "object_fit": null,
            "object_position": null,
            "order": null,
            "overflow": null,
            "overflow_x": null,
            "overflow_y": null,
            "padding": null,
            "right": null,
            "top": null,
            "visibility": null,
            "width": null
          }
        },
        "c69882ee465d477cbca0f1acca88d68d": {
          "model_module": "@jupyter-widgets/base",
          "model_name": "LayoutModel",
          "model_module_version": "1.2.0",
          "state": {
            "_model_module": "@jupyter-widgets/base",
            "_model_module_version": "1.2.0",
            "_model_name": "LayoutModel",
            "_view_count": null,
            "_view_module": "@jupyter-widgets/base",
            "_view_module_version": "1.2.0",
            "_view_name": "LayoutView",
            "align_content": null,
            "align_items": null,
            "align_self": null,
            "border": null,
            "bottom": null,
            "display": null,
            "flex": null,
            "flex_flow": null,
            "grid_area": null,
            "grid_auto_columns": null,
            "grid_auto_flow": null,
            "grid_auto_rows": null,
            "grid_column": null,
            "grid_gap": null,
            "grid_row": null,
            "grid_template_areas": null,
            "grid_template_columns": null,
            "grid_template_rows": null,
            "height": null,
            "justify_content": null,
            "justify_items": null,
            "left": null,
            "margin": null,
            "max_height": null,
            "max_width": null,
            "min_height": null,
            "min_width": null,
            "object_fit": null,
            "object_position": null,
            "order": null,
            "overflow": null,
            "overflow_x": null,
            "overflow_y": null,
            "padding": null,
            "right": null,
            "top": null,
            "visibility": null,
            "width": null
          }
        },
        "bf07759821524a808553b7834d68a989": {
          "model_module": "@jupyter-widgets/controls",
          "model_name": "DescriptionStyleModel",
          "model_module_version": "1.5.0",
          "state": {
            "_model_module": "@jupyter-widgets/controls",
            "_model_module_version": "1.5.0",
            "_model_name": "DescriptionStyleModel",
            "_view_count": null,
            "_view_module": "@jupyter-widgets/base",
            "_view_module_version": "1.2.0",
            "_view_name": "StyleView",
            "description_width": ""
          }
        },
        "da0aecff3b3c4784b9a089bd01d08802": {
          "model_module": "@jupyter-widgets/base",
          "model_name": "LayoutModel",
          "model_module_version": "1.2.0",
          "state": {
            "_model_module": "@jupyter-widgets/base",
            "_model_module_version": "1.2.0",
            "_model_name": "LayoutModel",
            "_view_count": null,
            "_view_module": "@jupyter-widgets/base",
            "_view_module_version": "1.2.0",
            "_view_name": "LayoutView",
            "align_content": null,
            "align_items": null,
            "align_self": null,
            "border": null,
            "bottom": null,
            "display": null,
            "flex": null,
            "flex_flow": null,
            "grid_area": null,
            "grid_auto_columns": null,
            "grid_auto_flow": null,
            "grid_auto_rows": null,
            "grid_column": null,
            "grid_gap": null,
            "grid_row": null,
            "grid_template_areas": null,
            "grid_template_columns": null,
            "grid_template_rows": null,
            "height": null,
            "justify_content": null,
            "justify_items": null,
            "left": null,
            "margin": null,
            "max_height": null,
            "max_width": null,
            "min_height": null,
            "min_width": null,
            "object_fit": null,
            "object_position": null,
            "order": null,
            "overflow": null,
            "overflow_x": null,
            "overflow_y": null,
            "padding": null,
            "right": null,
            "top": null,
            "visibility": null,
            "width": null
          }
        },
        "a7e7c9860f484990af5673058da0148a": {
          "model_module": "@jupyter-widgets/controls",
          "model_name": "ProgressStyleModel",
          "model_module_version": "1.5.0",
          "state": {
            "_model_module": "@jupyter-widgets/controls",
            "_model_module_version": "1.5.0",
            "_model_name": "ProgressStyleModel",
            "_view_count": null,
            "_view_module": "@jupyter-widgets/base",
            "_view_module_version": "1.2.0",
            "_view_name": "StyleView",
            "bar_color": null,
            "description_width": ""
          }
        },
        "76c2869f64924ae6b19f970e601a0d73": {
          "model_module": "@jupyter-widgets/base",
          "model_name": "LayoutModel",
          "model_module_version": "1.2.0",
          "state": {
            "_model_module": "@jupyter-widgets/base",
            "_model_module_version": "1.2.0",
            "_model_name": "LayoutModel",
            "_view_count": null,
            "_view_module": "@jupyter-widgets/base",
            "_view_module_version": "1.2.0",
            "_view_name": "LayoutView",
            "align_content": null,
            "align_items": null,
            "align_self": null,
            "border": null,
            "bottom": null,
            "display": null,
            "flex": null,
            "flex_flow": null,
            "grid_area": null,
            "grid_auto_columns": null,
            "grid_auto_flow": null,
            "grid_auto_rows": null,
            "grid_column": null,
            "grid_gap": null,
            "grid_row": null,
            "grid_template_areas": null,
            "grid_template_columns": null,
            "grid_template_rows": null,
            "height": null,
            "justify_content": null,
            "justify_items": null,
            "left": null,
            "margin": null,
            "max_height": null,
            "max_width": null,
            "min_height": null,
            "min_width": null,
            "object_fit": null,
            "object_position": null,
            "order": null,
            "overflow": null,
            "overflow_x": null,
            "overflow_y": null,
            "padding": null,
            "right": null,
            "top": null,
            "visibility": null,
            "width": null
          }
        },
        "814cfe825aa94b67aca149171c2a2b1d": {
          "model_module": "@jupyter-widgets/controls",
          "model_name": "DescriptionStyleModel",
          "model_module_version": "1.5.0",
          "state": {
            "_model_module": "@jupyter-widgets/controls",
            "_model_module_version": "1.5.0",
            "_model_name": "DescriptionStyleModel",
            "_view_count": null,
            "_view_module": "@jupyter-widgets/base",
            "_view_module_version": "1.2.0",
            "_view_name": "StyleView",
            "description_width": ""
          }
        },
        "5a10256ef3ee44839e37f84a8400b7e5": {
          "model_module": "@jupyter-widgets/controls",
          "model_name": "HBoxModel",
          "model_module_version": "1.5.0",
          "state": {
            "_dom_classes": [],
            "_model_module": "@jupyter-widgets/controls",
            "_model_module_version": "1.5.0",
            "_model_name": "HBoxModel",
            "_view_count": null,
            "_view_module": "@jupyter-widgets/controls",
            "_view_module_version": "1.5.0",
            "_view_name": "HBoxView",
            "box_style": "",
            "children": [
              "IPY_MODEL_cbf63039110d4a7181900cea3fe02e81",
              "IPY_MODEL_ccc9f853d1d74a9e9048647491ea78a3",
              "IPY_MODEL_1c093f2473154b9aa219fa7617f96e52"
            ],
            "layout": "IPY_MODEL_41ff7cbe96a341dcafba8d60902be9b1"
          }
        },
        "cbf63039110d4a7181900cea3fe02e81": {
          "model_module": "@jupyter-widgets/controls",
          "model_name": "HTMLModel",
          "model_module_version": "1.5.0",
          "state": {
            "_dom_classes": [],
            "_model_module": "@jupyter-widgets/controls",
            "_model_module_version": "1.5.0",
            "_model_name": "HTMLModel",
            "_view_count": null,
            "_view_module": "@jupyter-widgets/controls",
            "_view_module_version": "1.5.0",
            "_view_name": "HTMLView",
            "description": "",
            "description_tooltip": null,
            "layout": "IPY_MODEL_cd0f776c715646c3ab1aba589834a0c5",
            "placeholder": "​",
            "style": "IPY_MODEL_40b260b7c75240efa8c73ab72cf51742",
            "value": "Downloading: 100%"
          }
        },
        "ccc9f853d1d74a9e9048647491ea78a3": {
          "model_module": "@jupyter-widgets/controls",
          "model_name": "FloatProgressModel",
          "model_module_version": "1.5.0",
          "state": {
            "_dom_classes": [],
            "_model_module": "@jupyter-widgets/controls",
            "_model_module_version": "1.5.0",
            "_model_name": "FloatProgressModel",
            "_view_count": null,
            "_view_module": "@jupyter-widgets/controls",
            "_view_module_version": "1.5.0",
            "_view_name": "ProgressView",
            "bar_style": "success",
            "description": "",
            "description_tooltip": null,
            "layout": "IPY_MODEL_ef579abff8d44263811bc4758412abfe",
            "max": 28,
            "min": 0,
            "orientation": "horizontal",
            "style": "IPY_MODEL_8d7966ee53544cfb8daed844880bf74e",
            "value": 28
          }
        },
        "1c093f2473154b9aa219fa7617f96e52": {
          "model_module": "@jupyter-widgets/controls",
          "model_name": "HTMLModel",
          "model_module_version": "1.5.0",
          "state": {
            "_dom_classes": [],
            "_model_module": "@jupyter-widgets/controls",
            "_model_module_version": "1.5.0",
            "_model_name": "HTMLModel",
            "_view_count": null,
            "_view_module": "@jupyter-widgets/controls",
            "_view_module_version": "1.5.0",
            "_view_name": "HTMLView",
            "description": "",
            "description_tooltip": null,
            "layout": "IPY_MODEL_161c3aaa29324c558a485531cc19b5ba",
            "placeholder": "​",
            "style": "IPY_MODEL_c78ab646d95f49d88ceff2a484e4aa1e",
            "value": " 28.0/28.0 [00:00&lt;00:00, 429B/s]"
          }
        },
        "41ff7cbe96a341dcafba8d60902be9b1": {
          "model_module": "@jupyter-widgets/base",
          "model_name": "LayoutModel",
          "model_module_version": "1.2.0",
          "state": {
            "_model_module": "@jupyter-widgets/base",
            "_model_module_version": "1.2.0",
            "_model_name": "LayoutModel",
            "_view_count": null,
            "_view_module": "@jupyter-widgets/base",
            "_view_module_version": "1.2.0",
            "_view_name": "LayoutView",
            "align_content": null,
            "align_items": null,
            "align_self": null,
            "border": null,
            "bottom": null,
            "display": null,
            "flex": null,
            "flex_flow": null,
            "grid_area": null,
            "grid_auto_columns": null,
            "grid_auto_flow": null,
            "grid_auto_rows": null,
            "grid_column": null,
            "grid_gap": null,
            "grid_row": null,
            "grid_template_areas": null,
            "grid_template_columns": null,
            "grid_template_rows": null,
            "height": null,
            "justify_content": null,
            "justify_items": null,
            "left": null,
            "margin": null,
            "max_height": null,
            "max_width": null,
            "min_height": null,
            "min_width": null,
            "object_fit": null,
            "object_position": null,
            "order": null,
            "overflow": null,
            "overflow_x": null,
            "overflow_y": null,
            "padding": null,
            "right": null,
            "top": null,
            "visibility": null,
            "width": null
          }
        },
        "cd0f776c715646c3ab1aba589834a0c5": {
          "model_module": "@jupyter-widgets/base",
          "model_name": "LayoutModel",
          "model_module_version": "1.2.0",
          "state": {
            "_model_module": "@jupyter-widgets/base",
            "_model_module_version": "1.2.0",
            "_model_name": "LayoutModel",
            "_view_count": null,
            "_view_module": "@jupyter-widgets/base",
            "_view_module_version": "1.2.0",
            "_view_name": "LayoutView",
            "align_content": null,
            "align_items": null,
            "align_self": null,
            "border": null,
            "bottom": null,
            "display": null,
            "flex": null,
            "flex_flow": null,
            "grid_area": null,
            "grid_auto_columns": null,
            "grid_auto_flow": null,
            "grid_auto_rows": null,
            "grid_column": null,
            "grid_gap": null,
            "grid_row": null,
            "grid_template_areas": null,
            "grid_template_columns": null,
            "grid_template_rows": null,
            "height": null,
            "justify_content": null,
            "justify_items": null,
            "left": null,
            "margin": null,
            "max_height": null,
            "max_width": null,
            "min_height": null,
            "min_width": null,
            "object_fit": null,
            "object_position": null,
            "order": null,
            "overflow": null,
            "overflow_x": null,
            "overflow_y": null,
            "padding": null,
            "right": null,
            "top": null,
            "visibility": null,
            "width": null
          }
        },
        "40b260b7c75240efa8c73ab72cf51742": {
          "model_module": "@jupyter-widgets/controls",
          "model_name": "DescriptionStyleModel",
          "model_module_version": "1.5.0",
          "state": {
            "_model_module": "@jupyter-widgets/controls",
            "_model_module_version": "1.5.0",
            "_model_name": "DescriptionStyleModel",
            "_view_count": null,
            "_view_module": "@jupyter-widgets/base",
            "_view_module_version": "1.2.0",
            "_view_name": "StyleView",
            "description_width": ""
          }
        },
        "ef579abff8d44263811bc4758412abfe": {
          "model_module": "@jupyter-widgets/base",
          "model_name": "LayoutModel",
          "model_module_version": "1.2.0",
          "state": {
            "_model_module": "@jupyter-widgets/base",
            "_model_module_version": "1.2.0",
            "_model_name": "LayoutModel",
            "_view_count": null,
            "_view_module": "@jupyter-widgets/base",
            "_view_module_version": "1.2.0",
            "_view_name": "LayoutView",
            "align_content": null,
            "align_items": null,
            "align_self": null,
            "border": null,
            "bottom": null,
            "display": null,
            "flex": null,
            "flex_flow": null,
            "grid_area": null,
            "grid_auto_columns": null,
            "grid_auto_flow": null,
            "grid_auto_rows": null,
            "grid_column": null,
            "grid_gap": null,
            "grid_row": null,
            "grid_template_areas": null,
            "grid_template_columns": null,
            "grid_template_rows": null,
            "height": null,
            "justify_content": null,
            "justify_items": null,
            "left": null,
            "margin": null,
            "max_height": null,
            "max_width": null,
            "min_height": null,
            "min_width": null,
            "object_fit": null,
            "object_position": null,
            "order": null,
            "overflow": null,
            "overflow_x": null,
            "overflow_y": null,
            "padding": null,
            "right": null,
            "top": null,
            "visibility": null,
            "width": null
          }
        },
        "8d7966ee53544cfb8daed844880bf74e": {
          "model_module": "@jupyter-widgets/controls",
          "model_name": "ProgressStyleModel",
          "model_module_version": "1.5.0",
          "state": {
            "_model_module": "@jupyter-widgets/controls",
            "_model_module_version": "1.5.0",
            "_model_name": "ProgressStyleModel",
            "_view_count": null,
            "_view_module": "@jupyter-widgets/base",
            "_view_module_version": "1.2.0",
            "_view_name": "StyleView",
            "bar_color": null,
            "description_width": ""
          }
        },
        "161c3aaa29324c558a485531cc19b5ba": {
          "model_module": "@jupyter-widgets/base",
          "model_name": "LayoutModel",
          "model_module_version": "1.2.0",
          "state": {
            "_model_module": "@jupyter-widgets/base",
            "_model_module_version": "1.2.0",
            "_model_name": "LayoutModel",
            "_view_count": null,
            "_view_module": "@jupyter-widgets/base",
            "_view_module_version": "1.2.0",
            "_view_name": "LayoutView",
            "align_content": null,
            "align_items": null,
            "align_self": null,
            "border": null,
            "bottom": null,
            "display": null,
            "flex": null,
            "flex_flow": null,
            "grid_area": null,
            "grid_auto_columns": null,
            "grid_auto_flow": null,
            "grid_auto_rows": null,
            "grid_column": null,
            "grid_gap": null,
            "grid_row": null,
            "grid_template_areas": null,
            "grid_template_columns": null,
            "grid_template_rows": null,
            "height": null,
            "justify_content": null,
            "justify_items": null,
            "left": null,
            "margin": null,
            "max_height": null,
            "max_width": null,
            "min_height": null,
            "min_width": null,
            "object_fit": null,
            "object_position": null,
            "order": null,
            "overflow": null,
            "overflow_x": null,
            "overflow_y": null,
            "padding": null,
            "right": null,
            "top": null,
            "visibility": null,
            "width": null
          }
        },
        "c78ab646d95f49d88ceff2a484e4aa1e": {
          "model_module": "@jupyter-widgets/controls",
          "model_name": "DescriptionStyleModel",
          "model_module_version": "1.5.0",
          "state": {
            "_model_module": "@jupyter-widgets/controls",
            "_model_module_version": "1.5.0",
            "_model_name": "DescriptionStyleModel",
            "_view_count": null,
            "_view_module": "@jupyter-widgets/base",
            "_view_module_version": "1.2.0",
            "_view_name": "StyleView",
            "description_width": ""
          }
        },
        "94c8d74ea72541218695bd3e8e1cb533": {
          "model_module": "@jupyter-widgets/controls",
          "model_name": "HBoxModel",
          "model_module_version": "1.5.0",
          "state": {
            "_dom_classes": [],
            "_model_module": "@jupyter-widgets/controls",
            "_model_module_version": "1.5.0",
            "_model_name": "HBoxModel",
            "_view_count": null,
            "_view_module": "@jupyter-widgets/controls",
            "_view_module_version": "1.5.0",
            "_view_name": "HBoxView",
            "box_style": "",
            "children": [
              "IPY_MODEL_b9257345b568489e8d4a4e4a6327d85e",
              "IPY_MODEL_ff2a7cb1b7b14bc4ab2531947a4d9bd1",
              "IPY_MODEL_73ec91fb2cd24e86b481319881fb18ca"
            ],
            "layout": "IPY_MODEL_05745987b5e74b76b986a42fff94d988"
          }
        },
        "b9257345b568489e8d4a4e4a6327d85e": {
          "model_module": "@jupyter-widgets/controls",
          "model_name": "HTMLModel",
          "model_module_version": "1.5.0",
          "state": {
            "_dom_classes": [],
            "_model_module": "@jupyter-widgets/controls",
            "_model_module_version": "1.5.0",
            "_model_name": "HTMLModel",
            "_view_count": null,
            "_view_module": "@jupyter-widgets/controls",
            "_view_module_version": "1.5.0",
            "_view_name": "HTMLView",
            "description": "",
            "description_tooltip": null,
            "layout": "IPY_MODEL_295e095abd2342658f3d7831828c0050",
            "placeholder": "​",
            "style": "IPY_MODEL_b2b5e03887c244d9abcca2651df49615",
            "value": "Downloading: 100%"
          }
        },
        "ff2a7cb1b7b14bc4ab2531947a4d9bd1": {
          "model_module": "@jupyter-widgets/controls",
          "model_name": "FloatProgressModel",
          "model_module_version": "1.5.0",
          "state": {
            "_dom_classes": [],
            "_model_module": "@jupyter-widgets/controls",
            "_model_module_version": "1.5.0",
            "_model_name": "FloatProgressModel",
            "_view_count": null,
            "_view_module": "@jupyter-widgets/controls",
            "_view_module_version": "1.5.0",
            "_view_name": "ProgressView",
            "bar_style": "success",
            "description": "",
            "description_tooltip": null,
            "layout": "IPY_MODEL_dd7ba37072b3442a9262e6028820f4c9",
            "max": 570,
            "min": 0,
            "orientation": "horizontal",
            "style": "IPY_MODEL_83c6bc25306b4b9dbd5fa789c2eaeeda",
            "value": 570
          }
        },
        "73ec91fb2cd24e86b481319881fb18ca": {
          "model_module": "@jupyter-widgets/controls",
          "model_name": "HTMLModel",
          "model_module_version": "1.5.0",
          "state": {
            "_dom_classes": [],
            "_model_module": "@jupyter-widgets/controls",
            "_model_module_version": "1.5.0",
            "_model_name": "HTMLModel",
            "_view_count": null,
            "_view_module": "@jupyter-widgets/controls",
            "_view_module_version": "1.5.0",
            "_view_name": "HTMLView",
            "description": "",
            "description_tooltip": null,
            "layout": "IPY_MODEL_0f9c308c59824e11844db61b37773df7",
            "placeholder": "​",
            "style": "IPY_MODEL_963b6d1d1e794ecfb090ea34a572fdf5",
            "value": " 570/570 [00:00&lt;00:00, 6.26kB/s]"
          }
        },
        "05745987b5e74b76b986a42fff94d988": {
          "model_module": "@jupyter-widgets/base",
          "model_name": "LayoutModel",
          "model_module_version": "1.2.0",
          "state": {
            "_model_module": "@jupyter-widgets/base",
            "_model_module_version": "1.2.0",
            "_model_name": "LayoutModel",
            "_view_count": null,
            "_view_module": "@jupyter-widgets/base",
            "_view_module_version": "1.2.0",
            "_view_name": "LayoutView",
            "align_content": null,
            "align_items": null,
            "align_self": null,
            "border": null,
            "bottom": null,
            "display": null,
            "flex": null,
            "flex_flow": null,
            "grid_area": null,
            "grid_auto_columns": null,
            "grid_auto_flow": null,
            "grid_auto_rows": null,
            "grid_column": null,
            "grid_gap": null,
            "grid_row": null,
            "grid_template_areas": null,
            "grid_template_columns": null,
            "grid_template_rows": null,
            "height": null,
            "justify_content": null,
            "justify_items": null,
            "left": null,
            "margin": null,
            "max_height": null,
            "max_width": null,
            "min_height": null,
            "min_width": null,
            "object_fit": null,
            "object_position": null,
            "order": null,
            "overflow": null,
            "overflow_x": null,
            "overflow_y": null,
            "padding": null,
            "right": null,
            "top": null,
            "visibility": null,
            "width": null
          }
        },
        "295e095abd2342658f3d7831828c0050": {
          "model_module": "@jupyter-widgets/base",
          "model_name": "LayoutModel",
          "model_module_version": "1.2.0",
          "state": {
            "_model_module": "@jupyter-widgets/base",
            "_model_module_version": "1.2.0",
            "_model_name": "LayoutModel",
            "_view_count": null,
            "_view_module": "@jupyter-widgets/base",
            "_view_module_version": "1.2.0",
            "_view_name": "LayoutView",
            "align_content": null,
            "align_items": null,
            "align_self": null,
            "border": null,
            "bottom": null,
            "display": null,
            "flex": null,
            "flex_flow": null,
            "grid_area": null,
            "grid_auto_columns": null,
            "grid_auto_flow": null,
            "grid_auto_rows": null,
            "grid_column": null,
            "grid_gap": null,
            "grid_row": null,
            "grid_template_areas": null,
            "grid_template_columns": null,
            "grid_template_rows": null,
            "height": null,
            "justify_content": null,
            "justify_items": null,
            "left": null,
            "margin": null,
            "max_height": null,
            "max_width": null,
            "min_height": null,
            "min_width": null,
            "object_fit": null,
            "object_position": null,
            "order": null,
            "overflow": null,
            "overflow_x": null,
            "overflow_y": null,
            "padding": null,
            "right": null,
            "top": null,
            "visibility": null,
            "width": null
          }
        },
        "b2b5e03887c244d9abcca2651df49615": {
          "model_module": "@jupyter-widgets/controls",
          "model_name": "DescriptionStyleModel",
          "model_module_version": "1.5.0",
          "state": {
            "_model_module": "@jupyter-widgets/controls",
            "_model_module_version": "1.5.0",
            "_model_name": "DescriptionStyleModel",
            "_view_count": null,
            "_view_module": "@jupyter-widgets/base",
            "_view_module_version": "1.2.0",
            "_view_name": "StyleView",
            "description_width": ""
          }
        },
        "dd7ba37072b3442a9262e6028820f4c9": {
          "model_module": "@jupyter-widgets/base",
          "model_name": "LayoutModel",
          "model_module_version": "1.2.0",
          "state": {
            "_model_module": "@jupyter-widgets/base",
            "_model_module_version": "1.2.0",
            "_model_name": "LayoutModel",
            "_view_count": null,
            "_view_module": "@jupyter-widgets/base",
            "_view_module_version": "1.2.0",
            "_view_name": "LayoutView",
            "align_content": null,
            "align_items": null,
            "align_self": null,
            "border": null,
            "bottom": null,
            "display": null,
            "flex": null,
            "flex_flow": null,
            "grid_area": null,
            "grid_auto_columns": null,
            "grid_auto_flow": null,
            "grid_auto_rows": null,
            "grid_column": null,
            "grid_gap": null,
            "grid_row": null,
            "grid_template_areas": null,
            "grid_template_columns": null,
            "grid_template_rows": null,
            "height": null,
            "justify_content": null,
            "justify_items": null,
            "left": null,
            "margin": null,
            "max_height": null,
            "max_width": null,
            "min_height": null,
            "min_width": null,
            "object_fit": null,
            "object_position": null,
            "order": null,
            "overflow": null,
            "overflow_x": null,
            "overflow_y": null,
            "padding": null,
            "right": null,
            "top": null,
            "visibility": null,
            "width": null
          }
        },
        "83c6bc25306b4b9dbd5fa789c2eaeeda": {
          "model_module": "@jupyter-widgets/controls",
          "model_name": "ProgressStyleModel",
          "model_module_version": "1.5.0",
          "state": {
            "_model_module": "@jupyter-widgets/controls",
            "_model_module_version": "1.5.0",
            "_model_name": "ProgressStyleModel",
            "_view_count": null,
            "_view_module": "@jupyter-widgets/base",
            "_view_module_version": "1.2.0",
            "_view_name": "StyleView",
            "bar_color": null,
            "description_width": ""
          }
        },
        "0f9c308c59824e11844db61b37773df7": {
          "model_module": "@jupyter-widgets/base",
          "model_name": "LayoutModel",
          "model_module_version": "1.2.0",
          "state": {
            "_model_module": "@jupyter-widgets/base",
            "_model_module_version": "1.2.0",
            "_model_name": "LayoutModel",
            "_view_count": null,
            "_view_module": "@jupyter-widgets/base",
            "_view_module_version": "1.2.0",
            "_view_name": "LayoutView",
            "align_content": null,
            "align_items": null,
            "align_self": null,
            "border": null,
            "bottom": null,
            "display": null,
            "flex": null,
            "flex_flow": null,
            "grid_area": null,
            "grid_auto_columns": null,
            "grid_auto_flow": null,
            "grid_auto_rows": null,
            "grid_column": null,
            "grid_gap": null,
            "grid_row": null,
            "grid_template_areas": null,
            "grid_template_columns": null,
            "grid_template_rows": null,
            "height": null,
            "justify_content": null,
            "justify_items": null,
            "left": null,
            "margin": null,
            "max_height": null,
            "max_width": null,
            "min_height": null,
            "min_width": null,
            "object_fit": null,
            "object_position": null,
            "order": null,
            "overflow": null,
            "overflow_x": null,
            "overflow_y": null,
            "padding": null,
            "right": null,
            "top": null,
            "visibility": null,
            "width": null
          }
        },
        "963b6d1d1e794ecfb090ea34a572fdf5": {
          "model_module": "@jupyter-widgets/controls",
          "model_name": "DescriptionStyleModel",
          "model_module_version": "1.5.0",
          "state": {
            "_model_module": "@jupyter-widgets/controls",
            "_model_module_version": "1.5.0",
            "_model_name": "DescriptionStyleModel",
            "_view_count": null,
            "_view_module": "@jupyter-widgets/base",
            "_view_module_version": "1.2.0",
            "_view_name": "StyleView",
            "description_width": ""
          }
        }
      }
    }
  },
  "cells": [
    {
      "cell_type": "markdown",
      "metadata": {
        "id": "view-in-github",
        "colab_type": "text"
      },
      "source": [
        "<a href=\"https://colab.research.google.com/github/fmigas/Projects/blob/main/Ukraine_tweets.ipynb\" target=\"_parent\"><img src=\"https://colab.research.google.com/assets/colab-badge.svg\" alt=\"Open In Colab\"/></a>"
      ]
    },
    {
      "cell_type": "markdown",
      "source": [
        "There are are couple of reasons why I decided to set up my own project rather than use a public dataset or join a kaggle competition:\n",
        "\n",
        "\n",
        "*   I decided to define a problem myself\n",
        "*   I needed to collect data myself\n",
        "*   I could not follow any other kaggle notebooks to find the best solution ;-)\n",
        "*   I needed to make my own decisions on all key factors, like project goal and metrics\n",
        "*   I had no clear benchmark to find out \"what is a good result\"\n",
        "\n",
        "In other words, it looks more like a \"real world\" project than an artificial kaggle competition, whare data, objectives, metrics and benchmarks are defined.\n",
        "\n"
      ],
      "metadata": {
        "id": "ziP0-rj_CTyp"
      }
    },
    {
      "cell_type": "markdown",
      "source": [
        "**Problem definition:** take a collection of tweets on Ukraine and find out, which of them come from an \"expert\".\n",
        "\n",
        "The measure of \"being an expert\" is here a number of followers. I'll discuss further what threshold (a thousand of followers? ten thousand?) I decided to pick.\n",
        "\n",
        "I am aware this problem may seem trivial and a bit unrealistic, but the big advantage is that I did not have to care about labelled data. When parsing tweets, we can easily get a number of the user's followers."
      ],
      "metadata": {
        "id": "P_XuxfaFEpmZ"
      }
    },
    {
      "cell_type": "markdown",
      "source": [
        "**First step - data collection**\n",
        "\n",
        "I used snscrape module to download 100.000 tweets containing a word \"Ukraine\", all written in English.\n",
        "I downloaded 4.000 tweets each day from 2nd of October through 27 of October."
      ],
      "metadata": {
        "id": "HZI17ze2JC8y"
      }
    },
    {
      "cell_type": "code",
      "source": [
        "import snscrape.modules.twitter as sntwitter\n",
        "import pandas as pd\n",
        "\n",
        "tweets_list = []\n",
        "for n in range(2, 27):\n",
        "    date = '2022-09-' + str(n)\n",
        "    query = 'Ukraine lang:en until:' + date\n",
        "    print(query)\n",
        "    # Using TwitterSearchScraper to scrape data and append tweets to list\n",
        "    for i, tweet in enumerate(sntwitter.TwitterSearchScraper(query).get_items()):\n",
        "        if i >= 4000:\n",
        "            break\n",
        "        tweets_list.append([tweet.date, tweet.content, tweet.user.username, tweet.user.followersCount])\n",
        "\n",
        "# Creating a dataframe from the tweets list above\n",
        "df = pd.DataFrame(tweets_list, columns = ['Date', 'Text', 'Username', 'followersCount'])"
      ],
      "metadata": {
        "id": "Dfsn4HfqCZyA"
      },
      "execution_count": null,
      "outputs": []
    },
    {
      "cell_type": "markdown",
      "source": [
        "**Raw ideas**\n",
        "\n",
        "Before EDA and data processing, let's ask a couple of questions and extract a couple of features from the raw text.\n",
        "\n",
        "What text features may make difference between an \"expert opinion/message\" and a \"non-expert comment\"?\n",
        "* Maybe \"expert\" messages are longer?\n",
        "* Or maybe they are use slightly different vocabulary?\n",
        "* Or maybe \"non-experts\" abuse dirty words in their comments?\n",
        "* Or maybe \"experts\" include more hashes or links in their messages?\n",
        "* Or should we dig deeper into Natural Language Understanding tools, like contextual embeddings from the state-of-the-art transformer models like BERT?\n",
        "\n",
        "\n",
        "\n"
      ],
      "metadata": {
        "id": "nxsHQA8p1Rhu"
      }
    },
    {
      "cell_type": "markdown",
      "source": [
        "**\"Expert\" definition**\n",
        "My initial notion was to define an \"expert\" as a Twitter use with at least 10.000 followers.\n",
        "\n",
        "At the end, we'll check alternative thresholds (from 1.000 to 10.000, with a 1.000 step) and we'll observe how a modified definition affects the results."
      ],
      "metadata": {
        "id": "gZL7mosF9Jgf"
      }
    },
    {
      "cell_type": "markdown",
      "source": [
        "**Feature extraction**\n",
        "Before we clean and tokenize tweets, let's extract a couple of features:\n",
        "* tweet length\n",
        "* '#' count in a tweet\n",
        "* @ count in a tweet\n",
        "* dirty words count in a tweet\n",
        "* links count in a tweet"
      ],
      "metadata": {
        "id": "GVvJhGwP-biX"
      }
    },
    {
      "cell_type": "markdown",
      "source": [
        "Let's start with loading a raw file from the repository."
      ],
      "metadata": {
        "id": "b8mfSr3SAPKY"
      }
    },
    {
      "cell_type": "code",
      "source": [
        "import pandas as pd\n",
        "import numpy as np\n",
        "\n",
        "df = pd.read_csv(\"/content/drive/MyDrive/Python_data/tweets.csv\")\n",
        "df.drop(['Unnamed: 0'], inplace = True, axis = 1)\n",
        "df.isna().sum()\n",
        "df.drop_duplicates(inplace = True)\n",
        "df.dropna(inplace = True)\n",
        "df.columns = 'date text user num'.split()\n",
        "df.num = df.num.astype('int32')\n",
        "\n",
        "\n",
        "df['at'] = df['text'].apply(lambda x: x.count('@'))\n",
        "df['hash'] = df['text'].apply(lambda x: x.count('#'))\n",
        "df['len'] = df['text'].apply(lambda x: len(x))\n",
        "df['links'] = df['text'].apply(lambda x: x.count('http'))\n",
        "df['expert'] = df['num'].apply(lambda x: 1 if x > 10000 else 0)"
      ],
      "metadata": {
        "id": "4OHIhobnHiDc"
      },
      "execution_count": null,
      "outputs": []
    },
    {
      "cell_type": "markdown",
      "source": [
        "We added 'at', 'hash', 'len', 'links' columns and an 'expert' column mapped intuitively: expert: 1, non-expert: 0.\n"
      ],
      "metadata": {
        "id": "JqrlqKz7BFjh"
      }
    },
    {
      "cell_type": "code",
      "source": [
        "df.head()"
      ],
      "metadata": {
        "colab": {
          "base_uri": "https://localhost:8080/",
          "height": 204
        },
        "id": "tWOBbP4PBCpY",
        "outputId": "15d74c88-5efe-4dae-e81b-9723b6f37e91"
      },
      "execution_count": null,
      "outputs": [
        {
          "output_type": "execute_result",
          "data": {
            "text/plain": [
              "                        date  \\\n",
              "0  2022-09-01 23:59:54+00:00   \n",
              "1  2022-09-01 23:59:47+00:00   \n",
              "2  2022-09-01 23:59:47+00:00   \n",
              "3  2022-09-01 23:59:46+00:00   \n",
              "4  2022-09-01 23:59:46+00:00   \n",
              "\n",
              "                                                text           user   num  at  \\\n",
              "0  @SenatorWicker @CNN @jimsciutto Please send 20...   ArtemiyMoroz   105   3   \n",
              "1  @Der_Parrot If anything, I see vast potential ...   AdrianEMoser     0   1   \n",
              "2  the whos feeding the sheep, this probably goes...       werchenz   107   0   \n",
              "3  look you too can support Nazis in Ukraine\\njus...     vandman777  2968   0   \n",
              "4  Create a false pandemic instilling fear &amp; ...  thelastpers0n    37   0   \n",
              "\n",
              "   hash  len  links  expert  \n",
              "0     1   80      0       0  \n",
              "1     0  287      0       0  \n",
              "2     0  270      0       0  \n",
              "3     0  110      1       0  \n",
              "4     0  307      1       0  "
            ],
            "text/html": [
              "\n",
              "  <div id=\"df-f06c2221-7306-4887-beca-6346d03766e0\">\n",
              "    <div class=\"colab-df-container\">\n",
              "      <div>\n",
              "<style scoped>\n",
              "    .dataframe tbody tr th:only-of-type {\n",
              "        vertical-align: middle;\n",
              "    }\n",
              "\n",
              "    .dataframe tbody tr th {\n",
              "        vertical-align: top;\n",
              "    }\n",
              "\n",
              "    .dataframe thead th {\n",
              "        text-align: right;\n",
              "    }\n",
              "</style>\n",
              "<table border=\"1\" class=\"dataframe\">\n",
              "  <thead>\n",
              "    <tr style=\"text-align: right;\">\n",
              "      <th></th>\n",
              "      <th>date</th>\n",
              "      <th>text</th>\n",
              "      <th>user</th>\n",
              "      <th>num</th>\n",
              "      <th>at</th>\n",
              "      <th>hash</th>\n",
              "      <th>len</th>\n",
              "      <th>links</th>\n",
              "      <th>expert</th>\n",
              "    </tr>\n",
              "  </thead>\n",
              "  <tbody>\n",
              "    <tr>\n",
              "      <th>0</th>\n",
              "      <td>2022-09-01 23:59:54+00:00</td>\n",
              "      <td>@SenatorWicker @CNN @jimsciutto Please send 20...</td>\n",
              "      <td>ArtemiyMoroz</td>\n",
              "      <td>105</td>\n",
              "      <td>3</td>\n",
              "      <td>1</td>\n",
              "      <td>80</td>\n",
              "      <td>0</td>\n",
              "      <td>0</td>\n",
              "    </tr>\n",
              "    <tr>\n",
              "      <th>1</th>\n",
              "      <td>2022-09-01 23:59:47+00:00</td>\n",
              "      <td>@Der_Parrot If anything, I see vast potential ...</td>\n",
              "      <td>AdrianEMoser</td>\n",
              "      <td>0</td>\n",
              "      <td>1</td>\n",
              "      <td>0</td>\n",
              "      <td>287</td>\n",
              "      <td>0</td>\n",
              "      <td>0</td>\n",
              "    </tr>\n",
              "    <tr>\n",
              "      <th>2</th>\n",
              "      <td>2022-09-01 23:59:47+00:00</td>\n",
              "      <td>the whos feeding the sheep, this probably goes...</td>\n",
              "      <td>werchenz</td>\n",
              "      <td>107</td>\n",
              "      <td>0</td>\n",
              "      <td>0</td>\n",
              "      <td>270</td>\n",
              "      <td>0</td>\n",
              "      <td>0</td>\n",
              "    </tr>\n",
              "    <tr>\n",
              "      <th>3</th>\n",
              "      <td>2022-09-01 23:59:46+00:00</td>\n",
              "      <td>look you too can support Nazis in Ukraine\\njus...</td>\n",
              "      <td>vandman777</td>\n",
              "      <td>2968</td>\n",
              "      <td>0</td>\n",
              "      <td>0</td>\n",
              "      <td>110</td>\n",
              "      <td>1</td>\n",
              "      <td>0</td>\n",
              "    </tr>\n",
              "    <tr>\n",
              "      <th>4</th>\n",
              "      <td>2022-09-01 23:59:46+00:00</td>\n",
              "      <td>Create a false pandemic instilling fear &amp;amp; ...</td>\n",
              "      <td>thelastpers0n</td>\n",
              "      <td>37</td>\n",
              "      <td>0</td>\n",
              "      <td>0</td>\n",
              "      <td>307</td>\n",
              "      <td>1</td>\n",
              "      <td>0</td>\n",
              "    </tr>\n",
              "  </tbody>\n",
              "</table>\n",
              "</div>\n",
              "      <button class=\"colab-df-convert\" onclick=\"convertToInteractive('df-f06c2221-7306-4887-beca-6346d03766e0')\"\n",
              "              title=\"Convert this dataframe to an interactive table.\"\n",
              "              style=\"display:none;\">\n",
              "        \n",
              "  <svg xmlns=\"http://www.w3.org/2000/svg\" height=\"24px\"viewBox=\"0 0 24 24\"\n",
              "       width=\"24px\">\n",
              "    <path d=\"M0 0h24v24H0V0z\" fill=\"none\"/>\n",
              "    <path d=\"M18.56 5.44l.94 2.06.94-2.06 2.06-.94-2.06-.94-.94-2.06-.94 2.06-2.06.94zm-11 1L8.5 8.5l.94-2.06 2.06-.94-2.06-.94L8.5 2.5l-.94 2.06-2.06.94zm10 10l.94 2.06.94-2.06 2.06-.94-2.06-.94-.94-2.06-.94 2.06-2.06.94z\"/><path d=\"M17.41 7.96l-1.37-1.37c-.4-.4-.92-.59-1.43-.59-.52 0-1.04.2-1.43.59L10.3 9.45l-7.72 7.72c-.78.78-.78 2.05 0 2.83L4 21.41c.39.39.9.59 1.41.59.51 0 1.02-.2 1.41-.59l7.78-7.78 2.81-2.81c.8-.78.8-2.07 0-2.86zM5.41 20L4 18.59l7.72-7.72 1.47 1.35L5.41 20z\"/>\n",
              "  </svg>\n",
              "      </button>\n",
              "      \n",
              "  <style>\n",
              "    .colab-df-container {\n",
              "      display:flex;\n",
              "      flex-wrap:wrap;\n",
              "      gap: 12px;\n",
              "    }\n",
              "\n",
              "    .colab-df-convert {\n",
              "      background-color: #E8F0FE;\n",
              "      border: none;\n",
              "      border-radius: 50%;\n",
              "      cursor: pointer;\n",
              "      display: none;\n",
              "      fill: #1967D2;\n",
              "      height: 32px;\n",
              "      padding: 0 0 0 0;\n",
              "      width: 32px;\n",
              "    }\n",
              "\n",
              "    .colab-df-convert:hover {\n",
              "      background-color: #E2EBFA;\n",
              "      box-shadow: 0px 1px 2px rgba(60, 64, 67, 0.3), 0px 1px 3px 1px rgba(60, 64, 67, 0.15);\n",
              "      fill: #174EA6;\n",
              "    }\n",
              "\n",
              "    [theme=dark] .colab-df-convert {\n",
              "      background-color: #3B4455;\n",
              "      fill: #D2E3FC;\n",
              "    }\n",
              "\n",
              "    [theme=dark] .colab-df-convert:hover {\n",
              "      background-color: #434B5C;\n",
              "      box-shadow: 0px 1px 3px 1px rgba(0, 0, 0, 0.15);\n",
              "      filter: drop-shadow(0px 1px 2px rgba(0, 0, 0, 0.3));\n",
              "      fill: #FFFFFF;\n",
              "    }\n",
              "  </style>\n",
              "\n",
              "      <script>\n",
              "        const buttonEl =\n",
              "          document.querySelector('#df-f06c2221-7306-4887-beca-6346d03766e0 button.colab-df-convert');\n",
              "        buttonEl.style.display =\n",
              "          google.colab.kernel.accessAllowed ? 'block' : 'none';\n",
              "\n",
              "        async function convertToInteractive(key) {\n",
              "          const element = document.querySelector('#df-f06c2221-7306-4887-beca-6346d03766e0');\n",
              "          const dataTable =\n",
              "            await google.colab.kernel.invokeFunction('convertToInteractive',\n",
              "                                                     [key], {});\n",
              "          if (!dataTable) return;\n",
              "\n",
              "          const docLinkHtml = 'Like what you see? Visit the ' +\n",
              "            '<a target=\"_blank\" href=https://colab.research.google.com/notebooks/data_table.ipynb>data table notebook</a>'\n",
              "            + ' to learn more about interactive tables.';\n",
              "          element.innerHTML = '';\n",
              "          dataTable['output_type'] = 'display_data';\n",
              "          await google.colab.output.renderOutput(dataTable, element);\n",
              "          const docLink = document.createElement('div');\n",
              "          docLink.innerHTML = docLinkHtml;\n",
              "          element.appendChild(docLink);\n",
              "        }\n",
              "      </script>\n",
              "    </div>\n",
              "  </div>\n",
              "  "
            ]
          },
          "metadata": {},
          "execution_count": 3
        }
      ]
    },
    {
      "cell_type": "markdown",
      "source": [
        "One of the initial ideas was that \"non-experts\" may have a tendency to abuse dirty words in their tweets. I searched for \"English bad words\" on the internet and downloaded it. I will not print it here (I am not an English native speaker, English bad words do not resonate in me so much, but I guess it could be unpleasant for a native speaker to see such a list here).\n",
        "\n",
        "I made one modification to the badworeds list. I removed a word \"nazi\" and its variations from the list. As you probably know, Russian propaganda calls a legitimate Ukrainian government \"nazis\", and it is ofted cited by official sources. Considering it a \"dirty word\" could lead to wrong conclusions.\n",
        "\n",
        "We'll add a \"badwords count\" column later, after tweets cleaning and processing."
      ],
      "metadata": {
        "id": "Piy8dW5UBfec"
      }
    },
    {
      "cell_type": "markdown",
      "source": [
        "**Initial EDA**\n",
        "Let's start with seeing if our dataset is a balanced one."
      ],
      "metadata": {
        "id": "BxF19_6pD3I1"
      }
    },
    {
      "cell_type": "code",
      "source": [
        "print(f'Number of records: {df.shape[0]}')\n",
        "print('Value counts - non_expert vs expert')\n",
        "df['expert'].value_counts()"
      ],
      "metadata": {
        "colab": {
          "base_uri": "https://localhost:8080/"
        },
        "id": "PMOArlqZEP5D",
        "outputId": "f4130ce3-ea97-4537-9f6f-9a1bb93d8fac"
      },
      "execution_count": null,
      "outputs": [
        {
          "output_type": "stream",
          "name": "stdout",
          "text": [
            "Number of records: 99992\n",
            "Value counts - non_expert vs expert\n"
          ]
        },
        {
          "output_type": "execute_result",
          "data": {
            "text/plain": [
              "0    93165\n",
              "1     6827\n",
              "Name: expert, dtype: int64"
            ]
          },
          "metadata": {},
          "execution_count": 4
        }
      ]
    },
    {
      "cell_type": "markdown",
      "source": [
        "It was easy to foresee - our dataset is highly skewed towards \"non expert\" values. Which is natural - in each field there are fewer experts, otherwise they would not be called \"experts\", would they?\n",
        "\n",
        "Let's take a look at a histogram of a followersCount column.\n",
        "\n",
        "However, as some users have a very large number of followers (e.g. tens of millions), any plot (histogram, boxplot) trying to cover the full span of followersCount count, would look not so much informative with one high peak for all \"low values\" bin. On the other hand, applying a log scale would make it misleading.\n",
        "\n",
        "That is why we plotted a histogram only for non-expert users, with fewer than 10.000 followers. As we can see, even in that group, the majority of users have fewer than 1.000 followers. We'll come back to the question \"how an expert should be defined\" later.\n",
        "\n",
        "*For my convenience, I renamed followersCount column to 'num', to make it shorter*"
      ],
      "metadata": {
        "id": "mCpiDQXmFCO4"
      }
    },
    {
      "cell_type": "code",
      "source": [
        "import matplotlib.pyplot as plt\n",
        "\n",
        "plt.hist(df[df['num'] < 10000]['num'], bins = 20)\n",
        "plt.show()"
      ],
      "metadata": {
        "colab": {
          "base_uri": "https://localhost:8080/",
          "height": 265
        },
        "id": "Sct23v9IFobv",
        "outputId": "9c14ca0f-58af-475a-b0bd-71303d867b41"
      },
      "execution_count": null,
      "outputs": [
        {
          "output_type": "display_data",
          "data": {
            "text/plain": [
              "<Figure size 432x288 with 1 Axes>"
            ],
            "image/png": "[encoded data removed]"
          },
          "metadata": {
            "needs_background": "light"
          }
        }
      ]
    },
    {
      "cell_type": "markdown",
      "source": [
        "**Text cleaning and TOKENIZATION**\n",
        "Before we follow with the remaining EDA, let's add badwords count to the pack. To do so, let's do some text cleaning. We'll use regular expression and BeautifulSoup library to proceed."
      ],
      "metadata": {
        "id": "oUKezKd_KrGb"
      }
    },
    {
      "cell_type": "markdown",
      "source": [
        "At this step, we will also do the tokenization. Out of many different tokenizers available, a natural choice for any Twitter-oriented project seems to be an NLTK TweetTokenizer.\n",
        "One of the text cleaning procedure steps will be replacing negations like \"isn't\" with their base form \"is not\" etc. We'll see later, if using bigrams that should catch such two-word phrases would add to the model quality."
      ],
      "metadata": {
        "id": "dYyZGVY6MMoh"
      }
    },
    {
      "cell_type": "code",
      "source": [
        "import re\n",
        "from bs4 import BeautifulSoup\n",
        "from nltk.tokenize import TweetTokenizer\n",
        "tokenizer = TweetTokenizer()\n",
        "\n",
        "pat1 = r'@[A-Za-z0-9_]+'\n",
        "pat2 = r'https?://[^ ]+'\n",
        "combined_pat = r'|'.join((pat1, pat2))\n",
        "www_pat = r'www.[^ ]+'\n",
        "negations_dic = {\"isn't\":\"is not\", \"aren't\":\"are not\", \"wasn't\":\"was not\", \"weren't\":\"were not\",\n",
        "                \"haven't\":\"have not\",\"hasn't\":\"has not\",\"hadn't\":\"had not\",\"won't\":\"will not\",\n",
        "                \"wouldn't\":\"would not\", \"don't\":\"do not\", \"doesn't\":\"does not\",\"didn't\":\"did not\",\n",
        "                \"can't\":\"can not\",\"couldn't\":\"could not\",\"shouldn't\":\"should not\",\"mightn't\":\"might not\",\n",
        "                \"mustn't\":\"must not\"}\n",
        "neg_pattern = re.compile(r'\\b(' + '|'.join(negations_dic.keys()) + r')\\b')\n",
        "\n",
        "def tweet_cleaner_updated(text):\n",
        "    soup = BeautifulSoup(text, 'lxml')\n",
        "    souped = soup.get_text()\n",
        "    try:\n",
        "        bom_removed = souped.decode(\"utf-8-sig\").replace(u\"\\ufffd\", \"?\")\n",
        "    except:\n",
        "        bom_removed = souped\n",
        "    stripped = re.sub(combined_pat, '', bom_removed)\n",
        "    stripped = re.sub(www_pat, '', stripped)\n",
        "    lower_case = stripped.lower()\n",
        "    neg_handled = neg_pattern.sub(lambda x: negations_dic[x.group()], lower_case)\n",
        "    letters_only = re.sub(\"[^a-zA-Z]\", \" \", neg_handled)\n",
        "\n",
        "    words = tokenizer.tokenize(letters_only)\n",
        "    return (\" \".join(words)).strip() # we return a string, not tokens, as most models (tfidf, BERT) require str values as an input\n",
        "\n",
        "df['processed'] = df['text'].apply(lambda x: tweet_cleaner_updated(x)) "
      ],
      "metadata": {
        "id": "9sJjXSWPLZAn"
      },
      "execution_count": null,
      "outputs": []
    },
    {
      "cell_type": "code",
      "source": [
        "df.head()"
      ],
      "metadata": {
        "colab": {
          "base_uri": "https://localhost:8080/",
          "height": 204
        },
        "id": "rVCpcESRNQv3",
        "outputId": "ed832dc6-6605-4c04-9b28-c19a51d1b6b5"
      },
      "execution_count": null,
      "outputs": [
        {
          "output_type": "execute_result",
          "data": {
            "text/plain": [
              "                        date  \\\n",
              "0  2022-09-01 23:59:54+00:00   \n",
              "1  2022-09-01 23:59:47+00:00   \n",
              "2  2022-09-01 23:59:47+00:00   \n",
              "3  2022-09-01 23:59:46+00:00   \n",
              "4  2022-09-01 23:59:46+00:00   \n",
              "\n",
              "                                                text           user   num  at  \\\n",
              "0  @SenatorWicker @CNN @jimsciutto Please send 20...   ArtemiyMoroz   105   3   \n",
              "1  @Der_Parrot If anything, I see vast potential ...   AdrianEMoser     0   1   \n",
              "2  the whos feeding the sheep, this probably goes...       werchenz   107   0   \n",
              "3  look you too can support Nazis in Ukraine\\njus...     vandman777  2968   0   \n",
              "4  Create a false pandemic instilling fear &amp; ...  thelastpers0n    37   0   \n",
              "\n",
              "   hash  len  links  expert                                          processed  \n",
              "0     1   80      0       0        please send more himars to ukraine urgently  \n",
              "1     0  287      0       0  if anything i see vast potential in creating j...  \n",
              "2     0  270      0       0  the whos feeding the sheep this probably goes ...  \n",
              "3     0  110      1       0  look you too can support nazis in ukraine just...  \n",
              "4     0  307      1       0  create a false pandemic instilling fear confor...  "
            ],
            "text/html": [
              "\n",
              "  <div id=\"df-f933e963-3003-47d9-a977-a891d58130a7\">\n",
              "    <div class=\"colab-df-container\">\n",
              "      <div>\n",
              "<style scoped>\n",
              "    .dataframe tbody tr th:only-of-type {\n",
              "        vertical-align: middle;\n",
              "    }\n",
              "\n",
              "    .dataframe tbody tr th {\n",
              "        vertical-align: top;\n",
              "    }\n",
              "\n",
              "    .dataframe thead th {\n",
              "        text-align: right;\n",
              "    }\n",
              "</style>\n",
              "<table border=\"1\" class=\"dataframe\">\n",
              "  <thead>\n",
              "    <tr style=\"text-align: right;\">\n",
              "      <th></th>\n",
              "      <th>date</th>\n",
              "      <th>text</th>\n",
              "      <th>user</th>\n",
              "      <th>num</th>\n",
              "      <th>at</th>\n",
              "      <th>hash</th>\n",
              "      <th>len</th>\n",
              "      <th>links</th>\n",
              "      <th>expert</th>\n",
              "      <th>processed</th>\n",
              "    </tr>\n",
              "  </thead>\n",
              "  <tbody>\n",
              "    <tr>\n",
              "      <th>0</th>\n",
              "      <td>2022-09-01 23:59:54+00:00</td>\n",
              "      <td>@SenatorWicker @CNN @jimsciutto Please send 20...</td>\n",
              "      <td>ArtemiyMoroz</td>\n",
              "      <td>105</td>\n",
              "      <td>3</td>\n",
              "      <td>1</td>\n",
              "      <td>80</td>\n",
              "      <td>0</td>\n",
              "      <td>0</td>\n",
              "      <td>please send more himars to ukraine urgently</td>\n",
              "    </tr>\n",
              "    <tr>\n",
              "      <th>1</th>\n",
              "      <td>2022-09-01 23:59:47+00:00</td>\n",
              "      <td>@Der_Parrot If anything, I see vast potential ...</td>\n",
              "      <td>AdrianEMoser</td>\n",
              "      <td>0</td>\n",
              "      <td>1</td>\n",
              "      <td>0</td>\n",
              "      <td>287</td>\n",
              "      <td>0</td>\n",
              "      <td>0</td>\n",
              "      <td>if anything i see vast potential in creating j...</td>\n",
              "    </tr>\n",
              "    <tr>\n",
              "      <th>2</th>\n",
              "      <td>2022-09-01 23:59:47+00:00</td>\n",
              "      <td>the whos feeding the sheep, this probably goes...</td>\n",
              "      <td>werchenz</td>\n",
              "      <td>107</td>\n",
              "      <td>0</td>\n",
              "      <td>0</td>\n",
              "      <td>270</td>\n",
              "      <td>0</td>\n",
              "      <td>0</td>\n",
              "      <td>the whos feeding the sheep this probably goes ...</td>\n",
              "    </tr>\n",
              "    <tr>\n",
              "      <th>3</th>\n",
              "      <td>2022-09-01 23:59:46+00:00</td>\n",
              "      <td>look you too can support Nazis in Ukraine\\njus...</td>\n",
              "      <td>vandman777</td>\n",
              "      <td>2968</td>\n",
              "      <td>0</td>\n",
              "      <td>0</td>\n",
              "      <td>110</td>\n",
              "      <td>1</td>\n",
              "      <td>0</td>\n",
              "      <td>look you too can support nazis in ukraine just...</td>\n",
              "    </tr>\n",
              "    <tr>\n",
              "      <th>4</th>\n",
              "      <td>2022-09-01 23:59:46+00:00</td>\n",
              "      <td>Create a false pandemic instilling fear &amp;amp; ...</td>\n",
              "      <td>thelastpers0n</td>\n",
              "      <td>37</td>\n",
              "      <td>0</td>\n",
              "      <td>0</td>\n",
              "      <td>307</td>\n",
              "      <td>1</td>\n",
              "      <td>0</td>\n",
              "      <td>create a false pandemic instilling fear confor...</td>\n",
              "    </tr>\n",
              "  </tbody>\n",
              "</table>\n",
              "</div>\n",
              "      <button class=\"colab-df-convert\" onclick=\"convertToInteractive('df-f933e963-3003-47d9-a977-a891d58130a7')\"\n",
              "              title=\"Convert this dataframe to an interactive table.\"\n",
              "              style=\"display:none;\">\n",
              "        \n",
              "  <svg xmlns=\"http://www.w3.org/2000/svg\" height=\"24px\"viewBox=\"0 0 24 24\"\n",
              "       width=\"24px\">\n",
              "    <path d=\"M0 0h24v24H0V0z\" fill=\"none\"/>\n",
              "    <path d=\"M18.56 5.44l.94 2.06.94-2.06 2.06-.94-2.06-.94-.94-2.06-.94 2.06-2.06.94zm-11 1L8.5 8.5l.94-2.06 2.06-.94-2.06-.94L8.5 2.5l-.94 2.06-2.06.94zm10 10l.94 2.06.94-2.06 2.06-.94-2.06-.94-.94-2.06-.94 2.06-2.06.94z\"/><path d=\"M17.41 7.96l-1.37-1.37c-.4-.4-.92-.59-1.43-.59-.52 0-1.04.2-1.43.59L10.3 9.45l-7.72 7.72c-.78.78-.78 2.05 0 2.83L4 21.41c.39.39.9.59 1.41.59.51 0 1.02-.2 1.41-.59l7.78-7.78 2.81-2.81c.8-.78.8-2.07 0-2.86zM5.41 20L4 18.59l7.72-7.72 1.47 1.35L5.41 20z\"/>\n",
              "  </svg>\n",
              "      </button>\n",
              "      \n",
              "  <style>\n",
              "    .colab-df-container {\n",
              "      display:flex;\n",
              "      flex-wrap:wrap;\n",
              "      gap: 12px;\n",
              "    }\n",
              "\n",
              "    .colab-df-convert {\n",
              "      background-color: #E8F0FE;\n",
              "      border: none;\n",
              "      border-radius: 50%;\n",
              "      cursor: pointer;\n",
              "      display: none;\n",
              "      fill: #1967D2;\n",
              "      height: 32px;\n",
              "      padding: 0 0 0 0;\n",
              "      width: 32px;\n",
              "    }\n",
              "\n",
              "    .colab-df-convert:hover {\n",
              "      background-color: #E2EBFA;\n",
              "      box-shadow: 0px 1px 2px rgba(60, 64, 67, 0.3), 0px 1px 3px 1px rgba(60, 64, 67, 0.15);\n",
              "      fill: #174EA6;\n",
              "    }\n",
              "\n",
              "    [theme=dark] .colab-df-convert {\n",
              "      background-color: #3B4455;\n",
              "      fill: #D2E3FC;\n",
              "    }\n",
              "\n",
              "    [theme=dark] .colab-df-convert:hover {\n",
              "      background-color: #434B5C;\n",
              "      box-shadow: 0px 1px 3px 1px rgba(0, 0, 0, 0.15);\n",
              "      filter: drop-shadow(0px 1px 2px rgba(0, 0, 0, 0.3));\n",
              "      fill: #FFFFFF;\n",
              "    }\n",
              "  </style>\n",
              "\n",
              "      <script>\n",
              "        const buttonEl =\n",
              "          document.querySelector('#df-f933e963-3003-47d9-a977-a891d58130a7 button.colab-df-convert');\n",
              "        buttonEl.style.display =\n",
              "          google.colab.kernel.accessAllowed ? 'block' : 'none';\n",
              "\n",
              "        async function convertToInteractive(key) {\n",
              "          const element = document.querySelector('#df-f933e963-3003-47d9-a977-a891d58130a7');\n",
              "          const dataTable =\n",
              "            await google.colab.kernel.invokeFunction('convertToInteractive',\n",
              "                                                     [key], {});\n",
              "          if (!dataTable) return;\n",
              "\n",
              "          const docLinkHtml = 'Like what you see? Visit the ' +\n",
              "            '<a target=\"_blank\" href=https://colab.research.google.com/notebooks/data_table.ipynb>data table notebook</a>'\n",
              "            + ' to learn more about interactive tables.';\n",
              "          element.innerHTML = '';\n",
              "          dataTable['output_type'] = 'display_data';\n",
              "          await google.colab.output.renderOutput(dataTable, element);\n",
              "          const docLink = document.createElement('div');\n",
              "          docLink.innerHTML = docLinkHtml;\n",
              "          element.appendChild(docLink);\n",
              "        }\n",
              "      </script>\n",
              "    </div>\n",
              "  </div>\n",
              "  "
            ]
          },
          "metadata": {},
          "execution_count": 7
        }
      ]
    },
    {
      "cell_type": "markdown",
      "source": [
        "Let's add a badwords count to the dataframe."
      ],
      "metadata": {
        "id": "EdKoiwELNYG9"
      }
    },
    {
      "cell_type": "code",
      "source": [
        "with open('/content/drive/MyDrive/Python_data/badwords.txt') as f:\n",
        "    lines = f.readline()\n",
        "\n",
        "badwords = lines.split(',')\n",
        "\n",
        "def badwords_count(text):\n",
        "    try:\n",
        "        text = text.split()\n",
        "        return len([word for word in text if word in badwords])\n",
        "    except:\n",
        "        return 0\n",
        "\n",
        "df['badwords'] = df['processed'].apply(lambda x: badwords_count(x))"
      ],
      "metadata": {
        "id": "pTMZSMoENgSB"
      },
      "execution_count": null,
      "outputs": []
    },
    {
      "cell_type": "markdown",
      "source": [
        "We drop a 'date' column just for the convenience of printing all informative columns in df.head()"
      ],
      "metadata": {
        "id": "qKU4I7AWYJG-"
      }
    },
    {
      "cell_type": "code",
      "source": [
        "df.drop(['date'], inplace = True, axis = 1)"
      ],
      "metadata": {
        "id": "XDLn7x_HNuMQ"
      },
      "execution_count": null,
      "outputs": []
    },
    {
      "cell_type": "code",
      "source": [
        "df.head()"
      ],
      "metadata": {
        "colab": {
          "base_uri": "https://localhost:8080/",
          "height": 204
        },
        "id": "6xhF0BXZOMdF",
        "outputId": "8064fe42-8a46-49ec-94f2-9b0fc6258f72"
      },
      "execution_count": null,
      "outputs": [
        {
          "output_type": "execute_result",
          "data": {
            "text/plain": [
              "                                                text           user   num  at  \\\n",
              "0  @SenatorWicker @CNN @jimsciutto Please send 20...   ArtemiyMoroz   105   3   \n",
              "1  @Der_Parrot If anything, I see vast potential ...   AdrianEMoser     0   1   \n",
              "2  the whos feeding the sheep, this probably goes...       werchenz   107   0   \n",
              "3  look you too can support Nazis in Ukraine\\njus...     vandman777  2968   0   \n",
              "4  Create a false pandemic instilling fear &amp; ...  thelastpers0n    37   0   \n",
              "\n",
              "   hash  len  links  expert  \\\n",
              "0     1   80      0       0   \n",
              "1     0  287      0       0   \n",
              "2     0  270      0       0   \n",
              "3     0  110      1       0   \n",
              "4     0  307      1       0   \n",
              "\n",
              "                                           processed  badwords  \n",
              "0        please send more himars to ukraine urgently         0  \n",
              "1  if anything i see vast potential in creating j...         0  \n",
              "2  the whos feeding the sheep this probably goes ...         0  \n",
              "3  look you too can support nazis in ukraine just...         0  \n",
              "4  create a false pandemic instilling fear confor...         0  "
            ],
            "text/html": [
              "\n",
              "  <div id=\"df-4b50b219-2fb0-4ddb-aeae-83c33672f2f8\">\n",
              "    <div class=\"colab-df-container\">\n",
              "      <div>\n",
              "<style scoped>\n",
              "    .dataframe tbody tr th:only-of-type {\n",
              "        vertical-align: middle;\n",
              "    }\n",
              "\n",
              "    .dataframe tbody tr th {\n",
              "        vertical-align: top;\n",
              "    }\n",
              "\n",
              "    .dataframe thead th {\n",
              "        text-align: right;\n",
              "    }\n",
              "</style>\n",
              "<table border=\"1\" class=\"dataframe\">\n",
              "  <thead>\n",
              "    <tr style=\"text-align: right;\">\n",
              "      <th></th>\n",
              "      <th>text</th>\n",
              "      <th>user</th>\n",
              "      <th>num</th>\n",
              "      <th>at</th>\n",
              "      <th>hash</th>\n",
              "      <th>len</th>\n",
              "      <th>links</th>\n",
              "      <th>expert</th>\n",
              "      <th>processed</th>\n",
              "      <th>badwords</th>\n",
              "    </tr>\n",
              "  </thead>\n",
              "  <tbody>\n",
              "    <tr>\n",
              "      <th>0</th>\n",
              "      <td>@SenatorWicker @CNN @jimsciutto Please send 20...</td>\n",
              "      <td>ArtemiyMoroz</td>\n",
              "      <td>105</td>\n",
              "      <td>3</td>\n",
              "      <td>1</td>\n",
              "      <td>80</td>\n",
              "      <td>0</td>\n",
              "      <td>0</td>\n",
              "      <td>please send more himars to ukraine urgently</td>\n",
              "      <td>0</td>\n",
              "    </tr>\n",
              "    <tr>\n",
              "      <th>1</th>\n",
              "      <td>@Der_Parrot If anything, I see vast potential ...</td>\n",
              "      <td>AdrianEMoser</td>\n",
              "      <td>0</td>\n",
              "      <td>1</td>\n",
              "      <td>0</td>\n",
              "      <td>287</td>\n",
              "      <td>0</td>\n",
              "      <td>0</td>\n",
              "      <td>if anything i see vast potential in creating j...</td>\n",
              "      <td>0</td>\n",
              "    </tr>\n",
              "    <tr>\n",
              "      <th>2</th>\n",
              "      <td>the whos feeding the sheep, this probably goes...</td>\n",
              "      <td>werchenz</td>\n",
              "      <td>107</td>\n",
              "      <td>0</td>\n",
              "      <td>0</td>\n",
              "      <td>270</td>\n",
              "      <td>0</td>\n",
              "      <td>0</td>\n",
              "      <td>the whos feeding the sheep this probably goes ...</td>\n",
              "      <td>0</td>\n",
              "    </tr>\n",
              "    <tr>\n",
              "      <th>3</th>\n",
              "      <td>look you too can support Nazis in Ukraine\\njus...</td>\n",
              "      <td>vandman777</td>\n",
              "      <td>2968</td>\n",
              "      <td>0</td>\n",
              "      <td>0</td>\n",
              "      <td>110</td>\n",
              "      <td>1</td>\n",
              "      <td>0</td>\n",
              "      <td>look you too can support nazis in ukraine just...</td>\n",
              "      <td>0</td>\n",
              "    </tr>\n",
              "    <tr>\n",
              "      <th>4</th>\n",
              "      <td>Create a false pandemic instilling fear &amp;amp; ...</td>\n",
              "      <td>thelastpers0n</td>\n",
              "      <td>37</td>\n",
              "      <td>0</td>\n",
              "      <td>0</td>\n",
              "      <td>307</td>\n",
              "      <td>1</td>\n",
              "      <td>0</td>\n",
              "      <td>create a false pandemic instilling fear confor...</td>\n",
              "      <td>0</td>\n",
              "    </tr>\n",
              "  </tbody>\n",
              "</table>\n",
              "</div>\n",
              "      <button class=\"colab-df-convert\" onclick=\"convertToInteractive('df-4b50b219-2fb0-4ddb-aeae-83c33672f2f8')\"\n",
              "              title=\"Convert this dataframe to an interactive table.\"\n",
              "              style=\"display:none;\">\n",
              "        \n",
              "  <svg xmlns=\"http://www.w3.org/2000/svg\" height=\"24px\"viewBox=\"0 0 24 24\"\n",
              "       width=\"24px\">\n",
              "    <path d=\"M0 0h24v24H0V0z\" fill=\"none\"/>\n",
              "    <path d=\"M18.56 5.44l.94 2.06.94-2.06 2.06-.94-2.06-.94-.94-2.06-.94 2.06-2.06.94zm-11 1L8.5 8.5l.94-2.06 2.06-.94-2.06-.94L8.5 2.5l-.94 2.06-2.06.94zm10 10l.94 2.06.94-2.06 2.06-.94-2.06-.94-.94-2.06-.94 2.06-2.06.94z\"/><path d=\"M17.41 7.96l-1.37-1.37c-.4-.4-.92-.59-1.43-.59-.52 0-1.04.2-1.43.59L10.3 9.45l-7.72 7.72c-.78.78-.78 2.05 0 2.83L4 21.41c.39.39.9.59 1.41.59.51 0 1.02-.2 1.41-.59l7.78-7.78 2.81-2.81c.8-.78.8-2.07 0-2.86zM5.41 20L4 18.59l7.72-7.72 1.47 1.35L5.41 20z\"/>\n",
              "  </svg>\n",
              "      </button>\n",
              "      \n",
              "  <style>\n",
              "    .colab-df-container {\n",
              "      display:flex;\n",
              "      flex-wrap:wrap;\n",
              "      gap: 12px;\n",
              "    }\n",
              "\n",
              "    .colab-df-convert {\n",
              "      background-color: #E8F0FE;\n",
              "      border: none;\n",
              "      border-radius: 50%;\n",
              "      cursor: pointer;\n",
              "      display: none;\n",
              "      fill: #1967D2;\n",
              "      height: 32px;\n",
              "      padding: 0 0 0 0;\n",
              "      width: 32px;\n",
              "    }\n",
              "\n",
              "    .colab-df-convert:hover {\n",
              "      background-color: #E2EBFA;\n",
              "      box-shadow: 0px 1px 2px rgba(60, 64, 67, 0.3), 0px 1px 3px 1px rgba(60, 64, 67, 0.15);\n",
              "      fill: #174EA6;\n",
              "    }\n",
              "\n",
              "    [theme=dark] .colab-df-convert {\n",
              "      background-color: #3B4455;\n",
              "      fill: #D2E3FC;\n",
              "    }\n",
              "\n",
              "    [theme=dark] .colab-df-convert:hover {\n",
              "      background-color: #434B5C;\n",
              "      box-shadow: 0px 1px 3px 1px rgba(0, 0, 0, 0.15);\n",
              "      filter: drop-shadow(0px 1px 2px rgba(0, 0, 0, 0.3));\n",
              "      fill: #FFFFFF;\n",
              "    }\n",
              "  </style>\n",
              "\n",
              "      <script>\n",
              "        const buttonEl =\n",
              "          document.querySelector('#df-4b50b219-2fb0-4ddb-aeae-83c33672f2f8 button.colab-df-convert');\n",
              "        buttonEl.style.display =\n",
              "          google.colab.kernel.accessAllowed ? 'block' : 'none';\n",
              "\n",
              "        async function convertToInteractive(key) {\n",
              "          const element = document.querySelector('#df-4b50b219-2fb0-4ddb-aeae-83c33672f2f8');\n",
              "          const dataTable =\n",
              "            await google.colab.kernel.invokeFunction('convertToInteractive',\n",
              "                                                     [key], {});\n",
              "          if (!dataTable) return;\n",
              "\n",
              "          const docLinkHtml = 'Like what you see? Visit the ' +\n",
              "            '<a target=\"_blank\" href=https://colab.research.google.com/notebooks/data_table.ipynb>data table notebook</a>'\n",
              "            + ' to learn more about interactive tables.';\n",
              "          element.innerHTML = '';\n",
              "          dataTable['output_type'] = 'display_data';\n",
              "          await google.colab.output.renderOutput(dataTable, element);\n",
              "          const docLink = document.createElement('div');\n",
              "          docLink.innerHTML = docLinkHtml;\n",
              "          element.appendChild(docLink);\n",
              "        }\n",
              "      </script>\n",
              "    </div>\n",
              "  </div>\n",
              "  "
            ]
          },
          "metadata": {},
          "execution_count": 10
        }
      ]
    },
    {
      "cell_type": "markdown",
      "source": [
        "At this point, I made an assumption that some categorization of the 'at count', 'hash count', 'links count' and 'badwords count' values would make a model less noisy.\n",
        "\n",
        "All values exceeding 3 in these columns were cut to 3. A number of tweets with more than 3 hashes or badwords is extremely low and we can treat these values as outliers. Not to make this notebook too long, I will not dive deeper into this to prove it makes sense."
      ],
      "metadata": {
        "id": "y__h8zzULfTt"
      }
    },
    {
      "cell_type": "code",
      "source": [
        "df['at'] = df['at'].apply(lambda x: 3 if x >=3 else x)\n",
        "df['hash'] = df['hash'].apply(lambda x: 3 if x >=3 else x)\n",
        "df['links'] = df['links'].apply(lambda x: 3 if x >=3 else x)\n",
        "df['badwords'] = df['badwords'].apply(lambda x: 3 if x >=3 else x)"
      ],
      "metadata": {
        "id": "s-RHa8iFO4QG"
      },
      "execution_count": null,
      "outputs": []
    },
    {
      "cell_type": "markdown",
      "source": [
        "And some final check for the integrity of the dataset to avoid any indexing issues in the following steps."
      ],
      "metadata": {
        "id": "rdGAvu_dPAVB"
      }
    },
    {
      "cell_type": "code",
      "source": [
        "print(df.isna().sum())\n",
        "df.drop_duplicates(inplace = True)\n",
        "df.dropna(inplace = True)\n",
        "df.reset_index(inplace = True, drop = True)\n",
        "print(f'Number of unique, non-null records: {df.shape[0]}.')"
      ],
      "metadata": {
        "colab": {
          "base_uri": "https://localhost:8080/"
        },
        "id": "XNqma5fSPKgD",
        "outputId": "ed6ac7e7-ab1f-47d7-8b3a-472402412e0d"
      },
      "execution_count": null,
      "outputs": [
        {
          "output_type": "stream",
          "name": "stdout",
          "text": [
            "text         0\n",
            "user         0\n",
            "num          0\n",
            "at           0\n",
            "hash         0\n",
            "len          0\n",
            "links        0\n",
            "expert       0\n",
            "processed    0\n",
            "badwords     0\n",
            "dtype: int64\n",
            "Number of unique, non-null records: 99732.\n"
          ]
        }
      ]
    },
    {
      "cell_type": "markdown",
      "source": [
        "The difference in a number of records (99.992 after loading a dataset and 99.732 after its cleaning) comes from the fact, that we dropped duplicates after dropping a \"date\" column. It looks like 260 tweets were resent by the same user with the same text body at different date. They seemed \"unique\" only as long as a \"date\" column was in place."
      ],
      "metadata": {
        "id": "fxrR5WeeQmYw"
      }
    },
    {
      "cell_type": "markdown",
      "source": [
        "Now, as the processing is finished, let's save a processed file for the future use."
      ],
      "metadata": {
        "id": "OE1DqS4UTFt9"
      }
    },
    {
      "cell_type": "code",
      "source": [
        "df.to_csv('/content/drive/MyDrive/Python_data/processed_tweets.csv', index = False)"
      ],
      "metadata": {
        "colab": {
          "base_uri": "https://localhost:8080/",
          "height": 164
        },
        "id": "QahQ60e5TEhz",
        "outputId": "b312eff4-ef36-420f-c899-bbd13727685d"
      },
      "execution_count": null,
      "outputs": [
        {
          "output_type": "error",
          "ename": "NameError",
          "evalue": "ignored",
          "traceback": [
            "\u001b[0;31m---------------------------------------------------------------------------\u001b[0m",
            "\u001b[0;31mNameError\u001b[0m                                 Traceback (most recent call last)",
            "\u001b[0;32m<ipython-input-1-cc3594170be3>\u001b[0m in \u001b[0;36m<module>\u001b[0;34m\u001b[0m\n\u001b[0;32m----> 1\u001b[0;31m \u001b[0mdf\u001b[0m\u001b[0;34m.\u001b[0m\u001b[0mto_csv\u001b[0m\u001b[0;34m(\u001b[0m\u001b[0;34m'/content/drive/MyDrive/Python_data/processed_tweets.csv'\u001b[0m\u001b[0;34m,\u001b[0m \u001b[0mindex\u001b[0m \u001b[0;34m=\u001b[0m \u001b[0;32mFalse\u001b[0m\u001b[0;34m)\u001b[0m\u001b[0;34m\u001b[0m\u001b[0;34m\u001b[0m\u001b[0m\n\u001b[0m",
            "\u001b[0;31mNameError\u001b[0m: name 'df' is not defined"
          ]
        }
      ]
    },
    {
      "cell_type": "code",
      "source": [
        "df.dropna(inplace = True)\n",
        "df.reset_index(inplace = True)"
      ],
      "metadata": {
        "id": "Hr8SfM33Uw1z"
      },
      "execution_count": null,
      "outputs": []
    },
    {
      "cell_type": "code",
      "source": [
        "df.isna().sum()"
      ],
      "metadata": {
        "colab": {
          "base_uri": "https://localhost:8080/"
        },
        "id": "H0qJdzZ0UrEI",
        "outputId": "48507b86-ffcb-48df-ea2b-36f625a9fd93"
      },
      "execution_count": null,
      "outputs": [
        {
          "output_type": "execute_result",
          "data": {
            "text/plain": [
              "index        0\n",
              "text         0\n",
              "user         0\n",
              "num          0\n",
              "at           0\n",
              "hash         0\n",
              "len          0\n",
              "links        0\n",
              "expert       0\n",
              "processed    0\n",
              "badwords     0\n",
              "dtype: int64"
            ]
          },
          "metadata": {},
          "execution_count": 15
        }
      ]
    },
    {
      "cell_type": "code",
      "source": [
        "import pandas as pd\n",
        "import numpy as np"
      ],
      "metadata": {
        "id": "MwENxvilULZx"
      },
      "execution_count": null,
      "outputs": []
    },
    {
      "cell_type": "code",
      "source": [
        "df = pd.read_csv('/content/drive/MyDrive/Python_data/processed_tweets.csv')\n",
        "df.dropna(inplace = True)\n",
        "df.reset_index(inplace = True)\n",
        "print(df.shape)"
      ],
      "metadata": {
        "colab": {
          "base_uri": "https://localhost:8080/"
        },
        "id": "5tA1mvUaUAQt",
        "outputId": "8accfba1-74c8-40a3-aae8-21ca0c6d2ee7"
      },
      "execution_count": null,
      "outputs": [
        {
          "output_type": "stream",
          "name": "stdout",
          "text": [
            "(99731, 11)\n"
          ]
        }
      ]
    },
    {
      "cell_type": "code",
      "source": [
        "df.head()"
      ],
      "metadata": {
        "colab": {
          "base_uri": "https://localhost:8080/",
          "height": 204
        },
        "id": "sUuBULfEUVMQ",
        "outputId": "ab8aed89-d897-412b-b915-5c2d8f6eb5e9"
      },
      "execution_count": null,
      "outputs": [
        {
          "output_type": "execute_result",
          "data": {
            "text/plain": [
              "   index                                               text           user  \\\n",
              "0      0  @SenatorWicker @CNN @jimsciutto Please send 20...   ArtemiyMoroz   \n",
              "1      1  @Der_Parrot If anything, I see vast potential ...   AdrianEMoser   \n",
              "2      2  the whos feeding the sheep, this probably goes...       werchenz   \n",
              "3      3  look you too can support Nazis in Ukraine\\njus...     vandman777   \n",
              "4      4  Create a false pandemic instilling fear &amp; ...  thelastpers0n   \n",
              "\n",
              "    num  at  hash  len  links  expert  \\\n",
              "0   105   3     1   80      0       0   \n",
              "1     0   1     0  287      0       0   \n",
              "2   107   0     0  270      0       0   \n",
              "3  2968   0     0  110      1       0   \n",
              "4    37   0     0  307      1       0   \n",
              "\n",
              "                                           processed  badwords  \n",
              "0        please send more himars to ukraine urgently         0  \n",
              "1  if anything i see vast potential in creating j...         0  \n",
              "2  the whos feeding the sheep this probably goes ...         0  \n",
              "3  look you too can support nazis in ukraine just...         0  \n",
              "4  create a false pandemic instilling fear confor...         0  "
            ],
            "text/html": [
              "\n",
              "  <div id=\"df-58f3ec60-f424-4efd-b2e7-f7eb73f9603a\">\n",
              "    <div class=\"colab-df-container\">\n",
              "      <div>\n",
              "<style scoped>\n",
              "    .dataframe tbody tr th:only-of-type {\n",
              "        vertical-align: middle;\n",
              "    }\n",
              "\n",
              "    .dataframe tbody tr th {\n",
              "        vertical-align: top;\n",
              "    }\n",
              "\n",
              "    .dataframe thead th {\n",
              "        text-align: right;\n",
              "    }\n",
              "</style>\n",
              "<table border=\"1\" class=\"dataframe\">\n",
              "  <thead>\n",
              "    <tr style=\"text-align: right;\">\n",
              "      <th></th>\n",
              "      <th>index</th>\n",
              "      <th>text</th>\n",
              "      <th>user</th>\n",
              "      <th>num</th>\n",
              "      <th>at</th>\n",
              "      <th>hash</th>\n",
              "      <th>len</th>\n",
              "      <th>links</th>\n",
              "      <th>expert</th>\n",
              "      <th>processed</th>\n",
              "      <th>badwords</th>\n",
              "    </tr>\n",
              "  </thead>\n",
              "  <tbody>\n",
              "    <tr>\n",
              "      <th>0</th>\n",
              "      <td>0</td>\n",
              "      <td>@SenatorWicker @CNN @jimsciutto Please send 20...</td>\n",
              "      <td>ArtemiyMoroz</td>\n",
              "      <td>105</td>\n",
              "      <td>3</td>\n",
              "      <td>1</td>\n",
              "      <td>80</td>\n",
              "      <td>0</td>\n",
              "      <td>0</td>\n",
              "      <td>please send more himars to ukraine urgently</td>\n",
              "      <td>0</td>\n",
              "    </tr>\n",
              "    <tr>\n",
              "      <th>1</th>\n",
              "      <td>1</td>\n",
              "      <td>@Der_Parrot If anything, I see vast potential ...</td>\n",
              "      <td>AdrianEMoser</td>\n",
              "      <td>0</td>\n",
              "      <td>1</td>\n",
              "      <td>0</td>\n",
              "      <td>287</td>\n",
              "      <td>0</td>\n",
              "      <td>0</td>\n",
              "      <td>if anything i see vast potential in creating j...</td>\n",
              "      <td>0</td>\n",
              "    </tr>\n",
              "    <tr>\n",
              "      <th>2</th>\n",
              "      <td>2</td>\n",
              "      <td>the whos feeding the sheep, this probably goes...</td>\n",
              "      <td>werchenz</td>\n",
              "      <td>107</td>\n",
              "      <td>0</td>\n",
              "      <td>0</td>\n",
              "      <td>270</td>\n",
              "      <td>0</td>\n",
              "      <td>0</td>\n",
              "      <td>the whos feeding the sheep this probably goes ...</td>\n",
              "      <td>0</td>\n",
              "    </tr>\n",
              "    <tr>\n",
              "      <th>3</th>\n",
              "      <td>3</td>\n",
              "      <td>look you too can support Nazis in Ukraine\\njus...</td>\n",
              "      <td>vandman777</td>\n",
              "      <td>2968</td>\n",
              "      <td>0</td>\n",
              "      <td>0</td>\n",
              "      <td>110</td>\n",
              "      <td>1</td>\n",
              "      <td>0</td>\n",
              "      <td>look you too can support nazis in ukraine just...</td>\n",
              "      <td>0</td>\n",
              "    </tr>\n",
              "    <tr>\n",
              "      <th>4</th>\n",
              "      <td>4</td>\n",
              "      <td>Create a false pandemic instilling fear &amp;amp; ...</td>\n",
              "      <td>thelastpers0n</td>\n",
              "      <td>37</td>\n",
              "      <td>0</td>\n",
              "      <td>0</td>\n",
              "      <td>307</td>\n",
              "      <td>1</td>\n",
              "      <td>0</td>\n",
              "      <td>create a false pandemic instilling fear confor...</td>\n",
              "      <td>0</td>\n",
              "    </tr>\n",
              "  </tbody>\n",
              "</table>\n",
              "</div>\n",
              "      <button class=\"colab-df-convert\" onclick=\"convertToInteractive('df-58f3ec60-f424-4efd-b2e7-f7eb73f9603a')\"\n",
              "              title=\"Convert this dataframe to an interactive table.\"\n",
              "              style=\"display:none;\">\n",
              "        \n",
              "  <svg xmlns=\"http://www.w3.org/2000/svg\" height=\"24px\"viewBox=\"0 0 24 24\"\n",
              "       width=\"24px\">\n",
              "    <path d=\"M0 0h24v24H0V0z\" fill=\"none\"/>\n",
              "    <path d=\"M18.56 5.44l.94 2.06.94-2.06 2.06-.94-2.06-.94-.94-2.06-.94 2.06-2.06.94zm-11 1L8.5 8.5l.94-2.06 2.06-.94-2.06-.94L8.5 2.5l-.94 2.06-2.06.94zm10 10l.94 2.06.94-2.06 2.06-.94-2.06-.94-.94-2.06-.94 2.06-2.06.94z\"/><path d=\"M17.41 7.96l-1.37-1.37c-.4-.4-.92-.59-1.43-.59-.52 0-1.04.2-1.43.59L10.3 9.45l-7.72 7.72c-.78.78-.78 2.05 0 2.83L4 21.41c.39.39.9.59 1.41.59.51 0 1.02-.2 1.41-.59l7.78-7.78 2.81-2.81c.8-.78.8-2.07 0-2.86zM5.41 20L4 18.59l7.72-7.72 1.47 1.35L5.41 20z\"/>\n",
              "  </svg>\n",
              "      </button>\n",
              "      \n",
              "  <style>\n",
              "    .colab-df-container {\n",
              "      display:flex;\n",
              "      flex-wrap:wrap;\n",
              "      gap: 12px;\n",
              "    }\n",
              "\n",
              "    .colab-df-convert {\n",
              "      background-color: #E8F0FE;\n",
              "      border: none;\n",
              "      border-radius: 50%;\n",
              "      cursor: pointer;\n",
              "      display: none;\n",
              "      fill: #1967D2;\n",
              "      height: 32px;\n",
              "      padding: 0 0 0 0;\n",
              "      width: 32px;\n",
              "    }\n",
              "\n",
              "    .colab-df-convert:hover {\n",
              "      background-color: #E2EBFA;\n",
              "      box-shadow: 0px 1px 2px rgba(60, 64, 67, 0.3), 0px 1px 3px 1px rgba(60, 64, 67, 0.15);\n",
              "      fill: #174EA6;\n",
              "    }\n",
              "\n",
              "    [theme=dark] .colab-df-convert {\n",
              "      background-color: #3B4455;\n",
              "      fill: #D2E3FC;\n",
              "    }\n",
              "\n",
              "    [theme=dark] .colab-df-convert:hover {\n",
              "      background-color: #434B5C;\n",
              "      box-shadow: 0px 1px 3px 1px rgba(0, 0, 0, 0.15);\n",
              "      filter: drop-shadow(0px 1px 2px rgba(0, 0, 0, 0.3));\n",
              "      fill: #FFFFFF;\n",
              "    }\n",
              "  </style>\n",
              "\n",
              "      <script>\n",
              "        const buttonEl =\n",
              "          document.querySelector('#df-58f3ec60-f424-4efd-b2e7-f7eb73f9603a button.colab-df-convert');\n",
              "        buttonEl.style.display =\n",
              "          google.colab.kernel.accessAllowed ? 'block' : 'none';\n",
              "\n",
              "        async function convertToInteractive(key) {\n",
              "          const element = document.querySelector('#df-58f3ec60-f424-4efd-b2e7-f7eb73f9603a');\n",
              "          const dataTable =\n",
              "            await google.colab.kernel.invokeFunction('convertToInteractive',\n",
              "                                                     [key], {});\n",
              "          if (!dataTable) return;\n",
              "\n",
              "          const docLinkHtml = 'Like what you see? Visit the ' +\n",
              "            '<a target=\"_blank\" href=https://colab.research.google.com/notebooks/data_table.ipynb>data table notebook</a>'\n",
              "            + ' to learn more about interactive tables.';\n",
              "          element.innerHTML = '';\n",
              "          dataTable['output_type'] = 'display_data';\n",
              "          await google.colab.output.renderOutput(dataTable, element);\n",
              "          const docLink = document.createElement('div');\n",
              "          docLink.innerHTML = docLinkHtml;\n",
              "          element.appendChild(docLink);\n",
              "        }\n",
              "      </script>\n",
              "    </div>\n",
              "  </div>\n",
              "  "
            ]
          },
          "metadata": {},
          "execution_count": 4
        }
      ]
    },
    {
      "cell_type": "markdown",
      "source": [
        "**CountVectorization**\n",
        "Count vectorization usually produces weaker resuluts than TF-IDF vectorization, but we'll use Count vectorizer to make some analysis on which words occure more often in \"expert\" and \"non-expert\" tweets. That should tell us a little bit about a nature of our \"project\"."
      ],
      "metadata": {
        "id": "xda1qs7KSYJZ"
      }
    },
    {
      "cell_type": "code",
      "source": [
        "from sklearn.feature_extraction.text import CountVectorizer"
      ],
      "metadata": {
        "id": "79bGL2Fum6wn"
      },
      "execution_count": null,
      "outputs": []
    },
    {
      "cell_type": "markdown",
      "source": [
        "Below a smart snipped of a code that I copied from some medium.com article. Does the job to create a DataFrame with each word count separately for \"expert\" and \"non expert\" words."
      ],
      "metadata": {
        "id": "LZvrOdeKoI3M"
      }
    },
    {
      "cell_type": "code",
      "source": [
        "cv = CountVectorizer(stop_words = 'english')\n",
        "cv.fit(df['processed'])\n",
        "\n",
        "cv_pos = cv.transform(df[df['expert'] == 1]['processed'])\n",
        "cv_neg = cv.transform(df[df['expert'] == 0]['processed'])\n",
        "\n",
        "pos_tf = np.sum(cv_pos,axis=0)\n",
        "neg_tf = np.sum(cv_neg,axis=0)\n",
        "neg = np.squeeze(np.asarray(neg_tf))\n",
        "pos = np.squeeze(np.asarray(pos_tf))\n",
        "freq = pd.DataFrame([neg,pos],columns=cv.get_feature_names_out()).transpose()\n",
        "freq.columns = 'not expert'.split() # column name 'not' for a non-expert, just to make it shorter"
      ],
      "metadata": {
        "id": "kLA4AtF6nyK_"
      },
      "execution_count": null,
      "outputs": []
    },
    {
      "cell_type": "code",
      "source": [
        "freq.head(10)"
      ],
      "metadata": {
        "colab": {
          "base_uri": "https://localhost:8080/",
          "height": 359
        },
        "id": "TZaXW9Jwph8x",
        "outputId": "26a99060-25ca-406b-8177-266258ed0bd5"
      },
      "execution_count": null,
      "outputs": [
        {
          "output_type": "execute_result",
          "data": {
            "text/plain": [
              "           not  expert\n",
              "aa          23       1\n",
              "aaa          3       0\n",
              "aaaa         2       0\n",
              "aaaaaaagh    1       0\n",
              "aaaand       2       0\n",
              "aaah         1       0\n",
              "aaand        2       0\n",
              "aahhh        2       0\n",
              "aam          1       0\n",
              "aand         1       0"
            ],
            "text/html": [
              "\n",
              "  <div id=\"df-04aaf8e2-277c-4bd7-88c1-a6ef0d54728c\">\n",
              "    <div class=\"colab-df-container\">\n",
              "      <div>\n",
              "<style scoped>\n",
              "    .dataframe tbody tr th:only-of-type {\n",
              "        vertical-align: middle;\n",
              "    }\n",
              "\n",
              "    .dataframe tbody tr th {\n",
              "        vertical-align: top;\n",
              "    }\n",
              "\n",
              "    .dataframe thead th {\n",
              "        text-align: right;\n",
              "    }\n",
              "</style>\n",
              "<table border=\"1\" class=\"dataframe\">\n",
              "  <thead>\n",
              "    <tr style=\"text-align: right;\">\n",
              "      <th></th>\n",
              "      <th>not</th>\n",
              "      <th>expert</th>\n",
              "    </tr>\n",
              "  </thead>\n",
              "  <tbody>\n",
              "    <tr>\n",
              "      <th>aa</th>\n",
              "      <td>23</td>\n",
              "      <td>1</td>\n",
              "    </tr>\n",
              "    <tr>\n",
              "      <th>aaa</th>\n",
              "      <td>3</td>\n",
              "      <td>0</td>\n",
              "    </tr>\n",
              "    <tr>\n",
              "      <th>aaaa</th>\n",
              "      <td>2</td>\n",
              "      <td>0</td>\n",
              "    </tr>\n",
              "    <tr>\n",
              "      <th>aaaaaaagh</th>\n",
              "      <td>1</td>\n",
              "      <td>0</td>\n",
              "    </tr>\n",
              "    <tr>\n",
              "      <th>aaaand</th>\n",
              "      <td>2</td>\n",
              "      <td>0</td>\n",
              "    </tr>\n",
              "    <tr>\n",
              "      <th>aaah</th>\n",
              "      <td>1</td>\n",
              "      <td>0</td>\n",
              "    </tr>\n",
              "    <tr>\n",
              "      <th>aaand</th>\n",
              "      <td>2</td>\n",
              "      <td>0</td>\n",
              "    </tr>\n",
              "    <tr>\n",
              "      <th>aahhh</th>\n",
              "      <td>2</td>\n",
              "      <td>0</td>\n",
              "    </tr>\n",
              "    <tr>\n",
              "      <th>aam</th>\n",
              "      <td>1</td>\n",
              "      <td>0</td>\n",
              "    </tr>\n",
              "    <tr>\n",
              "      <th>aand</th>\n",
              "      <td>1</td>\n",
              "      <td>0</td>\n",
              "    </tr>\n",
              "  </tbody>\n",
              "</table>\n",
              "</div>\n",
              "      <button class=\"colab-df-convert\" onclick=\"convertToInteractive('df-04aaf8e2-277c-4bd7-88c1-a6ef0d54728c')\"\n",
              "              title=\"Convert this dataframe to an interactive table.\"\n",
              "              style=\"display:none;\">\n",
              "        \n",
              "  <svg xmlns=\"http://www.w3.org/2000/svg\" height=\"24px\"viewBox=\"0 0 24 24\"\n",
              "       width=\"24px\">\n",
              "    <path d=\"M0 0h24v24H0V0z\" fill=\"none\"/>\n",
              "    <path d=\"M18.56 5.44l.94 2.06.94-2.06 2.06-.94-2.06-.94-.94-2.06-.94 2.06-2.06.94zm-11 1L8.5 8.5l.94-2.06 2.06-.94-2.06-.94L8.5 2.5l-.94 2.06-2.06.94zm10 10l.94 2.06.94-2.06 2.06-.94-2.06-.94-.94-2.06-.94 2.06-2.06.94z\"/><path d=\"M17.41 7.96l-1.37-1.37c-.4-.4-.92-.59-1.43-.59-.52 0-1.04.2-1.43.59L10.3 9.45l-7.72 7.72c-.78.78-.78 2.05 0 2.83L4 21.41c.39.39.9.59 1.41.59.51 0 1.02-.2 1.41-.59l7.78-7.78 2.81-2.81c.8-.78.8-2.07 0-2.86zM5.41 20L4 18.59l7.72-7.72 1.47 1.35L5.41 20z\"/>\n",
              "  </svg>\n",
              "      </button>\n",
              "      \n",
              "  <style>\n",
              "    .colab-df-container {\n",
              "      display:flex;\n",
              "      flex-wrap:wrap;\n",
              "      gap: 12px;\n",
              "    }\n",
              "\n",
              "    .colab-df-convert {\n",
              "      background-color: #E8F0FE;\n",
              "      border: none;\n",
              "      border-radius: 50%;\n",
              "      cursor: pointer;\n",
              "      display: none;\n",
              "      fill: #1967D2;\n",
              "      height: 32px;\n",
              "      padding: 0 0 0 0;\n",
              "      width: 32px;\n",
              "    }\n",
              "\n",
              "    .colab-df-convert:hover {\n",
              "      background-color: #E2EBFA;\n",
              "      box-shadow: 0px 1px 2px rgba(60, 64, 67, 0.3), 0px 1px 3px 1px rgba(60, 64, 67, 0.15);\n",
              "      fill: #174EA6;\n",
              "    }\n",
              "\n",
              "    [theme=dark] .colab-df-convert {\n",
              "      background-color: #3B4455;\n",
              "      fill: #D2E3FC;\n",
              "    }\n",
              "\n",
              "    [theme=dark] .colab-df-convert:hover {\n",
              "      background-color: #434B5C;\n",
              "      box-shadow: 0px 1px 3px 1px rgba(0, 0, 0, 0.15);\n",
              "      filter: drop-shadow(0px 1px 2px rgba(0, 0, 0, 0.3));\n",
              "      fill: #FFFFFF;\n",
              "    }\n",
              "  </style>\n",
              "\n",
              "      <script>\n",
              "        const buttonEl =\n",
              "          document.querySelector('#df-04aaf8e2-277c-4bd7-88c1-a6ef0d54728c button.colab-df-convert');\n",
              "        buttonEl.style.display =\n",
              "          google.colab.kernel.accessAllowed ? 'block' : 'none';\n",
              "\n",
              "        async function convertToInteractive(key) {\n",
              "          const element = document.querySelector('#df-04aaf8e2-277c-4bd7-88c1-a6ef0d54728c');\n",
              "          const dataTable =\n",
              "            await google.colab.kernel.invokeFunction('convertToInteractive',\n",
              "                                                     [key], {});\n",
              "          if (!dataTable) return;\n",
              "\n",
              "          const docLinkHtml = 'Like what you see? Visit the ' +\n",
              "            '<a target=\"_blank\" href=https://colab.research.google.com/notebooks/data_table.ipynb>data table notebook</a>'\n",
              "            + ' to learn more about interactive tables.';\n",
              "          element.innerHTML = '';\n",
              "          dataTable['output_type'] = 'display_data';\n",
              "          await google.colab.output.renderOutput(dataTable, element);\n",
              "          const docLink = document.createElement('div');\n",
              "          docLink.innerHTML = docLinkHtml;\n",
              "          element.appendChild(docLink);\n",
              "        }\n",
              "      </script>\n",
              "    </div>\n",
              "  </div>\n",
              "  "
            ]
          },
          "metadata": {},
          "execution_count": 10
        }
      ]
    },
    {
      "cell_type": "markdown",
      "source": [
        "Before we begin to compare both columns, let's do a couple of simple data manipulations:\n",
        "\n",
        "\n",
        "1.   Let's bring the values of a \"not expert\" column to the same base as an \"expert\" column by dividng these values by a denominator len(expert) / len(not expert). It will make comparisions more intuitive. I also rounded the values.\n",
        "2.   Let's add a 'total' count\n",
        "3. I also removed rows with a 'total' equal to zero (low 'not expert' values after dividing by a denominator and rounding were flattened to zero, which doesn't really matter - these were words of marginal analitic worth, like 'aa' and similar \n",
        "\n"
      ],
      "metadata": {
        "id": "nW_cpPNRpn2X"
      }
    },
    {
      "cell_type": "code",
      "source": [
        "denominator = len(df[df['expert'] == 1]) / len(df[df['expert'] == 0])\n",
        "\n",
        "freq['not'] = (freq['not'] * denominator).round().astype('int32')\n",
        "freq['total'] = freq.sum(axis = 1)\n",
        "freq.drop(freq[freq['total'] == 0].index, inplace = True) # pozbywamy się tych, gdzie total = 0"
      ],
      "metadata": {
        "id": "rdFmZwP7ruhQ"
      },
      "execution_count": null,
      "outputs": []
    },
    {
      "cell_type": "code",
      "source": [
        "freq.sort_values('total', ascending = False).head(20)"
      ],
      "metadata": {
        "colab": {
          "base_uri": "https://localhost:8080/",
          "height": 669
        },
        "id": "a2g75kdPr1Lx",
        "outputId": "6f9dfba3-51fa-43ba-c3d6-ba0b0d82963d"
      },
      "execution_count": null,
      "outputs": [
        {
          "output_type": "execute_result",
          "data": {
            "text/plain": [
              "            not  expert  total\n",
              "ukraine    6882    6865  13747\n",
              "russia     1863    2361   4224\n",
              "war        1156    1371   2527\n",
              "russian     866    1309   2175\n",
              "putin       765    1029   1794\n",
              "people      510     323    833\n",
              "ukrainian   283     464    747\n",
              "just        463     278    741\n",
              "world       276     438    714\n",
              "like        430     266    696\n",
              "biden       323     333    656\n",
              "military    270     374    644\n",
              "news        179     412    591\n",
              "support     295     274    569\n",
              "china       191     369    560\n",
              "nuclear     192     356    548\n",
              "money       376     156    532\n",
              "president   165     362    527\n",
              "says        128     379    507\n",
              "invasion    190     315    505"
            ],
            "text/html": [
              "\n",
              "  <div id=\"df-68a3f2eb-05c7-4a5f-8733-a310f140aec3\">\n",
              "    <div class=\"colab-df-container\">\n",
              "      <div>\n",
              "<style scoped>\n",
              "    .dataframe tbody tr th:only-of-type {\n",
              "        vertical-align: middle;\n",
              "    }\n",
              "\n",
              "    .dataframe tbody tr th {\n",
              "        vertical-align: top;\n",
              "    }\n",
              "\n",
              "    .dataframe thead th {\n",
              "        text-align: right;\n",
              "    }\n",
              "</style>\n",
              "<table border=\"1\" class=\"dataframe\">\n",
              "  <thead>\n",
              "    <tr style=\"text-align: right;\">\n",
              "      <th></th>\n",
              "      <th>not</th>\n",
              "      <th>expert</th>\n",
              "      <th>total</th>\n",
              "    </tr>\n",
              "  </thead>\n",
              "  <tbody>\n",
              "    <tr>\n",
              "      <th>ukraine</th>\n",
              "      <td>6882</td>\n",
              "      <td>6865</td>\n",
              "      <td>13747</td>\n",
              "    </tr>\n",
              "    <tr>\n",
              "      <th>russia</th>\n",
              "      <td>1863</td>\n",
              "      <td>2361</td>\n",
              "      <td>4224</td>\n",
              "    </tr>\n",
              "    <tr>\n",
              "      <th>war</th>\n",
              "      <td>1156</td>\n",
              "      <td>1371</td>\n",
              "      <td>2527</td>\n",
              "    </tr>\n",
              "    <tr>\n",
              "      <th>russian</th>\n",
              "      <td>866</td>\n",
              "      <td>1309</td>\n",
              "      <td>2175</td>\n",
              "    </tr>\n",
              "    <tr>\n",
              "      <th>putin</th>\n",
              "      <td>765</td>\n",
              "      <td>1029</td>\n",
              "      <td>1794</td>\n",
              "    </tr>\n",
              "    <tr>\n",
              "      <th>people</th>\n",
              "      <td>510</td>\n",
              "      <td>323</td>\n",
              "      <td>833</td>\n",
              "    </tr>\n",
              "    <tr>\n",
              "      <th>ukrainian</th>\n",
              "      <td>283</td>\n",
              "      <td>464</td>\n",
              "      <td>747</td>\n",
              "    </tr>\n",
              "    <tr>\n",
              "      <th>just</th>\n",
              "      <td>463</td>\n",
              "      <td>278</td>\n",
              "      <td>741</td>\n",
              "    </tr>\n",
              "    <tr>\n",
              "      <th>world</th>\n",
              "      <td>276</td>\n",
              "      <td>438</td>\n",
              "      <td>714</td>\n",
              "    </tr>\n",
              "    <tr>\n",
              "      <th>like</th>\n",
              "      <td>430</td>\n",
              "      <td>266</td>\n",
              "      <td>696</td>\n",
              "    </tr>\n",
              "    <tr>\n",
              "      <th>biden</th>\n",
              "      <td>323</td>\n",
              "      <td>333</td>\n",
              "      <td>656</td>\n",
              "    </tr>\n",
              "    <tr>\n",
              "      <th>military</th>\n",
              "      <td>270</td>\n",
              "      <td>374</td>\n",
              "      <td>644</td>\n",
              "    </tr>\n",
              "    <tr>\n",
              "      <th>news</th>\n",
              "      <td>179</td>\n",
              "      <td>412</td>\n",
              "      <td>591</td>\n",
              "    </tr>\n",
              "    <tr>\n",
              "      <th>support</th>\n",
              "      <td>295</td>\n",
              "      <td>274</td>\n",
              "      <td>569</td>\n",
              "    </tr>\n",
              "    <tr>\n",
              "      <th>china</th>\n",
              "      <td>191</td>\n",
              "      <td>369</td>\n",
              "      <td>560</td>\n",
              "    </tr>\n",
              "    <tr>\n",
              "      <th>nuclear</th>\n",
              "      <td>192</td>\n",
              "      <td>356</td>\n",
              "      <td>548</td>\n",
              "    </tr>\n",
              "    <tr>\n",
              "      <th>money</th>\n",
              "      <td>376</td>\n",
              "      <td>156</td>\n",
              "      <td>532</td>\n",
              "    </tr>\n",
              "    <tr>\n",
              "      <th>president</th>\n",
              "      <td>165</td>\n",
              "      <td>362</td>\n",
              "      <td>527</td>\n",
              "    </tr>\n",
              "    <tr>\n",
              "      <th>says</th>\n",
              "      <td>128</td>\n",
              "      <td>379</td>\n",
              "      <td>507</td>\n",
              "    </tr>\n",
              "    <tr>\n",
              "      <th>invasion</th>\n",
              "      <td>190</td>\n",
              "      <td>315</td>\n",
              "      <td>505</td>\n",
              "    </tr>\n",
              "  </tbody>\n",
              "</table>\n",
              "</div>\n",
              "      <button class=\"colab-df-convert\" onclick=\"convertToInteractive('df-68a3f2eb-05c7-4a5f-8733-a310f140aec3')\"\n",
              "              title=\"Convert this dataframe to an interactive table.\"\n",
              "              style=\"display:none;\">\n",
              "        \n",
              "  <svg xmlns=\"http://www.w3.org/2000/svg\" height=\"24px\"viewBox=\"0 0 24 24\"\n",
              "       width=\"24px\">\n",
              "    <path d=\"M0 0h24v24H0V0z\" fill=\"none\"/>\n",
              "    <path d=\"M18.56 5.44l.94 2.06.94-2.06 2.06-.94-2.06-.94-.94-2.06-.94 2.06-2.06.94zm-11 1L8.5 8.5l.94-2.06 2.06-.94-2.06-.94L8.5 2.5l-.94 2.06-2.06.94zm10 10l.94 2.06.94-2.06 2.06-.94-2.06-.94-.94-2.06-.94 2.06-2.06.94z\"/><path d=\"M17.41 7.96l-1.37-1.37c-.4-.4-.92-.59-1.43-.59-.52 0-1.04.2-1.43.59L10.3 9.45l-7.72 7.72c-.78.78-.78 2.05 0 2.83L4 21.41c.39.39.9.59 1.41.59.51 0 1.02-.2 1.41-.59l7.78-7.78 2.81-2.81c.8-.78.8-2.07 0-2.86zM5.41 20L4 18.59l7.72-7.72 1.47 1.35L5.41 20z\"/>\n",
              "  </svg>\n",
              "      </button>\n",
              "      \n",
              "  <style>\n",
              "    .colab-df-container {\n",
              "      display:flex;\n",
              "      flex-wrap:wrap;\n",
              "      gap: 12px;\n",
              "    }\n",
              "\n",
              "    .colab-df-convert {\n",
              "      background-color: #E8F0FE;\n",
              "      border: none;\n",
              "      border-radius: 50%;\n",
              "      cursor: pointer;\n",
              "      display: none;\n",
              "      fill: #1967D2;\n",
              "      height: 32px;\n",
              "      padding: 0 0 0 0;\n",
              "      width: 32px;\n",
              "    }\n",
              "\n",
              "    .colab-df-convert:hover {\n",
              "      background-color: #E2EBFA;\n",
              "      box-shadow: 0px 1px 2px rgba(60, 64, 67, 0.3), 0px 1px 3px 1px rgba(60, 64, 67, 0.15);\n",
              "      fill: #174EA6;\n",
              "    }\n",
              "\n",
              "    [theme=dark] .colab-df-convert {\n",
              "      background-color: #3B4455;\n",
              "      fill: #D2E3FC;\n",
              "    }\n",
              "\n",
              "    [theme=dark] .colab-df-convert:hover {\n",
              "      background-color: #434B5C;\n",
              "      box-shadow: 0px 1px 3px 1px rgba(0, 0, 0, 0.15);\n",
              "      filter: drop-shadow(0px 1px 2px rgba(0, 0, 0, 0.3));\n",
              "      fill: #FFFFFF;\n",
              "    }\n",
              "  </style>\n",
              "\n",
              "      <script>\n",
              "        const buttonEl =\n",
              "          document.querySelector('#df-68a3f2eb-05c7-4a5f-8733-a310f140aec3 button.colab-df-convert');\n",
              "        buttonEl.style.display =\n",
              "          google.colab.kernel.accessAllowed ? 'block' : 'none';\n",
              "\n",
              "        async function convertToInteractive(key) {\n",
              "          const element = document.querySelector('#df-68a3f2eb-05c7-4a5f-8733-a310f140aec3');\n",
              "          const dataTable =\n",
              "            await google.colab.kernel.invokeFunction('convertToInteractive',\n",
              "                                                     [key], {});\n",
              "          if (!dataTable) return;\n",
              "\n",
              "          const docLinkHtml = 'Like what you see? Visit the ' +\n",
              "            '<a target=\"_blank\" href=https://colab.research.google.com/notebooks/data_table.ipynb>data table notebook</a>'\n",
              "            + ' to learn more about interactive tables.';\n",
              "          element.innerHTML = '';\n",
              "          dataTable['output_type'] = 'display_data';\n",
              "          await google.colab.output.renderOutput(dataTable, element);\n",
              "          const docLink = document.createElement('div');\n",
              "          docLink.innerHTML = docLinkHtml;\n",
              "          element.appendChild(docLink);\n",
              "        }\n",
              "      </script>\n",
              "    </div>\n",
              "  </div>\n",
              "  "
            ]
          },
          "metadata": {},
          "execution_count": 12
        }
      ]
    },
    {
      "cell_type": "markdown",
      "source": [
        "As values are denominated to the same base, we can easily compare them. At first sight we see (as an example) that experts refer to Russia much more often, than ordinary users. We also see much more reference to China or nuclear threat."
      ],
      "metadata": {
        "id": "yTFtk60fsXQ_"
      }
    },
    {
      "cell_type": "markdown",
      "source": [
        "And the most interesting part. Let's find words that appear in 'expert' and 'not expert' columns much more often than in the opposite one.\n",
        "To do so, we'll add two columns:\n",
        "'expert_rate' - a share of all word occurances in 'expert' tweets. The higher the value, to more this word is biased towards 'expert' tweets. Value 1.0 means this words occurs only in 'expert' tweets.\n",
        "Let's take a look at top 20 'expert' words. We dropped all words with fewer occurances than 10 in a dataset as irrelevant."
      ],
      "metadata": {
        "id": "tD_z8YURxbBh"
      }
    },
    {
      "cell_type": "code",
      "source": [
        "freq['expert_rate'] = freq['expert'] / freq['total']\n",
        "freq['not_expert_rate'] = freq['not'] / freq['total']"
      ],
      "metadata": {
        "id": "Bz9ALKxavu50"
      },
      "execution_count": null,
      "outputs": []
    },
    {
      "cell_type": "code",
      "source": [
        "freq[freq['total'] > 10].sort_values('expert_rate', ascending = False).head(20)"
      ],
      "metadata": {
        "colab": {
          "base_uri": "https://localhost:8080/",
          "height": 669
        },
        "id": "oPyOTXaoyfvX",
        "outputId": "9334fe63-2764-418c-d386-7125527b2201"
      },
      "execution_count": null,
      "outputs": [
        {
          "output_type": "execute_result",
          "data": {
            "text/plain": [
              "                  not  expert  total  expert_rate  not_expert_rate\n",
              "nr                  0      11     11     1.000000         0.000000\n",
              "wtpblue             0      13     13     1.000000         0.000000\n",
              "vermaut             0      54     54     1.000000         0.000000\n",
              "demvoice            0      17     17     1.000000         0.000000\n",
              "mostshared          0      12     12     1.000000         0.000000\n",
              "mostliked           0      11     11     1.000000         0.000000\n",
              "riskmap             0      17     17     1.000000         0.000000\n",
              "submitted           0      15     15     1.000000         0.000000\n",
              "retrospective       0      18     18     1.000000         0.000000\n",
              "twitters            0      13     13     1.000000         0.000000\n",
              "strongertogether    1     196    197     0.994924         0.005076\n",
              "bb                  2     196    198     0.989899         0.010101\n",
              "shorts              1      65     66     0.984848         0.015152\n",
              "andy                1      61     62     0.983871         0.016129\n",
              "ucrania             1      60     61     0.983607         0.016393\n",
              "cnbc                2      66     68     0.970588         0.029412\n",
              "shares              2      65     67     0.970149         0.029851\n",
              "rusia               2      60     62     0.967742         0.032258\n",
              "nbc                 3      90     93     0.967742         0.032258\n",
              "movie               7     205    212     0.966981         0.033019"
            ],
            "text/html": [
              "\n",
              "  <div id=\"df-cf7ee0da-41aa-44e0-b3c0-5d84a8bfb073\">\n",
              "    <div class=\"colab-df-container\">\n",
              "      <div>\n",
              "<style scoped>\n",
              "    .dataframe tbody tr th:only-of-type {\n",
              "        vertical-align: middle;\n",
              "    }\n",
              "\n",
              "    .dataframe tbody tr th {\n",
              "        vertical-align: top;\n",
              "    }\n",
              "\n",
              "    .dataframe thead th {\n",
              "        text-align: right;\n",
              "    }\n",
              "</style>\n",
              "<table border=\"1\" class=\"dataframe\">\n",
              "  <thead>\n",
              "    <tr style=\"text-align: right;\">\n",
              "      <th></th>\n",
              "      <th>not</th>\n",
              "      <th>expert</th>\n",
              "      <th>total</th>\n",
              "      <th>expert_rate</th>\n",
              "      <th>not_expert_rate</th>\n",
              "    </tr>\n",
              "  </thead>\n",
              "  <tbody>\n",
              "    <tr>\n",
              "      <th>nr</th>\n",
              "      <td>0</td>\n",
              "      <td>11</td>\n",
              "      <td>11</td>\n",
              "      <td>1.000000</td>\n",
              "      <td>0.000000</td>\n",
              "    </tr>\n",
              "    <tr>\n",
              "      <th>wtpblue</th>\n",
              "      <td>0</td>\n",
              "      <td>13</td>\n",
              "      <td>13</td>\n",
              "      <td>1.000000</td>\n",
              "      <td>0.000000</td>\n",
              "    </tr>\n",
              "    <tr>\n",
              "      <th>vermaut</th>\n",
              "      <td>0</td>\n",
              "      <td>54</td>\n",
              "      <td>54</td>\n",
              "      <td>1.000000</td>\n",
              "      <td>0.000000</td>\n",
              "    </tr>\n",
              "    <tr>\n",
              "      <th>demvoice</th>\n",
              "      <td>0</td>\n",
              "      <td>17</td>\n",
              "      <td>17</td>\n",
              "      <td>1.000000</td>\n",
              "      <td>0.000000</td>\n",
              "    </tr>\n",
              "    <tr>\n",
              "      <th>mostshared</th>\n",
              "      <td>0</td>\n",
              "      <td>12</td>\n",
              "      <td>12</td>\n",
              "      <td>1.000000</td>\n",
              "      <td>0.000000</td>\n",
              "    </tr>\n",
              "    <tr>\n",
              "      <th>mostliked</th>\n",
              "      <td>0</td>\n",
              "      <td>11</td>\n",
              "      <td>11</td>\n",
              "      <td>1.000000</td>\n",
              "      <td>0.000000</td>\n",
              "    </tr>\n",
              "    <tr>\n",
              "      <th>riskmap</th>\n",
              "      <td>0</td>\n",
              "      <td>17</td>\n",
              "      <td>17</td>\n",
              "      <td>1.000000</td>\n",
              "      <td>0.000000</td>\n",
              "    </tr>\n",
              "    <tr>\n",
              "      <th>submitted</th>\n",
              "      <td>0</td>\n",
              "      <td>15</td>\n",
              "      <td>15</td>\n",
              "      <td>1.000000</td>\n",
              "      <td>0.000000</td>\n",
              "    </tr>\n",
              "    <tr>\n",
              "      <th>retrospective</th>\n",
              "      <td>0</td>\n",
              "      <td>18</td>\n",
              "      <td>18</td>\n",
              "      <td>1.000000</td>\n",
              "      <td>0.000000</td>\n",
              "    </tr>\n",
              "    <tr>\n",
              "      <th>twitters</th>\n",
              "      <td>0</td>\n",
              "      <td>13</td>\n",
              "      <td>13</td>\n",
              "      <td>1.000000</td>\n",
              "      <td>0.000000</td>\n",
              "    </tr>\n",
              "    <tr>\n",
              "      <th>strongertogether</th>\n",
              "      <td>1</td>\n",
              "      <td>196</td>\n",
              "      <td>197</td>\n",
              "      <td>0.994924</td>\n",
              "      <td>0.005076</td>\n",
              "    </tr>\n",
              "    <tr>\n",
              "      <th>bb</th>\n",
              "      <td>2</td>\n",
              "      <td>196</td>\n",
              "      <td>198</td>\n",
              "      <td>0.989899</td>\n",
              "      <td>0.010101</td>\n",
              "    </tr>\n",
              "    <tr>\n",
              "      <th>shorts</th>\n",
              "      <td>1</td>\n",
              "      <td>65</td>\n",
              "      <td>66</td>\n",
              "      <td>0.984848</td>\n",
              "      <td>0.015152</td>\n",
              "    </tr>\n",
              "    <tr>\n",
              "      <th>andy</th>\n",
              "      <td>1</td>\n",
              "      <td>61</td>\n",
              "      <td>62</td>\n",
              "      <td>0.983871</td>\n",
              "      <td>0.016129</td>\n",
              "    </tr>\n",
              "    <tr>\n",
              "      <th>ucrania</th>\n",
              "      <td>1</td>\n",
              "      <td>60</td>\n",
              "      <td>61</td>\n",
              "      <td>0.983607</td>\n",
              "      <td>0.016393</td>\n",
              "    </tr>\n",
              "    <tr>\n",
              "      <th>cnbc</th>\n",
              "      <td>2</td>\n",
              "      <td>66</td>\n",
              "      <td>68</td>\n",
              "      <td>0.970588</td>\n",
              "      <td>0.029412</td>\n",
              "    </tr>\n",
              "    <tr>\n",
              "      <th>shares</th>\n",
              "      <td>2</td>\n",
              "      <td>65</td>\n",
              "      <td>67</td>\n",
              "      <td>0.970149</td>\n",
              "      <td>0.029851</td>\n",
              "    </tr>\n",
              "    <tr>\n",
              "      <th>rusia</th>\n",
              "      <td>2</td>\n",
              "      <td>60</td>\n",
              "      <td>62</td>\n",
              "      <td>0.967742</td>\n",
              "      <td>0.032258</td>\n",
              "    </tr>\n",
              "    <tr>\n",
              "      <th>nbc</th>\n",
              "      <td>3</td>\n",
              "      <td>90</td>\n",
              "      <td>93</td>\n",
              "      <td>0.967742</td>\n",
              "      <td>0.032258</td>\n",
              "    </tr>\n",
              "    <tr>\n",
              "      <th>movie</th>\n",
              "      <td>7</td>\n",
              "      <td>205</td>\n",
              "      <td>212</td>\n",
              "      <td>0.966981</td>\n",
              "      <td>0.033019</td>\n",
              "    </tr>\n",
              "  </tbody>\n",
              "</table>\n",
              "</div>\n",
              "      <button class=\"colab-df-convert\" onclick=\"convertToInteractive('df-cf7ee0da-41aa-44e0-b3c0-5d84a8bfb073')\"\n",
              "              title=\"Convert this dataframe to an interactive table.\"\n",
              "              style=\"display:none;\">\n",
              "        \n",
              "  <svg xmlns=\"http://www.w3.org/2000/svg\" height=\"24px\"viewBox=\"0 0 24 24\"\n",
              "       width=\"24px\">\n",
              "    <path d=\"M0 0h24v24H0V0z\" fill=\"none\"/>\n",
              "    <path d=\"M18.56 5.44l.94 2.06.94-2.06 2.06-.94-2.06-.94-.94-2.06-.94 2.06-2.06.94zm-11 1L8.5 8.5l.94-2.06 2.06-.94-2.06-.94L8.5 2.5l-.94 2.06-2.06.94zm10 10l.94 2.06.94-2.06 2.06-.94-2.06-.94-.94-2.06-.94 2.06-2.06.94z\"/><path d=\"M17.41 7.96l-1.37-1.37c-.4-.4-.92-.59-1.43-.59-.52 0-1.04.2-1.43.59L10.3 9.45l-7.72 7.72c-.78.78-.78 2.05 0 2.83L4 21.41c.39.39.9.59 1.41.59.51 0 1.02-.2 1.41-.59l7.78-7.78 2.81-2.81c.8-.78.8-2.07 0-2.86zM5.41 20L4 18.59l7.72-7.72 1.47 1.35L5.41 20z\"/>\n",
              "  </svg>\n",
              "      </button>\n",
              "      \n",
              "  <style>\n",
              "    .colab-df-container {\n",
              "      display:flex;\n",
              "      flex-wrap:wrap;\n",
              "      gap: 12px;\n",
              "    }\n",
              "\n",
              "    .colab-df-convert {\n",
              "      background-color: #E8F0FE;\n",
              "      border: none;\n",
              "      border-radius: 50%;\n",
              "      cursor: pointer;\n",
              "      display: none;\n",
              "      fill: #1967D2;\n",
              "      height: 32px;\n",
              "      padding: 0 0 0 0;\n",
              "      width: 32px;\n",
              "    }\n",
              "\n",
              "    .colab-df-convert:hover {\n",
              "      background-color: #E2EBFA;\n",
              "      box-shadow: 0px 1px 2px rgba(60, 64, 67, 0.3), 0px 1px 3px 1px rgba(60, 64, 67, 0.15);\n",
              "      fill: #174EA6;\n",
              "    }\n",
              "\n",
              "    [theme=dark] .colab-df-convert {\n",
              "      background-color: #3B4455;\n",
              "      fill: #D2E3FC;\n",
              "    }\n",
              "\n",
              "    [theme=dark] .colab-df-convert:hover {\n",
              "      background-color: #434B5C;\n",
              "      box-shadow: 0px 1px 3px 1px rgba(0, 0, 0, 0.15);\n",
              "      filter: drop-shadow(0px 1px 2px rgba(0, 0, 0, 0.3));\n",
              "      fill: #FFFFFF;\n",
              "    }\n",
              "  </style>\n",
              "\n",
              "      <script>\n",
              "        const buttonEl =\n",
              "          document.querySelector('#df-cf7ee0da-41aa-44e0-b3c0-5d84a8bfb073 button.colab-df-convert');\n",
              "        buttonEl.style.display =\n",
              "          google.colab.kernel.accessAllowed ? 'block' : 'none';\n",
              "\n",
              "        async function convertToInteractive(key) {\n",
              "          const element = document.querySelector('#df-cf7ee0da-41aa-44e0-b3c0-5d84a8bfb073');\n",
              "          const dataTable =\n",
              "            await google.colab.kernel.invokeFunction('convertToInteractive',\n",
              "                                                     [key], {});\n",
              "          if (!dataTable) return;\n",
              "\n",
              "          const docLinkHtml = 'Like what you see? Visit the ' +\n",
              "            '<a target=\"_blank\" href=https://colab.research.google.com/notebooks/data_table.ipynb>data table notebook</a>'\n",
              "            + ' to learn more about interactive tables.';\n",
              "          element.innerHTML = '';\n",
              "          dataTable['output_type'] = 'display_data';\n",
              "          await google.colab.output.renderOutput(dataTable, element);\n",
              "          const docLink = document.createElement('div');\n",
              "          docLink.innerHTML = docLinkHtml;\n",
              "          element.appendChild(docLink);\n",
              "        }\n",
              "      </script>\n",
              "    </div>\n",
              "  </div>\n",
              "  "
            ]
          },
          "metadata": {},
          "execution_count": 14
        }
      ]
    },
    {
      "cell_type": "markdown",
      "source": [
        "As we can see, these are mostly not \"normal\" words. Let's take an example of \"strongertogether\" which occurs as much as 196 in expert tweets and only once in a 'not expert' tweet. It is a popular hashtag to support Ukraine. Sometimes it is written without a # sign, so it was not filtered and remained in the tweets body.\n",
        "\n",
        "This tells us a lot about the nature of this project. Some words, strongly incriminating expert/non-expert status, may be of a temporal nature. Popular hash tags may disappear after a few weeks and their value for a model may diminish. The other may come in their place. It's something different to kaggle contests and we must remember about this in real world project."
      ],
      "metadata": {
        "id": "8cgRaE-VzbgF"
      }
    },
    {
      "cell_type": "code",
      "source": [
        "freq[freq['total'] > 10].sort_values('not_expert_rate', ascending = False).head(20)"
      ],
      "metadata": {
        "colab": {
          "base_uri": "https://localhost:8080/",
          "height": 669
        },
        "id": "SohIXqRjTv5x",
        "outputId": "91a9d71d-cfbe-47b7-c9d9-5512d42bdab9"
      },
      "execution_count": null,
      "outputs": [
        {
          "output_type": "execute_result",
          "data": {
            "text/plain": [
              "                not  expert  total  expert_rate  not_expert_rate\n",
              "peoples          11       0     11     0.000000         1.000000\n",
              "ukrainianarmy    22       0     22     0.000000         1.000000\n",
              "ruzzia           16       1     17     0.058824         0.941176\n",
              "thats            15       1     16     0.062500         0.937500\n",
              "dude             15       1     16     0.062500         0.937500\n",
              "translation      13       1     14     0.071429         0.928571\n",
              "lmao             13       1     14     0.071429         0.928571\n",
              "im               13       1     14     0.071429         0.928571\n",
              "ukrainewarnews   12       1     13     0.076923         0.923077\n",
              "ur               11       1     12     0.083333         0.916667\n",
              "rus              11       1     12     0.083333         0.916667\n",
              "clown            10       1     11     0.090909         0.909091\n",
              "ya               10       1     11     0.090909         0.909091\n",
              "fine             18       2     20     0.100000         0.900000\n",
              "damn             18       2     20     0.100000         0.900000\n",
              "bless            16       2     18     0.111111         0.888889\n",
              "dont             28       4     32     0.125000         0.875000\n",
              "crap             13       2     15     0.133333         0.866667\n",
              "bc               13       2     15     0.133333         0.866667\n",
              "shame            19       3     22     0.136364         0.863636"
            ],
            "text/html": [
              "\n",
              "  <div id=\"df-3599cb0d-d841-4590-b7e3-a96665e9b36e\">\n",
              "    <div class=\"colab-df-container\">\n",
              "      <div>\n",
              "<style scoped>\n",
              "    .dataframe tbody tr th:only-of-type {\n",
              "        vertical-align: middle;\n",
              "    }\n",
              "\n",
              "    .dataframe tbody tr th {\n",
              "        vertical-align: top;\n",
              "    }\n",
              "\n",
              "    .dataframe thead th {\n",
              "        text-align: right;\n",
              "    }\n",
              "</style>\n",
              "<table border=\"1\" class=\"dataframe\">\n",
              "  <thead>\n",
              "    <tr style=\"text-align: right;\">\n",
              "      <th></th>\n",
              "      <th>not</th>\n",
              "      <th>expert</th>\n",
              "      <th>total</th>\n",
              "      <th>expert_rate</th>\n",
              "      <th>not_expert_rate</th>\n",
              "    </tr>\n",
              "  </thead>\n",
              "  <tbody>\n",
              "    <tr>\n",
              "      <th>peoples</th>\n",
              "      <td>11</td>\n",
              "      <td>0</td>\n",
              "      <td>11</td>\n",
              "      <td>0.000000</td>\n",
              "      <td>1.000000</td>\n",
              "    </tr>\n",
              "    <tr>\n",
              "      <th>ukrainianarmy</th>\n",
              "      <td>22</td>\n",
              "      <td>0</td>\n",
              "      <td>22</td>\n",
              "      <td>0.000000</td>\n",
              "      <td>1.000000</td>\n",
              "    </tr>\n",
              "    <tr>\n",
              "      <th>ruzzia</th>\n",
              "      <td>16</td>\n",
              "      <td>1</td>\n",
              "      <td>17</td>\n",
              "      <td>0.058824</td>\n",
              "      <td>0.941176</td>\n",
              "    </tr>\n",
              "    <tr>\n",
              "      <th>thats</th>\n",
              "      <td>15</td>\n",
              "      <td>1</td>\n",
              "      <td>16</td>\n",
              "      <td>0.062500</td>\n",
              "      <td>0.937500</td>\n",
              "    </tr>\n",
              "    <tr>\n",
              "      <th>dude</th>\n",
              "      <td>15</td>\n",
              "      <td>1</td>\n",
              "      <td>16</td>\n",
              "      <td>0.062500</td>\n",
              "      <td>0.937500</td>\n",
              "    </tr>\n",
              "    <tr>\n",
              "      <th>translation</th>\n",
              "      <td>13</td>\n",
              "      <td>1</td>\n",
              "      <td>14</td>\n",
              "      <td>0.071429</td>\n",
              "      <td>0.928571</td>\n",
              "    </tr>\n",
              "    <tr>\n",
              "      <th>lmao</th>\n",
              "      <td>13</td>\n",
              "      <td>1</td>\n",
              "      <td>14</td>\n",
              "      <td>0.071429</td>\n",
              "      <td>0.928571</td>\n",
              "    </tr>\n",
              "    <tr>\n",
              "      <th>im</th>\n",
              "      <td>13</td>\n",
              "      <td>1</td>\n",
              "      <td>14</td>\n",
              "      <td>0.071429</td>\n",
              "      <td>0.928571</td>\n",
              "    </tr>\n",
              "    <tr>\n",
              "      <th>ukrainewarnews</th>\n",
              "      <td>12</td>\n",
              "      <td>1</td>\n",
              "      <td>13</td>\n",
              "      <td>0.076923</td>\n",
              "      <td>0.923077</td>\n",
              "    </tr>\n",
              "    <tr>\n",
              "      <th>ur</th>\n",
              "      <td>11</td>\n",
              "      <td>1</td>\n",
              "      <td>12</td>\n",
              "      <td>0.083333</td>\n",
              "      <td>0.916667</td>\n",
              "    </tr>\n",
              "    <tr>\n",
              "      <th>rus</th>\n",
              "      <td>11</td>\n",
              "      <td>1</td>\n",
              "      <td>12</td>\n",
              "      <td>0.083333</td>\n",
              "      <td>0.916667</td>\n",
              "    </tr>\n",
              "    <tr>\n",
              "      <th>clown</th>\n",
              "      <td>10</td>\n",
              "      <td>1</td>\n",
              "      <td>11</td>\n",
              "      <td>0.090909</td>\n",
              "      <td>0.909091</td>\n",
              "    </tr>\n",
              "    <tr>\n",
              "      <th>ya</th>\n",
              "      <td>10</td>\n",
              "      <td>1</td>\n",
              "      <td>11</td>\n",
              "      <td>0.090909</td>\n",
              "      <td>0.909091</td>\n",
              "    </tr>\n",
              "    <tr>\n",
              "      <th>fine</th>\n",
              "      <td>18</td>\n",
              "      <td>2</td>\n",
              "      <td>20</td>\n",
              "      <td>0.100000</td>\n",
              "      <td>0.900000</td>\n",
              "    </tr>\n",
              "    <tr>\n",
              "      <th>damn</th>\n",
              "      <td>18</td>\n",
              "      <td>2</td>\n",
              "      <td>20</td>\n",
              "      <td>0.100000</td>\n",
              "      <td>0.900000</td>\n",
              "    </tr>\n",
              "    <tr>\n",
              "      <th>bless</th>\n",
              "      <td>16</td>\n",
              "      <td>2</td>\n",
              "      <td>18</td>\n",
              "      <td>0.111111</td>\n",
              "      <td>0.888889</td>\n",
              "    </tr>\n",
              "    <tr>\n",
              "      <th>dont</th>\n",
              "      <td>28</td>\n",
              "      <td>4</td>\n",
              "      <td>32</td>\n",
              "      <td>0.125000</td>\n",
              "      <td>0.875000</td>\n",
              "    </tr>\n",
              "    <tr>\n",
              "      <th>crap</th>\n",
              "      <td>13</td>\n",
              "      <td>2</td>\n",
              "      <td>15</td>\n",
              "      <td>0.133333</td>\n",
              "      <td>0.866667</td>\n",
              "    </tr>\n",
              "    <tr>\n",
              "      <th>bc</th>\n",
              "      <td>13</td>\n",
              "      <td>2</td>\n",
              "      <td>15</td>\n",
              "      <td>0.133333</td>\n",
              "      <td>0.866667</td>\n",
              "    </tr>\n",
              "    <tr>\n",
              "      <th>shame</th>\n",
              "      <td>19</td>\n",
              "      <td>3</td>\n",
              "      <td>22</td>\n",
              "      <td>0.136364</td>\n",
              "      <td>0.863636</td>\n",
              "    </tr>\n",
              "  </tbody>\n",
              "</table>\n",
              "</div>\n",
              "      <button class=\"colab-df-convert\" onclick=\"convertToInteractive('df-3599cb0d-d841-4590-b7e3-a96665e9b36e')\"\n",
              "              title=\"Convert this dataframe to an interactive table.\"\n",
              "              style=\"display:none;\">\n",
              "        \n",
              "  <svg xmlns=\"http://www.w3.org/2000/svg\" height=\"24px\"viewBox=\"0 0 24 24\"\n",
              "       width=\"24px\">\n",
              "    <path d=\"M0 0h24v24H0V0z\" fill=\"none\"/>\n",
              "    <path d=\"M18.56 5.44l.94 2.06.94-2.06 2.06-.94-2.06-.94-.94-2.06-.94 2.06-2.06.94zm-11 1L8.5 8.5l.94-2.06 2.06-.94-2.06-.94L8.5 2.5l-.94 2.06-2.06.94zm10 10l.94 2.06.94-2.06 2.06-.94-2.06-.94-.94-2.06-.94 2.06-2.06.94z\"/><path d=\"M17.41 7.96l-1.37-1.37c-.4-.4-.92-.59-1.43-.59-.52 0-1.04.2-1.43.59L10.3 9.45l-7.72 7.72c-.78.78-.78 2.05 0 2.83L4 21.41c.39.39.9.59 1.41.59.51 0 1.02-.2 1.41-.59l7.78-7.78 2.81-2.81c.8-.78.8-2.07 0-2.86zM5.41 20L4 18.59l7.72-7.72 1.47 1.35L5.41 20z\"/>\n",
              "  </svg>\n",
              "      </button>\n",
              "      \n",
              "  <style>\n",
              "    .colab-df-container {\n",
              "      display:flex;\n",
              "      flex-wrap:wrap;\n",
              "      gap: 12px;\n",
              "    }\n",
              "\n",
              "    .colab-df-convert {\n",
              "      background-color: #E8F0FE;\n",
              "      border: none;\n",
              "      border-radius: 50%;\n",
              "      cursor: pointer;\n",
              "      display: none;\n",
              "      fill: #1967D2;\n",
              "      height: 32px;\n",
              "      padding: 0 0 0 0;\n",
              "      width: 32px;\n",
              "    }\n",
              "\n",
              "    .colab-df-convert:hover {\n",
              "      background-color: #E2EBFA;\n",
              "      box-shadow: 0px 1px 2px rgba(60, 64, 67, 0.3), 0px 1px 3px 1px rgba(60, 64, 67, 0.15);\n",
              "      fill: #174EA6;\n",
              "    }\n",
              "\n",
              "    [theme=dark] .colab-df-convert {\n",
              "      background-color: #3B4455;\n",
              "      fill: #D2E3FC;\n",
              "    }\n",
              "\n",
              "    [theme=dark] .colab-df-convert:hover {\n",
              "      background-color: #434B5C;\n",
              "      box-shadow: 0px 1px 3px 1px rgba(0, 0, 0, 0.15);\n",
              "      filter: drop-shadow(0px 1px 2px rgba(0, 0, 0, 0.3));\n",
              "      fill: #FFFFFF;\n",
              "    }\n",
              "  </style>\n",
              "\n",
              "      <script>\n",
              "        const buttonEl =\n",
              "          document.querySelector('#df-3599cb0d-d841-4590-b7e3-a96665e9b36e button.colab-df-convert');\n",
              "        buttonEl.style.display =\n",
              "          google.colab.kernel.accessAllowed ? 'block' : 'none';\n",
              "\n",
              "        async function convertToInteractive(key) {\n",
              "          const element = document.querySelector('#df-3599cb0d-d841-4590-b7e3-a96665e9b36e');\n",
              "          const dataTable =\n",
              "            await google.colab.kernel.invokeFunction('convertToInteractive',\n",
              "                                                     [key], {});\n",
              "          if (!dataTable) return;\n",
              "\n",
              "          const docLinkHtml = 'Like what you see? Visit the ' +\n",
              "            '<a target=\"_blank\" href=https://colab.research.google.com/notebooks/data_table.ipynb>data table notebook</a>'\n",
              "            + ' to learn more about interactive tables.';\n",
              "          element.innerHTML = '';\n",
              "          dataTable['output_type'] = 'display_data';\n",
              "          await google.colab.output.renderOutput(dataTable, element);\n",
              "          const docLink = document.createElement('div');\n",
              "          docLink.innerHTML = docLinkHtml;\n",
              "          element.appendChild(docLink);\n",
              "        }\n",
              "      </script>\n",
              "    </div>\n",
              "  </div>\n",
              "  "
            ]
          },
          "metadata": {},
          "execution_count": 15
        }
      ]
    },
    {
      "cell_type": "markdown",
      "source": [
        "Now let's come back to our engineered features - at count, hash count, link count and badwords count. Let's see if they differentiate the classes.\n",
        "\n",
        "We start with tweet length.\n",
        "As some tweets are very long, for the sake of this plot we'll treat them as outliers and drop all tweets longer than 400 chars (there are less than 500 such tweets in our dataframe)."
      ],
      "metadata": {
        "id": "1l6cSu19VECI"
      }
    },
    {
      "cell_type": "code",
      "source": [
        "df400 = df[df['len'] < 400]"
      ],
      "metadata": {
        "id": "seRfjpX4eOUw"
      },
      "execution_count": null,
      "outputs": []
    },
    {
      "cell_type": "markdown",
      "source": [
        "As some users have millions of followers, we'll plot a scatter with a followersCount (we call it 'num' in our dataset) on a log scale."
      ],
      "metadata": {
        "id": "Zo00h1Rveuzs"
      }
    },
    {
      "cell_type": "code",
      "source": [
        "import matplotlib.pyplot as plt\n",
        "import seaborn as sns"
      ],
      "metadata": {
        "id": "nSmTYZ18fkcv"
      },
      "execution_count": null,
      "outputs": []
    },
    {
      "cell_type": "code",
      "source": [
        "plt.scatter(np.log(df400['num']), df400['len'], s = 8)\n",
        "plt.xlabel('followers count')\n",
        "plt.ylabel('tweet length')\n",
        "plt.show()"
      ],
      "metadata": {
        "colab": {
          "base_uri": "https://localhost:8080/",
          "height": 313
        },
        "id": "yc-z-8RAf5R8",
        "outputId": "845d16bc-bae8-4df9-aa4d-a25ced5a955d"
      },
      "execution_count": null,
      "outputs": [
        {
          "output_type": "stream",
          "name": "stderr",
          "text": [
            "/usr/local/lib/python3.7/dist-packages/pandas/core/arraylike.py:364: RuntimeWarning: divide by zero encountered in log\n",
            "  result = getattr(ufunc, method)(*inputs, **kwargs)\n"
          ]
        },
        {
          "output_type": "display_data",
          "data": {
            "text/plain": [
              "<Figure size 432x288 with 1 Axes>"
            ],
            "image/png": "[encoded data removed]"
          },
          "metadata": {
            "needs_background": "light"
          }
        }
      ]
    },
    {
      "cell_type": "markdown",
      "source": [
        "No clear pattern has emerged. We will get the same with histpolot or boxplot or measure of correlation - no clear relationship. Tweet length is not a statistically significant feature for our project."
      ],
      "metadata": {
        "id": "c0t-sUE7f9uH"
      }
    },
    {
      "cell_type": "markdown",
      "source": [
        "In a next step, we'll take a look at 'at', 'hash', 'links' and 'badwords' features. All histograms below are normalized so that expert / non-expert counts are equalized."
      ],
      "metadata": {
        "id": "zgjRDxp-g-Aq"
      }
    },
    {
      "cell_type": "code",
      "source": [
        "def print_col_hist(COL):\n",
        "    bins = len(df[COL].value_counts())\n",
        "    sns.displot(df, x = COL, hue = \"expert\", stat = \"density\", common_norm = False, bins = bins,\n",
        "                shrink = 0.7, discrete = True, legend = False)\n",
        "    plt.xticks(np.arange(4))\n",
        "    plt.legend(labels = ['expert', 'not expert'])\n",
        "    plt.show()"
      ],
      "metadata": {
        "id": "nD-bt_E_ixWd"
      },
      "execution_count": null,
      "outputs": []
    },
    {
      "cell_type": "code",
      "source": [
        "print_col_hist('at')"
      ],
      "metadata": {
        "colab": {
          "base_uri": "https://localhost:8080/",
          "height": 369
        },
        "id": "boHBXqlbi7q_",
        "outputId": "f45740b7-a70c-4924-b0eb-62f7ac8459ea"
      },
      "execution_count": null,
      "outputs": [
        {
          "output_type": "display_data",
          "data": {
            "text/plain": [
              "<Figure size 360x360 with 1 Axes>"
            ],
            "image/png": "[encoded data removed]"
          },
          "metadata": {
            "needs_background": "light"
          }
        }
      ]
    },
    {
      "cell_type": "markdown",
      "source": [
        "We see non-experts use '@name' much more often than experts. Looks like a significant feature."
      ],
      "metadata": {
        "id": "WtryNLw8jAsb"
      }
    },
    {
      "cell_type": "code",
      "source": [
        "print_col_hist('hash')"
      ],
      "metadata": {
        "colab": {
          "base_uri": "https://localhost:8080/",
          "height": 369
        },
        "id": "_4Gm508NjRIA",
        "outputId": "3ebaa264-6500-4ad7-8dd9-9ac0a3c4ce41"
      },
      "execution_count": null,
      "outputs": [
        {
          "output_type": "display_data",
          "data": {
            "text/plain": [
              "<Figure size 360x360 with 1 Axes>"
            ],
            "image/png": "[encoded data removed]"
          },
          "metadata": {
            "needs_background": "light"
          }
        }
      ]
    },
    {
      "cell_type": "markdown",
      "source": [
        "There are much fewer hashes than @ in our tweets, but if they appear, we see them much more often in experts' tweets."
      ],
      "metadata": {
        "id": "i7ELKwiZjVtZ"
      }
    },
    {
      "cell_type": "code",
      "source": [
        "print_col_hist('links')"
      ],
      "metadata": {
        "colab": {
          "base_uri": "https://localhost:8080/",
          "height": 369
        },
        "id": "LKkXA3RAjiiR",
        "outputId": "98cb3801-d971-43c7-ea68-20ad34981349"
      },
      "execution_count": null,
      "outputs": [
        {
          "output_type": "display_data",
          "data": {
            "text/plain": [
              "<Figure size 360x360 with 1 Axes>"
            ],
            "image/png": "[encoded data removed]"
          },
          "metadata": {
            "needs_background": "light"
          }
        }
      ]
    },
    {
      "cell_type": "markdown",
      "source": [
        "Again - experts link to the websites much more often than non-experts."
      ],
      "metadata": {
        "id": "_xH-VYysjlt9"
      }
    },
    {
      "cell_type": "code",
      "source": [
        "print_col_hist('badwords')"
      ],
      "metadata": {
        "colab": {
          "base_uri": "https://localhost:8080/",
          "height": 369
        },
        "id": "6LkEpRgxjxIm",
        "outputId": "57ce289c-c36d-4be6-af4e-91387ff50fa3"
      },
      "execution_count": null,
      "outputs": [
        {
          "output_type": "display_data",
          "data": {
            "text/plain": [
              "<Figure size 360x360 with 1 Axes>"
            ],
            "image/png": "[encoded data removed]"
          },
          "metadata": {
            "needs_background": "light"
          }
        }
      ]
    },
    {
      "cell_type": "markdown",
      "source": [
        "Honestly, there are much fewer badwords in our tweets than I expected, but our intuition that if used, they would appear more often in non-expert tweets proves to be true."
      ],
      "metadata": {
        "id": "33-urQTfj0HQ"
      }
    },
    {
      "cell_type": "markdown",
      "source": [
        "**BUILDING A MODEL**"
      ],
      "metadata": {
        "id": "c8mc6JCblqUj"
      }
    },
    {
      "cell_type": "markdown",
      "source": [
        "It's high time to build our model.\n",
        "Before we dive deep into exploring vocabulary, let's build a base model using only our engineered features - at, links, hash and badwords count.\n",
        "\n",
        "We'll use four simple models:\n",
        "\n",
        "*   Logistic Regression\n",
        "*   Lasso\n",
        "*   Ridge\n",
        "*   Naive Bayes\n",
        "\n",
        "We'll test all of them on a 5-fold StratifiedKFold.\n"
      ],
      "metadata": {
        "id": "xZs9IVnNlv6M"
      }
    },
    {
      "cell_type": "markdown",
      "source": [
        "**Choosing metrics**\n",
        "Before we move forward with the models (wich are very basic and you'll learn nothing new here, honestly), it's time to take a look at the metrics.\n",
        "\n",
        "Our dataset is very unbalanced - just to remind - only 6,8% of our tweets come from experts."
      ],
      "metadata": {
        "id": "u8vrsnzrpXaC"
      }
    },
    {
      "cell_type": "code",
      "source": [
        "sns.countplot(data = df, x = 'expert')"
      ],
      "metadata": {
        "colab": {
          "base_uri": "https://localhost:8080/",
          "height": 296
        },
        "id": "M-ADsibUpqZ1",
        "outputId": "a5fdd53e-8f42-445f-b88c-ce0a08543b48"
      },
      "execution_count": null,
      "outputs": [
        {
          "output_type": "execute_result",
          "data": {
            "text/plain": [
              "<matplotlib.axes._subplots.AxesSubplot at 0x7fec66750e90>"
            ]
          },
          "metadata": {},
          "execution_count": 22
        },
        {
          "output_type": "display_data",
          "data": {
            "text/plain": [
              "<Figure size 432x288 with 1 Axes>"
            ],
            "image/png": "[encoded data removed]"
          },
          "metadata": {
            "needs_background": "light"
          }
        }
      ]
    },
    {
      "cell_type": "markdown",
      "source": [
        "That makes accuracy a very weak and misleading metric, of course. Just by labelling each record as \"not expert\" we could reach almost 93% accuracy."
      ],
      "metadata": {
        "id": "lccHc1PvqR8o"
      }
    },
    {
      "cell_type": "markdown",
      "source": [
        "A natural choice of metrics for imbalanced datasets are precision, recall and their combination called F1.\n",
        "\n",
        "But here really interesting things begin. Let's begin with a LogisticRegression model and F1 as a metric."
      ],
      "metadata": {
        "id": "xurFEdwJrezo"
      }
    },
    {
      "cell_type": "code",
      "source": [
        "from sklearn.linear_model import LogisticRegression, Lasso, Ridge\n",
        "from sklearn.naive_bayes import MultinomialNB\n",
        "from sklearn.model_selection import StratifiedKFold, train_test_split\n",
        "from sklearn.metrics import classification_report, confusion_matrix\n",
        "from sklearn.metrics import f1_score"
      ],
      "metadata": {
        "id": "-ZTdL3ZCr9I4"
      },
      "execution_count": null,
      "outputs": []
    },
    {
      "cell_type": "code",
      "source": [
        "cols = 'at hash links badwords'.split()\n",
        "X = df[cols] # feature scaling with any Scaler not necessary for linear models nor for Naive Bayes\n",
        "y = df['expert']"
      ],
      "metadata": {
        "id": "7LaVi5h0tJRi"
      },
      "execution_count": null,
      "outputs": []
    },
    {
      "cell_type": "code",
      "source": [
        "xtrain, xtest, ytrain, ytest = train_test_split(X, y, test_size = 0.2)"
      ],
      "metadata": {
        "id": "1r7ZTR8ovuSE"
      },
      "execution_count": null,
      "outputs": []
    },
    {
      "cell_type": "code",
      "source": [
        "model = LogisticRegression()\n",
        "model.fit(xtrain, ytrain)\n",
        "ypreds = model.predict(xtest)"
      ],
      "metadata": {
        "id": "4BmFEMhewETE"
      },
      "execution_count": null,
      "outputs": []
    },
    {
      "cell_type": "markdown",
      "source": [
        "Let's see the results. What's the distribution of classes in our ypreds array."
      ],
      "metadata": {
        "id": "-ztlnyttx-9e"
      }
    },
    {
      "cell_type": "code",
      "source": [
        "unique, counts = np.unique(ypreds, return_counts=True)\n",
        "print(np.asarray((unique, counts)).T)"
      ],
      "metadata": {
        "colab": {
          "base_uri": "https://localhost:8080/"
        },
        "id": "lSo0WRLOwvAI",
        "outputId": "bc0c9617-0923-4bb1-8b42-bf0860c6005e"
      },
      "execution_count": null,
      "outputs": [
        {
          "output_type": "stream",
          "name": "stdout",
          "text": [
            "[[    0 19947]]\n"
          ]
        }
      ]
    },
    {
      "cell_type": "markdown",
      "source": [
        "It looks like our model predicted all values as \"not expert\".\n",
        "It resulted in a confusion matrix and F1 measures like below."
      ],
      "metadata": {
        "id": "SNF0yaA_yIsm"
      }
    },
    {
      "cell_type": "code",
      "source": [
        "print(confusion_matrix(ytest, ypreds))"
      ],
      "metadata": {
        "colab": {
          "base_uri": "https://localhost:8080/"
        },
        "id": "oC88cCEPxtWO",
        "outputId": "a83b7b9a-afd4-491e-bb91-bc242d9bec10"
      },
      "execution_count": null,
      "outputs": [
        {
          "output_type": "stream",
          "name": "stdout",
          "text": [
            "[[18559     0]\n",
            " [ 1388     0]]\n"
          ]
        }
      ]
    },
    {
      "cell_type": "code",
      "source": [
        "print(f1_score(ytest, ypreds))"
      ],
      "metadata": {
        "colab": {
          "base_uri": "https://localhost:8080/"
        },
        "id": "X9IDvxChx4Rc",
        "outputId": "b23a648e-4775-4795-f674-1cd0eb0b3c91"
      },
      "execution_count": null,
      "outputs": [
        {
          "output_type": "stream",
          "name": "stdout",
          "text": [
            "0.0\n"
          ]
        }
      ]
    },
    {
      "cell_type": "markdown",
      "source": [
        "The problem is in inbalanced nature of the dataset.\n",
        "Our model.predict() method uses as a default a 0.5 threshold to divide a dataset to the classes in a binary classification.\n",
        "\n",
        "There are a couple of methods to deal with this challenge. My favourite one is at the same time the simplest. In such a case I always choose brute force. A function below checks F1 metric for all thresholds in a range from 0.01 to 0.99 and picks the one with the highest metric."
      ],
      "metadata": {
        "id": "4ahqpco_zgf7"
      }
    },
    {
      "cell_type": "code",
      "source": [
        "ypreds_proba = model.predict_proba(xtest)"
      ],
      "metadata": {
        "id": "LRjQ6-4k1XLG"
      },
      "execution_count": null,
      "outputs": []
    },
    {
      "cell_type": "code",
      "source": [
        "ypreds_temp = np.zeros(ypreds.shape[0])\n",
        "\n",
        "f1scores = []\n",
        "for t in np.arange(0.01, 1, 0.01):\n",
        "    ypreds_temp = np.where(ypreds_proba[:, 0] > t, 0, 1)\n",
        "    f1 = f1_score(ytest, ypreds_temp)\n",
        "    f1scores.append((t, f1))"
      ],
      "metadata": {
        "id": "BZgEtxHM0arB"
      },
      "execution_count": null,
      "outputs": []
    },
    {
      "cell_type": "markdown",
      "source": [
        "f1scores is a list of tuples. Each tuple contains a threshold level 't' and an F1 metric for a given threashold.\n",
        "\n",
        "Let's see how it looks like on a plot."
      ],
      "metadata": {
        "id": "ggDP7QJd15ha"
      }
    },
    {
      "cell_type": "code",
      "source": [
        "f1scores = pd.DataFrame(f1scores)\n",
        "f1scores.columns = 'thresh f1'.split()\n",
        "threshold = f1scores.loc[f1scores['f1'].idxmax(), 'thresh']\n",
        "max_f1 = f1scores['f1'].max()\n",
        "\n",
        "plt.scatter(f1scores.iloc[:, 0], f1scores.iloc[:, 1], s = 10)"
      ],
      "metadata": {
        "colab": {
          "base_uri": "https://localhost:8080/",
          "height": 282
        },
        "id": "LqQp6in51sb7",
        "outputId": "e1c7f5e5-3701-487a-ce59-6f6dfbb07906"
      },
      "execution_count": null,
      "outputs": [
        {
          "output_type": "execute_result",
          "data": {
            "text/plain": [
              "<matplotlib.collections.PathCollection at 0x7fec6681a950>"
            ]
          },
          "metadata": {},
          "execution_count": 32
        },
        {
          "output_type": "display_data",
          "data": {
            "text/plain": [
              "<Figure size 432x288 with 1 Axes>"
            ],
            "image/png": "[encoded data removed]"
          },
          "metadata": {
            "needs_background": "light"
          }
        }
      ]
    },
    {
      "cell_type": "code",
      "source": [
        "print(f\"Best F1 equals {max_f1:.3f} at a threshold {threshold}\")"
      ],
      "metadata": {
        "colab": {
          "base_uri": "https://localhost:8080/"
        },
        "id": "ExirwA3d2L9m",
        "outputId": "a3c854b3-f851-4a0f-8c5e-8dcced7334ad"
      },
      "execution_count": null,
      "outputs": [
        {
          "output_type": "stream",
          "name": "stdout",
          "text": [
            "Best F1 equals 0.231 at a threshold 0.92\n"
          ]
        }
      ]
    },
    {
      "cell_type": "markdown",
      "source": [
        "That's interesting - we reached F1 0.23 at a threshold 0.92!\n",
        "That is far from good yet, but it's so much more than 0.00 at a 0.5 threshold :-)\n",
        "We can see on a plot any positive F1 values begin around 0.75 threshold. We'll observe the same with all other models we'll test in this notebook."
      ],
      "metadata": {
        "id": "OjWQu8552dng"
      }
    },
    {
      "cell_type": "markdown",
      "source": [
        "Let's try it on a couple of models with a StratifiedKFold"
      ],
      "metadata": {
        "id": "LM4urIha1_Pe"
      }
    },
    {
      "cell_type": "code",
      "source": [
        "from sklearn.linear_model import LogisticRegression\n",
        "from sklearn.naive_bayes import MultinomialNB, BernoulliNB\n",
        "from sklearn.tree import DecisionTreeClassifier\n",
        "from sklearn.model_selection import StratifiedKFold\n",
        "from sklearn.metrics import f1_score"
      ],
      "metadata": {
        "id": "M6T7lYOd2Gv5"
      },
      "execution_count": null,
      "outputs": []
    },
    {
      "cell_type": "code",
      "source": [
        "X = X.to_numpy()\n",
        "y = y.to_numpy()"
      ],
      "metadata": {
        "id": "mreUvQdF2ReY"
      },
      "execution_count": null,
      "outputs": []
    },
    {
      "cell_type": "code",
      "source": [
        "models = [\n",
        "    LogisticRegression(),\n",
        "    DecisionTreeClassifier(),\n",
        "    BernoulliNB(),\n",
        "    MultinomialNB(),\n",
        "]\n",
        "\n",
        "all_models = []\n",
        "for model in models:\n",
        "    model_result = {}\n",
        "    fold = StratifiedKFold(n_splits = 5, shuffle = True, random_state = 100)\n",
        "    best_f1 = []\n",
        "\n",
        "    for i, (trainidx, testidx) in enumerate(fold.split(X, y)):\n",
        "        xtrain, ytrain = X[trainidx], y[trainidx]\n",
        "        xtest, ytest = X[testidx], y[testidx]\n",
        "        f1scores = []\n",
        "\n",
        "        model = model\n",
        "        model.fit(xtrain, ytrain)\n",
        "        ypreds_proba = model.predict_proba(xtest)\n",
        "        ypreds_temp = np.zeros(ypreds_proba.shape[0])\n",
        "\n",
        "        for t in np.arange(0.01, 1, 0.01):\n",
        "            ypreds_temp = np.where(ypreds_proba[:, 0] > t, 0, 1)\n",
        "            f1 = f1_score(ytest, ypreds_temp)\n",
        "            f1scores.append((t, f1))\n",
        "\n",
        "\n",
        "        f1scores_df = pd.DataFrame(f1scores)\n",
        "        f1scores_df.columns = 'thresh f1'.split()\n",
        "        threshold = f1scores_df.loc[f1scores_df['f1'].idxmax(), 'thresh']\n",
        "        max_f1 = f1scores_df['f1'].max()\n",
        "        best_f1.append(max_f1)\n",
        "\n",
        "\n",
        "    model_result['model'] = model\n",
        "    model_result['bestf1'] = np.mean(best_f1)\n",
        "    all_models.append(model_result)\n",
        "    print(f\"Best F1 result for {model} is {np.mean(best_f1):.3f}\")\n",
        "\n",
        "\n",
        "all_models_df = pd.DataFrame(all_models)\n",
        "print('\\n')\n",
        "print((all_models_df.set_index('model')))"
      ],
      "metadata": {
        "colab": {
          "base_uri": "https://localhost:8080/"
        },
        "id": "jmgTav-n2d-1",
        "outputId": "f448c4c0-196e-4252-fbde-5b13cb9f5627"
      },
      "execution_count": null,
      "outputs": [
        {
          "output_type": "stream",
          "name": "stdout",
          "text": [
            "Best F1 result for LogisticRegression() is 0.228\n",
            "Best F1 result for DecisionTreeClassifier() is 0.233\n",
            "Best F1 result for BernoulliNB() is 0.227\n",
            "Best F1 result for MultinomialNB() is 0.225\n",
            "\n",
            "\n",
            "                            bestf1\n",
            "model                             \n",
            "LogisticRegression()      0.228308\n",
            "DecisionTreeClassifier()  0.233300\n",
            "BernoulliNB()             0.227033\n",
            "MultinomialNB()           0.225409\n"
          ]
        }
      ]
    },
    {
      "cell_type": "markdown",
      "source": [
        "All models produce roughtly the same best F1 result from the engineered features. I doubt more can be squeezed out of these. Let's move forward to the tweets' vocabulary!"
      ],
      "metadata": {
        "id": "Yz2Lt-RX3Swc"
      }
    },
    {
      "cell_type": "markdown",
      "source": [
        "**TFIDF**\n",
        "\n",
        "We will explore three variants:\n",
        "\n",
        "*   TFIDF with ngrams (1,1) to (1, 3) on a LogisticRegression and NaiveBayes models\n",
        "*   TFIDF with grams (1,1) to (1, 3) chi2 selection on a LogisticRegresion and NaiveBayes model\n",
        "*   TFIDF with chi2 selection and engineered features on a Keras model\n",
        "\n",
        "Our tests showed removing stopwords has a... negative impact on a result, so we'll keep stopwords in a vectorized vocabulary.\n",
        "\n",
        "I had to reduce max_features to 2000 due to memory issues.\n",
        "With max_features = 5000 F1 values would be around 0.01-0.02 higher.\n",
        "\n",
        "For simplicity we dropped kfold verification and only applied train/test split once."
      ],
      "metadata": {
        "id": "CPIu29Hl4lJv"
      }
    },
    {
      "cell_type": "code",
      "source": [
        "from sklearn.feature_extraction.text import TfidfVectorizer\n",
        "from sklearn.model_selection import train_test_split"
      ],
      "metadata": {
        "id": "3XhJ29QkHclD"
      },
      "execution_count": null,
      "outputs": []
    },
    {
      "cell_type": "code",
      "source": [
        "y = df['expert']\n",
        "models = [\n",
        "    LogisticRegression(),\n",
        "    MultinomialNB(),\n",
        "    BernoulliNB()\n",
        "]\n",
        "\n",
        "all_results = []\n",
        "for model in models:\n",
        "    for n in range(1, 4):\n",
        "        vectorizer = TfidfVectorizer(max_features = 2000, ngram_range = (1, n))\n",
        "        X = vectorizer.fit_transform(df['processed'])\n",
        "        X = X.toarray()\n",
        "        results_dict = {}\n",
        "\n",
        "        xtrain, xtest, ytrain, ytest = train_test_split(X, y, train_size = 0.8)\n",
        "        model.fit(xtrain, ytrain)\n",
        "        ypreds = model.predict(xtest)\n",
        "        # print(classification_report(ytest, ypreds))\n",
        "\n",
        "        # f1_score(ytest, ypreds)\n",
        "\n",
        "        ypreds_proba = model.predict_proba(xtest)\n",
        "\n",
        "        # unique, counts = np.unique(ypreds, return_counts=True)\n",
        "        # print(np.asarray((unique, counts)).T)\n",
        "\n",
        "        ypreds_temp = np.zeros(ypreds.shape[0])\n",
        "\n",
        "        f1scores = []\n",
        "        for t in np.arange(0, 1, 0.01):\n",
        "            ypreds_temp = np.where(ypreds_proba[:, 0] > t, 0, 1)\n",
        "            f1 = f1_score(ytest, ypreds_temp)\n",
        "            f1scores.append((t, f1))\n",
        "\n",
        "        f1scores = pd.DataFrame(f1scores)\n",
        "        f1scores.columns = 'thresh f1'.split()\n",
        "        threshold = f1scores.loc[f1scores['f1'].idxmax(), 'thresh'] # threshold przy którym f1 ma max\n",
        "        max_f1 = f1scores['f1'].max()\n",
        "\n",
        "        # plt.scatter(f1scores.iloc[:, 0], f1scores.iloc[:, 1])\n",
        "        # plt.show()\n",
        "        print(f\"Best F1 score for model {model} for ngram 1-{n} is {max_f1:.3f}\")\n",
        "        results_dict['model'] = model\n",
        "        results_dict['ngram'] = '1, ' + str(n)\n",
        "        results_dict['best_thresh'] = threshold\n",
        "        results_dict['f1'] = max_f1\n",
        "        all_results.append(results_dict)\n",
        "\n",
        "print('\\n')\n",
        "all_models_df = pd.DataFrame(all_results)\n",
        "print(all_models_df)"
      ],
      "metadata": {
        "colab": {
          "base_uri": "https://localhost:8080/"
        },
        "id": "Npp25ZxtHStY",
        "outputId": "abb7fb4e-f47b-44ac-e336-0f4b2d0706db"
      },
      "execution_count": null,
      "outputs": [
        {
          "output_type": "stream",
          "name": "stdout",
          "text": [
            "Best F1 score for model LogisticRegression() for ngram 1-1 is 0.267\n",
            "Best F1 score for model LogisticRegression() for ngram 1-2 is 0.267\n",
            "Best F1 score for model LogisticRegression() for ngram 1-3 is 0.262\n",
            "Best F1 score for model MultinomialNB() for ngram 1-1 is 0.273\n",
            "Best F1 score for model MultinomialNB() for ngram 1-2 is 0.245\n",
            "Best F1 score for model MultinomialNB() for ngram 1-3 is 0.270\n",
            "Best F1 score for model BernoulliNB() for ngram 1-1 is 0.274\n",
            "Best F1 score for model BernoulliNB() for ngram 1-2 is 0.263\n",
            "Best F1 score for model BernoulliNB() for ngram 1-3 is 0.269\n",
            "\n",
            "\n",
            "                  model ngram  best_thresh        f1\n",
            "0  LogisticRegression()  1, 1         0.84  0.267481\n",
            "1  LogisticRegression()  1, 2         0.85  0.267408\n",
            "2  LogisticRegression()  1, 3         0.84  0.261533\n",
            "3       MultinomialNB()  1, 1         0.87  0.273246\n",
            "4       MultinomialNB()  1, 2         0.88  0.244918\n",
            "5       MultinomialNB()  1, 3         0.88  0.269793\n",
            "6         BernoulliNB()  1, 1         0.68  0.273795\n",
            "7         BernoulliNB()  1, 2         0.61  0.262731\n",
            "8         BernoulliNB()  1, 3         0.55  0.268587\n"
          ]
        }
      ]
    },
    {
      "cell_type": "markdown",
      "source": [
        "With TFIDF, differences between models are rather insignificant and it's possible that with another train/test split the results would be slightly differnt. Bigrams and trigrams do not add value."
      ],
      "metadata": {
        "id": "zBrJ9OLe8PqW"
      }
    },
    {
      "cell_type": "markdown",
      "source": [
        "**TFIDF wich chi2 vocabulary word selection**\n",
        "Let's select top 1000 words with the strongest association with the labelled classes.\n",
        "Again - we will use rather train_test_split than kfold for the speed."
      ],
      "metadata": {
        "id": "RnGrdugF8fGz"
      }
    },
    {
      "cell_type": "code",
      "source": [
        "import pandas as pd\n",
        "import numpy as np\n",
        "from sklearn.feature_extraction.text import TfidfVectorizer\n",
        "from sklearn.linear_model import LogisticRegression\n",
        "from sklearn.model_selection import train_test_split\n",
        "from sklearn.metrics import classification_report, confusion_matrix\n",
        "from sklearn.metrics import f1_score, precision_score, recall_score\n",
        "import matplotlib.pyplot as plt\n",
        "from sklearn.feature_selection import chi2"
      ],
      "metadata": {
        "id": "yTGQm0m8-EYk"
      },
      "execution_count": null,
      "outputs": []
    },
    {
      "cell_type": "code",
      "source": [
        "df = pd.read_csv('/content/drive/MyDrive/Python_data/processed_tweets.csv')\n",
        "df.dropna(inplace = True)\n",
        "df.reset_index(inplace = True)\n",
        "print(df.shape)\n",
        "y = df['expert']"
      ],
      "metadata": {
        "colab": {
          "base_uri": "https://localhost:8080/"
        },
        "id": "PlPwO4Ho-gGz",
        "outputId": "502b8ae2-122c-440f-bae5-9f37725a55fe"
      },
      "execution_count": null,
      "outputs": [
        {
          "output_type": "stream",
          "name": "stdout",
          "text": [
            "(99731, 11)\n"
          ]
        }
      ]
    },
    {
      "cell_type": "code",
      "source": [
        "temp_vectorizer = TfidfVectorizer()\n",
        "X_ = temp_vectorizer.fit_transform(df['processed'])\n",
        "n_features=1000 # we'll keep 1000 best words in our vocabulary\n",
        "chi2score = chi2(X_,y)[0]\n",
        "wscores = zip(temp_vectorizer.get_feature_names_out(), chi2score)\n",
        "wchi2 = sorted(wscores, key = lambda x:x[1])\n",
        "topchi2 = wchi2[-n_features:]\n",
        "labels = [t for t, ch in topchi2]\n",
        "vectorizer = TfidfVectorizer(vocabulary=labels)\n",
        "X = vectorizer.fit_transform(df['processed'])"
      ],
      "metadata": {
        "id": "V1dAS0Ct-nu2"
      },
      "execution_count": null,
      "outputs": []
    },
    {
      "cell_type": "markdown",
      "source": [
        "For the future use in a Keras model, we'll keep a file with top 5000 words, not top 1000 words. We limit the vocab to 1000 words here as with a sparce 5000 column matrix, our model explodes. With Keras, we'll apply a dense embedding matrix, so we can accept 5000 top words."
      ],
      "metadata": {
        "id": "iM79d1tSLkSp"
      }
    },
    {
      "cell_type": "code",
      "source": [
        "textfile = open(\"/content/drive/MyDrive/Python_data/vocabulary_chi2_5000.txt\", \"w\")\n",
        "for element in labels:\n",
        "    textfile.write(element + \"\\n\")\n",
        "textfile.close()"
      ],
      "metadata": {
        "id": "iTl6S5poIe_M"
      },
      "execution_count": null,
      "outputs": []
    },
    {
      "cell_type": "markdown",
      "source": [
        "Let's plot 20 strongest words, with the highest chi2 score."
      ],
      "metadata": {
        "id": "QqGaEhoJAqNN"
      }
    },
    {
      "cell_type": "code",
      "source": [
        "topchi2_plot = list(zip(*wchi2[-20:]))\n",
        "x = range(len(topchi2_plot[1]))\n",
        "labels = topchi2_plot[0]\n",
        "plt.figure(figsize=(12,6))\n",
        "plt.barh(x,topchi2_plot[1], align='center', alpha=0.2)\n",
        "plt.plot(topchi2_plot[1], x, '-o', markersize=5, alpha=0.8)\n",
        "plt.yticks(x, labels)\n",
        "plt.xlabel('$\\chi^2$')"
      ],
      "metadata": {
        "colab": {
          "base_uri": "https://localhost:8080/",
          "height": 411
        },
        "id": "etyya8EwAhbA",
        "outputId": "61b70c86-b723-45f4-82c7-a51f8f5ce362"
      },
      "execution_count": null,
      "outputs": [
        {
          "output_type": "execute_result",
          "data": {
            "text/plain": [
              "Text(0.5, 0, '$\\\\chi^2$')"
            ]
          },
          "metadata": {},
          "execution_count": 6
        },
        {
          "output_type": "display_data",
          "data": {
            "text/plain": [
              "<Figure size 864x432 with 1 Axes>"
            ],
            "image/png": "[encoded data removed]"
          },
          "metadata": {
            "needs_background": "light"
          }
        }
      ]
    },
    {
      "cell_type": "markdown",
      "source": [
        "As we can see, this list is very similar to the list generated with our simple \"exptert/non-expert rate\" metric produced beforehead."
      ],
      "metadata": {
        "id": "t-x719xKAwGO"
      }
    },
    {
      "cell_type": "code",
      "source": [
        "xtrain, xtest, ytrain, ytest = train_test_split(X, y, train_size = 0.8, shuffle = True, stratify = y)"
      ],
      "metadata": {
        "id": "8f3aJkpUCyya"
      },
      "execution_count": null,
      "outputs": []
    },
    {
      "cell_type": "code",
      "source": [
        "model = LogisticRegression(max_iter = 200)\n",
        "model.fit(xtrain, ytrain)\n",
        "ypreds = model.predict(xtest)\n",
        "print(classification_report(ytest, ypreds))\n",
        "print('\\n')\n",
        "print(confusion_matrix(ytest, ypreds))"
      ],
      "metadata": {
        "colab": {
          "base_uri": "https://localhost:8080/"
        },
        "id": "6ZAyGJUIC0oQ",
        "outputId": "0b49e6da-5d97-4955-dfa3-05c8f103a7e7"
      },
      "execution_count": null,
      "outputs": [
        {
          "output_type": "stream",
          "name": "stdout",
          "text": [
            "              precision    recall  f1-score   support\n",
            "\n",
            "           0       0.94      1.00      0.97     18586\n",
            "           1       0.93      0.06      0.12      1361\n",
            "\n",
            "    accuracy                           0.94     19947\n",
            "   macro avg       0.94      0.53      0.54     19947\n",
            "weighted avg       0.94      0.94      0.91     19947\n",
            "\n",
            "\n",
            "\n",
            "[[18580     6]\n",
            " [ 1275    86]]\n"
          ]
        }
      ]
    },
    {
      "cell_type": "markdown",
      "source": [
        "With a standard 0.5 threshold, we received F1 score for \"expert\" guesses. We have a very nice precision - 93% of our guesses \"it's an expert\" proved to be true. However, recall tells we recognized properly only 6% experts. Together, they sum up to a poor 0.12 F1 score.\n",
        "\n",
        "Let's see how it performs when we search for the optimal threshold."
      ],
      "metadata": {
        "id": "dzZQEXr9DnOs"
      }
    },
    {
      "cell_type": "code",
      "source": [
        "ypreds_proba = model.predict_proba(xtest)\n",
        "ypreds_temp = np.zeros(ypreds.shape[0])\n",
        "\n",
        "f1scores = []\n",
        "for t in np.arange(0, 1, 0.01):\n",
        "    ypreds_temp = np.where(ypreds_proba[:, 0] > t, 0, 1)\n",
        "    f1 = f1_score(ytest, ypreds_temp, zero_division = 0)\n",
        "    prec = precision_score(ytest, ypreds_temp, zero_division = 0)\n",
        "    rec = recall_score(ytest, ypreds_temp, zero_division = 0)\n",
        "    f1scores.append((t, f1, prec, rec))\n",
        "\n",
        "f1scores = pd.DataFrame(f1scores)\n",
        "f1scores.columns = 'thresh f1 precision recall'.split()\n",
        "threshold = f1scores.loc[f1scores['f1'].idxmax(), 'thresh'] \n",
        "max_prec = f1scores.loc[f1scores['f1'].idxmax(), 'precision'] \n",
        "max_rec = f1scores.loc[f1scores['f1'].idxmax(), 'recall'] \n",
        "max_f1 = f1scores.loc[f1scores['f1'].idxmax(), 'f1']\n",
        "\n",
        "\n",
        "print(f\"Best F1 {max_f1:.3f} at threshold {threshold} with precision {max_prec:.3f} and recall {max_rec:.3f}\")"
      ],
      "metadata": {
        "colab": {
          "base_uri": "https://localhost:8080/"
        },
        "id": "BXVGxVKdEuxW",
        "outputId": "623b8b06-3482-41f6-eaab-a48d360ef75a"
      },
      "execution_count": null,
      "outputs": [
        {
          "output_type": "stream",
          "name": "stdout",
          "text": [
            "Best F1 0.305 at threshold 0.87 with precision 0.251 and recall 0.388\n"
          ]
        }
      ]
    },
    {
      "cell_type": "markdown",
      "source": [
        "Again, with an optimal threshold, we get a significantly better F1 score than with a standard 0.5 threshold. Precision and recall are both far from perfect, but at least they are more balanced now.\n",
        "\n",
        "Let's try the same with a Naive Bayes model."
      ],
      "metadata": {
        "id": "gaBwrVFrJcG-"
      }
    },
    {
      "cell_type": "code",
      "source": [
        "from sklearn.naive_bayes import BernoulliNB"
      ],
      "metadata": {
        "id": "1nQyUoV4MKYb"
      },
      "execution_count": null,
      "outputs": []
    },
    {
      "cell_type": "code",
      "source": [
        "model = BernoulliNB()\n",
        "model.fit(xtrain, ytrain)\n",
        "ypreds = model.predict(xtest)\n",
        "print(classification_report(ytest, ypreds))\n",
        "print('\\n')\n",
        "print(confusion_matrix(ytest, ypreds))"
      ],
      "metadata": {
        "colab": {
          "base_uri": "https://localhost:8080/"
        },
        "id": "yAVDJdzsMQnr",
        "outputId": "800c3e9e-fa2e-4ee8-9bd4-6e2d3fce5da8"
      },
      "execution_count": null,
      "outputs": [
        {
          "output_type": "stream",
          "name": "stdout",
          "text": [
            "              precision    recall  f1-score   support\n",
            "\n",
            "           0       0.95      0.96      0.95     18586\n",
            "           1       0.35      0.29      0.31      1361\n",
            "\n",
            "    accuracy                           0.92     19947\n",
            "   macro avg       0.65      0.62      0.63     19947\n",
            "weighted avg       0.91      0.92      0.91     19947\n",
            "\n",
            "\n",
            "\n",
            "[[17866   720]\n",
            " [  972   389]]\n"
          ]
        }
      ]
    },
    {
      "cell_type": "markdown",
      "source": [
        "It looks much more promising than Logistic Regression!\n",
        "Let's search for the optimal threshold."
      ],
      "metadata": {
        "id": "lWWFDlY7MYEJ"
      }
    },
    {
      "cell_type": "code",
      "source": [
        "ypreds_proba = model.predict_proba(xtest)\n",
        "ypreds_temp = np.zeros(ypreds.shape[0])\n",
        "\n",
        "f1scores = []\n",
        "for t in np.arange(0, 1, 0.01):\n",
        "    ypreds_temp = np.where(ypreds_proba[:, 0] > t, 0, 1)\n",
        "    f1 = f1_score(ytest, ypreds_temp, zero_division = 0)\n",
        "    prec = precision_score(ytest, ypreds_temp, zero_division = 0)\n",
        "    rec = recall_score(ytest, ypreds_temp, zero_division = 0)\n",
        "    f1scores.append((t, f1, prec, rec))\n",
        "\n",
        "f1scores = pd.DataFrame(f1scores)\n",
        "f1scores.columns = 'thresh f1 precision recall'.split()\n",
        "threshold = f1scores.loc[f1scores['f1'].idxmax(), 'thresh'] \n",
        "max_prec = f1scores.loc[f1scores['f1'].idxmax(), 'precision'] \n",
        "max_rec = f1scores.loc[f1scores['f1'].idxmax(), 'recall'] \n",
        "max_f1 = f1scores.loc[f1scores['f1'].idxmax(), 'f1'] \n",
        "\n",
        "\n",
        "print(f\"Best F1 {max_f1:.3f} at threshold {threshold} with precision {max_prec:.3f} and recall {max_rec:.3f}\")"
      ],
      "metadata": {
        "colab": {
          "base_uri": "https://localhost:8080/"
        },
        "id": "VbFiXB3kMdvr",
        "outputId": "52be60b6-a5b9-4a57-913c-bf2a0584d206"
      },
      "execution_count": null,
      "outputs": [
        {
          "output_type": "stream",
          "name": "stdout",
          "text": [
            "Best F1 0.323 at threshold 0.58 with precision 0.334 and recall 0.313\n"
          ]
        }
      ]
    },
    {
      "cell_type": "markdown",
      "source": [
        "Let's see a relationship between threshold and F1 on a plot."
      ],
      "metadata": {
        "id": "043f2oezNKbu"
      }
    },
    {
      "cell_type": "code",
      "source": [
        "plt.scatter(f1scores.iloc[:, 0], f1scores.iloc[:, 1], s = 10, label = 'F1')\n",
        "plt.scatter(f1scores.iloc[:, 0], f1scores.iloc[:, 2], s = 10, label = 'Precision')\n",
        "plt.scatter(f1scores.iloc[:, 0], f1scores.iloc[:, 3], s = 10, label = 'Recall')\n",
        "plt.legend()\n",
        "plt.show()"
      ],
      "metadata": {
        "colab": {
          "base_uri": "https://localhost:8080/",
          "height": 265
        },
        "id": "4GDm6zfGNPop",
        "outputId": "37ed90b8-888f-444d-c566-1ae51ad8c559"
      },
      "execution_count": null,
      "outputs": [
        {
          "output_type": "display_data",
          "data": {
            "text/plain": [
              "<Figure size 432x288 with 1 Axes>"
            ],
            "image/png": "[encoded data removed]"
          },
          "metadata": {
            "needs_background": "light"
          }
        }
      ]
    },
    {
      "cell_type": "markdown",
      "source": [
        "It's quite intutive. The higher the threshold, the higher the recall (we recognize more experts out of the pool), and the lower the precision (more and more of our guesses \"it's an expert!\" fail. F1 is maximized somewhere at a point where precision and recall plots cross. Nice exercice to understand this relationship."
      ],
      "metadata": {
        "id": "bCGlVLdvNx5k"
      }
    },
    {
      "cell_type": "markdown",
      "source": [
        "**TFIDF summary**\n",
        "\n",
        "We clearly see chi2 vocabulary selection adds around 0.02-0.03 to our F1 score. Not much, but it's a stable surplus with a smaller vocab, which results in lower memory consumption. Not bad."
      ],
      "metadata": {
        "id": "1bya31SFTSSn"
      }
    },
    {
      "cell_type": "markdown",
      "source": [
        "**Deep Learning model with KERAS**\n",
        "\n",
        "Let's try something more sophisticated to check if a deep learning model can outperform basic models like LogisticRegression or Naive Bayes.\n",
        "\n",
        "Moreover, we'll merge information from two sources - vocabulary and engineered features - in one model. To do this, we'll employ Keras API to concatenate two inputs. We will also apply chi2 word selection, which means we'll put all the best that we have to this pot."
      ],
      "metadata": {
        "id": "xoicE_0rRLq9"
      }
    },
    {
      "cell_type": "code",
      "source": [
        "import pandas as pd\n",
        "import numpy as np\n",
        "from sklearn.metrics import f1_score, precision_score, recall_score\n",
        "from keras.preprocessing.text import Tokenizer\n",
        "from tensorflow.keras.preprocessing.sequence import pad_sequences\n",
        "from sklearn.preprocessing import MinMaxScaler\n",
        "from keras.models import Model\n",
        "from keras.layers import Flatten, Embedding, Dense, Convolution1D, MaxPooling1D, Dropout, Input, Normalization\n",
        "from keras.layers.merging import concatenate\n",
        "import tensorflow as tf\n",
        "from keras.utils.vis_utils import plot_model\n",
        "from keras.callbacks import LearningRateScheduler\n",
        "from sklearn.model_selection import StratifiedKFold\n",
        "import matplotlib.pyplot as plt\n",
        "import os"
      ],
      "metadata": {
        "id": "-fcg_J2oTHMO"
      },
      "execution_count": null,
      "outputs": []
    },
    {
      "cell_type": "code",
      "source": [
        "df = pd.read_csv('/content/drive/MyDrive/Python_data/processed_tweets.csv')\n",
        "df.dropna(inplace = True)\n",
        "df.reset_index(inplace = True)\n",
        "print(df.shape)\n",
        "y = df['expert']\n",
        "X = df['processed']"
      ],
      "metadata": {
        "colab": {
          "base_uri": "https://localhost:8080/"
        },
        "id": "wp_JJ3qMIAgP",
        "outputId": "91fc9cfe-dfb5-4225-cbb9-8b5fb1227fe4"
      },
      "execution_count": null,
      "outputs": [
        {
          "output_type": "stream",
          "name": "stdout",
          "text": [
            "(99731, 11)\n"
          ]
        }
      ]
    },
    {
      "cell_type": "code",
      "source": [
        "tf.config.run_functions_eagerly(True)\n",
        "tf.data.experimental.enable_debug_mode()\n",
        "os.environ['TF_CPP_MIN_LOG_LEVEL'] = '3'\n",
        "\n",
        "es = tf.keras.callbacks.EarlyStopping(\n",
        "    monitor='val_loss', min_delta=1e-05, patience=5, verbose=0,\n",
        "    mode='min', baseline=None, restore_best_weights=True)\n",
        "\n",
        "plateau = tf.keras.callbacks.ReduceLROnPlateau(\n",
        "    monitor='val_loss', factor=0.7, patience=3, verbose=0,\n",
        "    mode='min')\n",
        "\n",
        "def scheduler(epoch, lr):\n",
        "    if epoch < 3:\n",
        "        return lr\n",
        "    else:\n",
        "        return lr * tf.math.exp(-0.1)\n",
        "\n",
        "lrate = LearningRateScheduler(scheduler)"
      ],
      "metadata": {
        "id": "DVTPvkhsIPjH"
      },
      "execution_count": null,
      "outputs": []
    },
    {
      "cell_type": "code",
      "source": [
        "with open('/content/drive/MyDrive/Python_data/vocabulary_chi2_5000.txt') as f:\n",
        "    words = f.readlines()\n",
        "chi2_words = [word.replace('\\n', '') for word in words]"
      ],
      "metadata": {
        "id": "-EKUeRkDIPNE"
      },
      "execution_count": null,
      "outputs": []
    },
    {
      "cell_type": "code",
      "source": [
        "print(chi2_words[:20])"
      ],
      "metadata": {
        "colab": {
          "base_uri": "https://localhost:8080/"
        },
        "id": "gOiSzzQJJHxi",
        "outputId": "1c943a33-61a8-4208-8c12-86b8736a6265"
      },
      "execution_count": null,
      "outputs": [
        {
          "output_type": "stream",
          "name": "stdout",
          "text": [
            "['howard', 'retrain', 'ministers', 'govt', 'exploded', 'delightful', 'deeper', 'average', 'backed', 'firm', 'opting', 'superb', 'respectable', 'slope', 'loosing', 'oskil', 'dodger', 'stopfake', 'intertwined', 'krivoy']\n"
          ]
        }
      ]
    },
    {
      "cell_type": "markdown",
      "source": [
        "Now we'll remove words not in a list chi2_words from our tweets.\n",
        "In case there was a tweet with no words from a list, we'll put \"ukraine\" in this place to avoid empty rows."
      ],
      "metadata": {
        "id": "k8EntPyRJ32K"
      }
    },
    {
      "cell_type": "code",
      "source": [
        "vocab_size = len(set(chi2_words))\n",
        "\n",
        "def choose_chi2(sentence):\n",
        "    sent = [word for word in sentence.split() if word in chi2_words]\n",
        "    if len(sent) > 0:\n",
        "        return \" \".join(sent)\n",
        "    else:\n",
        "        return \"ukraine\"\n",
        "\n",
        "X = X.apply(lambda x: choose_chi2(x))"
      ],
      "metadata": {
        "id": "PVXR8KdQJV4l"
      },
      "execution_count": null,
      "outputs": []
    },
    {
      "cell_type": "code",
      "source": [
        "for i in range(10):\n",
        "  print(X[i])\n",
        "\n",
        "# I don't know why, but when simply prompting print[:10], colab cuts the sentences; surely it can be modified in the options"
      ],
      "metadata": {
        "colab": {
          "base_uri": "https://localhost:8080/"
        },
        "id": "MKhRNKeWKMrn",
        "outputId": "2b80722e-075f-48f2-b84b-5ae2d0e2a97c"
      },
      "execution_count": null,
      "outputs": [
        {
          "output_type": "stream",
          "name": "stdout",
          "text": [
            "please send ukraine urgently\n",
            "if anything see potential in and sweden and in of ukraine an so if they need that ll be sure and\n",
            "this probably as if we are of from but not or going after lost you get what like ground or like ukraine\n",
            "look you too can nazis in ukraine just donate now because nazis need money too\n",
            "pandemic not ones launder billions ukraine by energy crisis lie about being by energy crisis hope no from trump\n",
            "stand with people of ukraine and russia you military of two countries we are not same\n",
            "did you see interview with fm she much said fuck we re gonna ukraine no what they or think or or that well enough they don think they have worry\n",
            "world not ukraine good job russia all peoples without of nuclear of\n",
            "why would they want him there he all taxpayer dollars ukraine pacific and he look like at\n",
            "general staff russian troops in southern forces of ukraine strike military facilities on number of strikes carried out with strike aircraft helicopters unmanned\n"
          ]
        }
      ]
    },
    {
      "cell_type": "code",
      "source": [
        "X_len = [len(x.split()) for x in X]\n",
        "max_len = max(X_len)\n",
        "min_len = min(X_len)\n",
        "print(f\"Longest sentence has {max_len} words.\")\n",
        "plt.hist(X_len)"
      ],
      "metadata": {
        "colab": {
          "base_uri": "https://localhost:8080/",
          "height": 350
        },
        "id": "u5QK-iDYKrwN",
        "outputId": "c6320b3d-f87e-4970-ccf3-aa910c317af4"
      },
      "execution_count": null,
      "outputs": [
        {
          "output_type": "stream",
          "name": "stdout",
          "text": [
            "Longest sentence has 45 words.\n"
          ]
        },
        {
          "output_type": "execute_result",
          "data": {
            "text/plain": [
              "(array([17311., 20587., 19652., 13230., 11954., 10840.,  4279.,  1661.,\n",
              "          188.,    29.]),\n",
              " array([ 1. ,  5.4,  9.8, 14.2, 18.6, 23. , 27.4, 31.8, 36.2, 40.6, 45. ]),\n",
              " <a list of 10 Patch objects>)"
            ]
          },
          "metadata": {},
          "execution_count": 9
        },
        {
          "output_type": "display_data",
          "data": {
            "text/plain": [
              "<Figure size 432x288 with 1 Axes>"
            ],
            "image/png": "[encoded data removed]"
          },
          "metadata": {
            "needs_background": "light"
          }
        }
      ]
    },
    {
      "cell_type": "code",
      "source": [
        "tokenizer = Tokenizer(num_words=5000)\n",
        "tokenizer.fit_on_texts(X)\n",
        "sequences = tokenizer.texts_to_sequences(X)\n",
        "X = pad_sequences(sequences, maxlen = max_len)"
      ],
      "metadata": {
        "id": "j2YtrBv2Mc7N"
      },
      "execution_count": null,
      "outputs": []
    },
    {
      "cell_type": "code",
      "source": [
        "print(X[:3])"
      ],
      "metadata": {
        "colab": {
          "base_uri": "https://localhost:8080/"
        },
        "id": "9FN-Ple9NL9J",
        "outputId": "e75d47bb-cb98-49ff-cbf0-be0333345ba7"
      },
      "execution_count": null,
      "outputs": [
        {
          "output_type": "stream",
          "name": "stdout",
          "text": [
            "[[   0    0    0    0    0    0    0    0    0    0    0    0    0    0\n",
            "     0    0    0    0    0    0    0    0    0    0    0    0    0    0\n",
            "     0    0    0    0    0    0    0    0    0    0    0    0    0  164\n",
            "   107    1 1044]\n",
            " [   0    0    0    0    0    0    0    0    0    0    0    0    0    0\n",
            "     0    0    0    0    0    0    0    0    0    0   32  166   83  651\n",
            "     4    2  392    2    4    3    1   52   34   32   12   93   10  154\n",
            "    17  141    2]\n",
            " [   0    0    0    0    0    0    0    0    0    0    0    0    0    0\n",
            "     0    0    0    0    0    0    0    0    0   16  225   23   32   20\n",
            "    11    3   24   25    7   41   70   69  178    8   63   30   45  333\n",
            "    41   45    1]]\n"
          ]
        }
      ]
    },
    {
      "cell_type": "code",
      "source": [
        "output_dim = 200\n",
        "\n",
        "def get_model():\n",
        "    inputs_tfidf = Input(shape = (max_len, ))\n",
        "    inputs_hand = Input(shape = (5, ))\n",
        "    # część obsługująca tfidf\n",
        "    x = Embedding(input_dim = vocab_size, output_dim = output_dim, input_length = max_len, mask_zero = True)(inputs_tfidf)\n",
        "    x = Convolution1D(filters = 32, kernel_size = 3, padding = 'same', activation= 'relu' , kernel_regularizer = 'l2')(x)\n",
        "    x = MaxPooling1D(pool_size = 2)(x)\n",
        "    x = Flatten()(x)\n",
        "    x = Dense(100, kernel_regularizer = 'l2', activation = 'relu')(x)\n",
        "    x = Dropout(0.4)(x)\n",
        "    x = Dense(5, activation = 'relu')(x)\n",
        "    # x = Model(inputs = inputs_tfidf, outputs = x)\n",
        "\n",
        "    # część obsługująca hand\n",
        "    y = Dense(5, activation = 'relu')(inputs_hand)\n",
        "\n",
        "    # połączenie modeli\n",
        "    # combined = concatenate([x, y], axis = 1)\n",
        "    combined = concatenate([x, y], axis = 1)\n",
        "\n",
        "    z = Dense(10, activation = 'relu')(combined)\n",
        "    z = Dropout(0.4)(z)\n",
        "\n",
        "    outputs = Dense(1, activation = 'sigmoid')(z)\n",
        "    model = Model(inputs = [inputs_tfidf, inputs_hand], outputs = outputs)\n",
        "\n",
        "    model.compile(optimizer = 'adam', loss = 'binary_crossentropy', metrics = ['acc'])\n",
        "    return model\n"
      ],
      "metadata": {
        "id": "oDqeXCyRMjqL"
      },
      "execution_count": null,
      "outputs": []
    },
    {
      "cell_type": "code",
      "source": [
        "model = get_model()\n",
        "print(model.summary())\n",
        "model_path = '/content/drive/MyDrive/Python_data/model_plot.png'\n",
        "plot_model(model, to_file=model_path, show_shapes=True, show_layer_names=True)"
      ],
      "metadata": {
        "colab": {
          "base_uri": "https://localhost:8080/",
          "height": 1000
        },
        "id": "iiTfRkMiMspd",
        "outputId": "f30ef77b-fed7-404e-a522-1af7393d4bc3"
      },
      "execution_count": null,
      "outputs": [
        {
          "output_type": "stream",
          "name": "stdout",
          "text": [
            "Model: \"model\"\n",
            "__________________________________________________________________________________________________\n",
            " Layer (type)                   Output Shape         Param #     Connected to                     \n",
            "==================================================================================================\n",
            " input_1 (InputLayer)           [(None, 45)]         0           []                               \n",
            "                                                                                                  \n",
            " embedding (Embedding)          (None, 45, 200)      1000000     ['input_1[0][0]']                \n",
            "                                                                                                  \n",
            " conv1d (Conv1D)                (None, 45, 32)       19232       ['embedding[0][0]']              \n",
            "                                                                                                  \n",
            " max_pooling1d (MaxPooling1D)   (None, 22, 32)       0           ['conv1d[0][0]']                 \n",
            "                                                                                                  \n",
            " flatten (Flatten)              (None, 704)          0           ['max_pooling1d[0][0]']          \n",
            "                                                                                                  \n",
            " dense (Dense)                  (None, 100)          70500       ['flatten[0][0]']                \n",
            "                                                                                                  \n",
            " dropout (Dropout)              (None, 100)          0           ['dense[0][0]']                  \n",
            "                                                                                                  \n",
            " input_2 (InputLayer)           [(None, 5)]          0           []                               \n",
            "                                                                                                  \n",
            " dense_1 (Dense)                (None, 5)            505         ['dropout[0][0]']                \n",
            "                                                                                                  \n",
            " dense_2 (Dense)                (None, 5)            30          ['input_2[0][0]']                \n",
            "                                                                                                  \n",
            " concatenate (Concatenate)      (None, 10)           0           ['dense_1[0][0]',                \n",
            "                                                                  'dense_2[0][0]']                \n",
            "                                                                                                  \n",
            " dense_3 (Dense)                (None, 10)           110         ['concatenate[0][0]']            \n",
            "                                                                                                  \n",
            " dropout_1 (Dropout)            (None, 10)           0           ['dense_3[0][0]']                \n",
            "                                                                                                  \n",
            " dense_4 (Dense)                (None, 1)            11          ['dropout_1[0][0]']              \n",
            "                                                                                                  \n",
            "==================================================================================================\n",
            "Total params: 1,090,388\n",
            "Trainable params: 1,090,388\n",
            "Non-trainable params: 0\n",
            "__________________________________________________________________________________________________\n",
            "None\n"
          ]
        },
        {
          "output_type": "execute_result",
          "data": {
            "image/png": "[encoded data removed]",
            "text/plain": [
              "<IPython.core.display.Image object>"
            ]
          },
          "metadata": {},
          "execution_count": 13
        }
      ]
    },
    {
      "cell_type": "code",
      "source": [
        "def threhsold_f1(ypreds, ytest):\n",
        "    ypreds_temp = np.zeros(ypreds.shape[0])\n",
        "\n",
        "    f1scores = []\n",
        "    for t in np.arange(0, 1, 0.01):\n",
        "        ypreds_temp = np.where(ypreds > t, 0, 1)\n",
        "        f1 = f1_score(ytest, ypreds_temp, zero_division = 0)\n",
        "        prec = precision_score(ytest, ypreds_temp, zero_division = 0)\n",
        "        rec = recall_score(ytest, ypreds_temp, zero_division = 0)\n",
        "        f1scores.append((t, f1, prec, rec))\n",
        "\n",
        "    f1scores = pd.DataFrame(f1scores)\n",
        "    f1scores.columns = 'thresh f1 precision recall'.split()\n",
        "    threshold = f1scores.loc[f1scores['f1'].idxmax(), 'thresh']\n",
        "    max_f1 = f1scores.loc[f1scores['f1'].idxmax(), 'f1']\n",
        "    max_prec = f1scores.loc[f1scores['f1'].idxmax(), 'precision']\n",
        "    max_rec = f1scores.loc[f1scores['f1'].idxmax(), 'recall']\n",
        "\n",
        "    print('\\n')\n",
        "    print(f\"The best {max_f1:.3f} at threshold {threshold} with precision {max_prec:.3f} and recall {max_rec:.3f}\")\n",
        "\n",
        "    plt.scatter(f1scores.iloc[:, 0], f1scores.iloc[:, 1], s = 6, label = 'f1')\n",
        "    plt.scatter(f1scores.iloc[:, 0], f1scores.iloc[:, 2], s = 6, label = 'precision')\n",
        "    plt.scatter(f1scores.iloc[:, 0], f1scores.iloc[:, 3], s = 6, label = 'recall')\n",
        "    plt.legend()\n",
        "    plt.show()\n",
        "    return threshold, max_f1, max_prec, max_rec"
      ],
      "metadata": {
        "id": "LKk-KWR0cx86"
      },
      "execution_count": null,
      "outputs": []
    },
    {
      "cell_type": "code",
      "source": [
        "fold = StratifiedKFold(n_splits = 5, shuffle = True, random_state = 100)\n",
        "\n",
        "best_scores = []\n",
        "for n, (traini, testi) in enumerate(fold.split(X, y)):\n",
        "    scores = {}\n",
        "    # to avoid data leakage from train to test sets, we should proceed with the same procedure of chi2-selection\n",
        "    # for each subset of xtrain before applying transform to xtest\n",
        "    # but it would be very computationaly expensive for this kind of trivial experiment\n",
        "    # so I will follow an anti-leakage procedure only on x_rest data, which goes only through MinMaxScaler\n",
        "    rest_cols = 'at hash len links badwords'.split()\n",
        "    X_rest = df[rest_cols].to_numpy()\n",
        "\n",
        "    xtrain, xresttrain, ytrain = X[traini], X_rest[traini], y[traini]\n",
        "    xtest, xresttest, ytest = X[testi], X_rest[testi], y[testi]\n",
        "\n",
        "    scaler = MinMaxScaler()\n",
        "    xresttrain = scaler.fit_transform(xresttrain)\n",
        "    xresttest = scaler.transform(xresttest)\n",
        "\n",
        "    print(f\"Epoch {n+1}\")\n",
        "    model = get_model()\n",
        "    model.fit([xtrain, xresttrain], ytrain, epochs = 20, batch_size = 64, validation_split = 0.2, verbose = 0, callbacks = [es, plateau, lrate])\n",
        "\n",
        "    ypreds = model.predict([xtest, xresttest])\n",
        "    ypreds = 1 - ypreds\n",
        "    ypreds_class = np.where(ypreds > 0.5, 0, 1)\n",
        "\n",
        "    f1_score_fold = f1_score(ytest, ypreds_class)\n",
        "    threshold_best, max_f1, max_prec, max_rec = threhsold_f1(ypreds, ytest)\n",
        "    scores = {\n",
        "        'thresh_best': threshold_best,\n",
        "        'f1_05': f1_score_fold,\n",
        "        'f1_best': max_f1,\n",
        "        'precision_best': max_prec,\n",
        "        'recall_best': max_rec,\n",
        "    }\n",
        "    best_scores.append(scores)"
      ],
      "metadata": {
        "colab": {
          "base_uri": "https://localhost:8080/",
          "height": 1000
        },
        "id": "6t8FXmRuZDvs",
        "outputId": "036ba9b5-6dfd-499b-cb08-d1e24d140a7a"
      },
      "execution_count": null,
      "outputs": [
        {
          "output_type": "stream",
          "name": "stdout",
          "text": [
            "Epoch 1\n",
            "624/624 [==============================] - 5s 9ms/step\n",
            "\n",
            "\n",
            "The best 0.329 at threshold 0.8 with precision 0.331 and recall 0.328\n"
          ]
        },
        {
          "output_type": "display_data",
          "data": {
            "text/plain": [
              "<Figure size 432x288 with 1 Axes>"
            ],
            "image/png": "[encoded data removed]"
          },
          "metadata": {
            "needs_background": "light"
          }
        },
        {
          "output_type": "stream",
          "name": "stdout",
          "text": [
            "Epoch 2\n",
            "624/624 [==============================] - 6s 9ms/step\n",
            "\n",
            "\n",
            "The best 0.346 at threshold 0.86 with precision 0.304 and recall 0.401\n"
          ]
        },
        {
          "output_type": "display_data",
          "data": {
            "text/plain": [
              "<Figure size 432x288 with 1 Axes>"
            ],
            "image/png": "[encoded data removed]"
          },
          "metadata": {
            "needs_background": "light"
          }
        },
        {
          "output_type": "stream",
          "name": "stdout",
          "text": [
            "Epoch 3\n",
            "624/624 [==============================] - 6s 9ms/step\n",
            "\n",
            "\n",
            "The best 0.326 at threshold 0.86 with precision 0.288 and recall 0.374\n"
          ]
        },
        {
          "output_type": "display_data",
          "data": {
            "text/plain": [
              "<Figure size 432x288 with 1 Axes>"
            ],
            "image/png": "[encoded data removed]"
          },
          "metadata": {
            "needs_background": "light"
          }
        },
        {
          "output_type": "stream",
          "name": "stdout",
          "text": [
            "Epoch 4\n",
            "624/624 [==============================] - 5s 9ms/step\n",
            "\n",
            "\n",
            "The best 0.344 at threshold 0.8200000000000001 with precision 0.321 and recall 0.371\n"
          ]
        },
        {
          "output_type": "display_data",
          "data": {
            "text/plain": [
              "<Figure size 432x288 with 1 Axes>"
            ],
            "image/png": "[encoded data removed]"
          },
          "metadata": {
            "needs_background": "light"
          }
        },
        {
          "output_type": "stream",
          "name": "stdout",
          "text": [
            "Epoch 5\n",
            "624/624 [==============================] - 5s 9ms/step\n",
            "\n",
            "\n",
            "The best 0.339 at threshold 0.8300000000000001 with precision 0.322 and recall 0.357\n"
          ]
        },
        {
          "output_type": "display_data",
          "data": {
            "text/plain": [
              "<Figure size 432x288 with 1 Axes>"
            ],
            "image/png": "[encoded data removed]"
          },
          "metadata": {
            "needs_background": "light"
          }
        }
      ]
    },
    {
      "cell_type": "code",
      "source": [
        "best_pd = pd.DataFrame(best_scores)\n",
        "print(best_pd)"
      ],
      "metadata": {
        "colab": {
          "base_uri": "https://localhost:8080/"
        },
        "id": "bDy9qDUWmEzX",
        "outputId": "da52a35c-3e7f-4ff1-8ee9-fd09a00d4c71"
      },
      "execution_count": null,
      "outputs": [
        {
          "output_type": "stream",
          "name": "stdout",
          "text": [
            "   thresh_best     f1_05   f1_best  precision_best  recall_best\n",
            "0         0.80  0.001468  0.329273        0.330861     0.327700\n",
            "1         0.86  0.194821  0.345922        0.304299     0.400735\n",
            "2         0.86  0.060863  0.325656        0.288385     0.373990\n",
            "3         0.82  0.259155  0.344123        0.320839     0.371051\n",
            "4         0.83  0.070621  0.338912        0.322495     0.357090\n"
          ]
        }
      ]
    },
    {
      "cell_type": "code",
      "source": [
        "print(f\"Average best F1 is {np.mean(best_pd['f1_best']):.3f}\")"
      ],
      "metadata": {
        "colab": {
          "base_uri": "https://localhost:8080/"
        },
        "id": "6vLrjjTkokyK",
        "outputId": "4ca15274-0faf-49a4-b3b0-ce8af98055ce"
      },
      "execution_count": null,
      "outputs": [
        {
          "output_type": "stream",
          "name": "stdout",
          "text": [
            "Average best F1 is 0.337\n"
          ]
        }
      ]
    },
    {
      "cell_type": "markdown",
      "source": [
        "It's slightly better than the best F1 we got from LogisticRegression and Naive Bayes, but the difference is as low as 0.01. Not a great deal.\n",
        "\n",
        "The interesting thing to observe is how different are the best_F1 values and F1 for 0.5 threshold on each fold. Different train set and different keras model weights initialization produced such a variety of results. Very unintuitive and instructive."
      ],
      "metadata": {
        "id": "gXc92nJNo14M"
      }
    },
    {
      "cell_type": "markdown",
      "source": [
        "This was the best result I managed to produce out of this dataset.\n",
        "\n",
        "However, it seemed tempting to see whether a state-of-the-art Natural Language Understanding model like BERT could give a better result? Is there any meaningful difference between expert and non-expert tweets that could be discovered by a contextual embedding? Let's try!\n",
        "\n",
        "**BERT model**\n",
        "\n",
        "We will use tweets processed with our data-cleaning procedure and TweetTokenizer as an input to BERT Tokenizer rather than raw text."
      ],
      "metadata": {
        "id": "ghpFJJhywPWR"
      }
    },
    {
      "cell_type": "code",
      "source": [
        "pip install transformers"
      ],
      "metadata": {
        "colab": {
          "base_uri": "https://localhost:8080/"
        },
        "id": "LKiCnBQHy-m-",
        "outputId": "50271f25-4ce8-4fd7-92ea-b24cb3cbdc1b"
      },
      "execution_count": null,
      "outputs": [
        {
          "output_type": "stream",
          "name": "stdout",
          "text": [
            "Looking in indexes: https://pypi.org/simple, https://us-python.pkg.dev/colab-wheels/public/simple/\n",
            "Collecting transformers\n",
            "  Downloading transformers-4.23.1-py3-none-any.whl (5.3 MB)\n",
            "\u001b[K     |████████████████████████████████| 5.3 MB 25.7 MB/s \n",
            "\u001b[?25hRequirement already satisfied: tqdm>=4.27 in /usr/local/lib/python3.7/dist-packages (from transformers) (4.64.1)\n",
            "Requirement already satisfied: importlib-metadata in /usr/local/lib/python3.7/dist-packages (from transformers) (4.13.0)\n",
            "Requirement already satisfied: packaging>=20.0 in /usr/local/lib/python3.7/dist-packages (from transformers) (21.3)\n",
            "Requirement already satisfied: pyyaml>=5.1 in /usr/local/lib/python3.7/dist-packages (from transformers) (6.0)\n",
            "Collecting tokenizers!=0.11.3,<0.14,>=0.11.1\n",
            "  Downloading tokenizers-0.13.1-cp37-cp37m-manylinux_2_17_x86_64.manylinux2014_x86_64.whl (7.6 MB)\n",
            "\u001b[K     |████████████████████████████████| 7.6 MB 41.7 MB/s \n",
            "\u001b[?25hRequirement already satisfied: numpy>=1.17 in /usr/local/lib/python3.7/dist-packages (from transformers) (1.21.6)\n",
            "Requirement already satisfied: regex!=2019.12.17 in /usr/local/lib/python3.7/dist-packages (from transformers) (2022.6.2)\n",
            "Collecting huggingface-hub<1.0,>=0.10.0\n",
            "  Downloading huggingface_hub-0.10.1-py3-none-any.whl (163 kB)\n",
            "\u001b[K     |████████████████████████████████| 163 kB 42.7 MB/s \n",
            "\u001b[?25hRequirement already satisfied: filelock in /usr/local/lib/python3.7/dist-packages (from transformers) (3.8.0)\n",
            "Requirement already satisfied: requests in /usr/local/lib/python3.7/dist-packages (from transformers) (2.23.0)\n",
            "Requirement already satisfied: typing-extensions>=3.7.4.3 in /usr/local/lib/python3.7/dist-packages (from huggingface-hub<1.0,>=0.10.0->transformers) (4.1.1)\n",
            "Requirement already satisfied: pyparsing!=3.0.5,>=2.0.2 in /usr/local/lib/python3.7/dist-packages (from packaging>=20.0->transformers) (3.0.9)\n",
            "Requirement already satisfied: zipp>=0.5 in /usr/local/lib/python3.7/dist-packages (from importlib-metadata->transformers) (3.9.0)\n",
            "Requirement already satisfied: certifi>=2017.4.17 in /usr/local/lib/python3.7/dist-packages (from requests->transformers) (2022.9.24)\n",
            "Requirement already satisfied: idna<3,>=2.5 in /usr/local/lib/python3.7/dist-packages (from requests->transformers) (2.10)\n",
            "Requirement already satisfied: chardet<4,>=3.0.2 in /usr/local/lib/python3.7/dist-packages (from requests->transformers) (3.0.4)\n",
            "Requirement already satisfied: urllib3!=1.25.0,!=1.25.1,<1.26,>=1.21.1 in /usr/local/lib/python3.7/dist-packages (from requests->transformers) (1.24.3)\n",
            "Installing collected packages: tokenizers, huggingface-hub, transformers\n",
            "Successfully installed huggingface-hub-0.10.1 tokenizers-0.13.1 transformers-4.23.1\n"
          ]
        }
      ]
    },
    {
      "cell_type": "code",
      "source": [
        "import pandas as pd\n",
        "import numpy as np\n",
        "import tensorflow as tf\n",
        "from transformers import BertTokenizer, TFBertForSequenceClassification\n",
        "tokenizer = BertTokenizer.from_pretrained('bert-base-uncased')\n",
        "from tensorflow.keras.optimizers.schedules import PolynomialDecay\n",
        "from keras.optimizers import Adam\n",
        "tf.config.run_functions_eagerly(True)"
      ],
      "metadata": {
        "colab": {
          "base_uri": "https://localhost:8080/",
          "height": 113,
          "referenced_widgets": [
            "49d3cbe48b8a4d389c328ffb28268d34",
            "93c7a3c727d94661a55b16da5357ef01",
            "83bb56d48a1b43208db866d4766cd5d7",
            "09256a2b562d4caa93df6245f6969abf",
            "fe48db3d6f4140c4a5e2d8a2895cce43",
            "c69882ee465d477cbca0f1acca88d68d",
            "bf07759821524a808553b7834d68a989",
            "da0aecff3b3c4784b9a089bd01d08802",
            "a7e7c9860f484990af5673058da0148a",
            "76c2869f64924ae6b19f970e601a0d73",
            "814cfe825aa94b67aca149171c2a2b1d",
            "5a10256ef3ee44839e37f84a8400b7e5",
            "cbf63039110d4a7181900cea3fe02e81",
            "ccc9f853d1d74a9e9048647491ea78a3",
            "1c093f2473154b9aa219fa7617f96e52",
            "41ff7cbe96a341dcafba8d60902be9b1",
            "cd0f776c715646c3ab1aba589834a0c5",
            "40b260b7c75240efa8c73ab72cf51742",
            "ef579abff8d44263811bc4758412abfe",
            "8d7966ee53544cfb8daed844880bf74e",
            "161c3aaa29324c558a485531cc19b5ba",
            "c78ab646d95f49d88ceff2a484e4aa1e",
            "94c8d74ea72541218695bd3e8e1cb533",
            "b9257345b568489e8d4a4e4a6327d85e",
            "ff2a7cb1b7b14bc4ab2531947a4d9bd1",
            "73ec91fb2cd24e86b481319881fb18ca",
            "05745987b5e74b76b986a42fff94d988",
            "295e095abd2342658f3d7831828c0050",
            "b2b5e03887c244d9abcca2651df49615",
            "dd7ba37072b3442a9262e6028820f4c9",
            "83c6bc25306b4b9dbd5fa789c2eaeeda",
            "0f9c308c59824e11844db61b37773df7",
            "963b6d1d1e794ecfb090ea34a572fdf5"
          ]
        },
        "id": "6nk0g3syyoxT",
        "outputId": "c9b7802b-73cd-4471-bf6c-e17daa4b6c4b"
      },
      "execution_count": null,
      "outputs": [
        {
          "output_type": "display_data",
          "data": {
            "text/plain": [
              "Downloading:   0%|          | 0.00/232k [00:00<?, ?B/s]"
            ],
            "application/vnd.jupyter.widget-view+json": {
              "version_major": 2,
              "version_minor": 0,
              "model_id": "49d3cbe48b8a4d389c328ffb28268d34"
            }
          },
          "metadata": {}
        },
        {
          "output_type": "display_data",
          "data": {
            "text/plain": [
              "Downloading:   0%|          | 0.00/28.0 [00:00<?, ?B/s]"
            ],
            "application/vnd.jupyter.widget-view+json": {
              "version_major": 2,
              "version_minor": 0,
              "model_id": "5a10256ef3ee44839e37f84a8400b7e5"
            }
          },
          "metadata": {}
        },
        {
          "output_type": "display_data",
          "data": {
            "text/plain": [
              "Downloading:   0%|          | 0.00/570 [00:00<?, ?B/s]"
            ],
            "application/vnd.jupyter.widget-view+json": {
              "version_major": 2,
              "version_minor": 0,
              "model_id": "94c8d74ea72541218695bd3e8e1cb533"
            }
          },
          "metadata": {}
        }
      ]
    },
    {
      "cell_type": "code",
      "source": [
        "df = pd.read_csv('/content/drive/MyDrive/Python_data/processed_tweets.csv')\n",
        "df.dropna(inplace = True)\n",
        "df.reset_index(inplace = True)\n",
        "print(df.shape)\n",
        "y = df['expert']\n",
        "X = df['processed']"
      ],
      "metadata": {
        "colab": {
          "base_uri": "https://localhost:8080/"
        },
        "id": "ml5bkDvDyxs7",
        "outputId": "0895e2a1-1908-49d0-b36f-8adc7c5a13e9"
      },
      "execution_count": null,
      "outputs": [
        {
          "output_type": "stream",
          "name": "stdout",
          "text": [
            "(99731, 11)\n"
          ]
        }
      ]
    },
    {
      "cell_type": "markdown",
      "source": [
        "We use BERT for tensorflow in this project, so we have to put our data into a tf.data.Dataset object."
      ],
      "metadata": {
        "id": "o5ZW0NsqzwjV"
      }
    },
    {
      "cell_type": "code",
      "source": [
        "X = X.tolist()\n",
        "X = tokenizer(X, padding = True, truncation = True, return_tensors = 'tf', max_length = 128)\n",
        "\n",
        "tf_dataset = tf.data.Dataset.from_tensor_slices((X.data, y))\n",
        "tf_dataset = tf_dataset.shuffle(100).batch(32)"
      ],
      "metadata": {
        "id": "wokYoo0PzJTp"
      },
      "execution_count": null,
      "outputs": []
    },
    {
      "cell_type": "code",
      "source": [
        "test_size = int(len(tf_dataset) * 0.2)\n",
        "df_valid = tf_dataset.take(test_size)\n",
        "df_train = tf_dataset.skip(test_size)\n",
        "\n",
        "import tensorflow_datasets as tfds\n",
        "\n",
        "ytest = tfds.as_numpy(df_valid)\n",
        "ylabels = []\n",
        "for l in ytest:\n",
        "    ylabels.append(l[1])\n",
        "\n",
        "ylabels = np.concatenate(ylabels)"
      ],
      "metadata": {
        "id": "gR3TWjIwzR9l"
      },
      "execution_count": null,
      "outputs": []
    },
    {
      "cell_type": "markdown",
      "source": [
        "We'll use the most popular bert-base-uncased checkpoint from a Huggingface library.\n",
        "\n",
        "We will also apply a smart learning rate scheduler, as a standard Adam learning rate is way too high for BERT model.\n",
        "\n",
        "To avoid my Colab notebook breaking, I train my BERT model on 1 epoch only. I tried it with more epochs, but the gain "
      ],
      "metadata": {
        "id": "6OAfhNwU5BLS"
      }
    },
    {
      "cell_type": "code",
      "source": [
        "checkpoint = 'bert-base-uncased'\n",
        "model = TFBertForSequenceClassification.from_pretrained(checkpoint, num_labels = 2)\n",
        "\n",
        "num_epochs = 1\n",
        "num_train_steps = len(df_train) * num_epochs\n",
        "lr_scheduler = PolynomialDecay(initial_learning_rate = 5e-5, end_learning_rate = 0.0, decay_steps = num_train_steps)\n",
        "\n",
        "opt = Adam(learning_rate = lr_scheduler)\n",
        "model.compile(optimizer=opt,\n",
        "              loss=tf.keras.losses.SparseCategoricalCrossentropy(from_logits=True),\n",
        "              metrics=[tf.keras.metrics.SparseCategoricalAccuracy('accuracy')])\n",
        "\n",
        "print(model.summary())\n",
        "print(f\"Num train steps {num_train_steps}\")"
      ],
      "metadata": {
        "colab": {
          "base_uri": "https://localhost:8080/"
        },
        "id": "LMdihV8FzhYP",
        "outputId": "4a6f4e54-7e4a-4da0-eadf-e45c137ea6a4"
      },
      "execution_count": null,
      "outputs": [
        {
          "output_type": "stream",
          "name": "stderr",
          "text": [
            "All model checkpoint layers were used when initializing TFBertForSequenceClassification.\n",
            "\n",
            "Some layers of TFBertForSequenceClassification were not initialized from the model checkpoint at bert-base-uncased and are newly initialized: ['classifier']\n",
            "You should probably TRAIN this model on a down-stream task to be able to use it for predictions and inference.\n"
          ]
        },
        {
          "output_type": "stream",
          "name": "stdout",
          "text": [
            "Model: \"tf_bert_for_sequence_classification_2\"\n",
            "_________________________________________________________________\n",
            " Layer (type)                Output Shape              Param #   \n",
            "=================================================================\n",
            " bert (TFBertMainLayer)      multiple                  109482240 \n",
            "                                                                 \n",
            " dropout_113 (Dropout)       multiple                  0         \n",
            "                                                                 \n",
            " classifier (Dense)          multiple                  1538      \n",
            "                                                                 \n",
            "=================================================================\n",
            "Total params: 109,483,778\n",
            "Trainable params: 109,483,778\n",
            "Non-trainable params: 0\n",
            "_________________________________________________________________\n",
            "None\n",
            "Num train steps 2494\n"
          ]
        }
      ]
    },
    {
      "cell_type": "code",
      "source": [
        "model.fit(df_train, validation_data = df_valid, verbose = 2, epochs = num_epochs)"
      ],
      "metadata": {
        "colab": {
          "base_uri": "https://localhost:8080/"
        },
        "id": "wdj1ma5uzuU6",
        "outputId": "721e6f83-13f2-4519-8025-c473deb33848"
      },
      "execution_count": null,
      "outputs": [
        {
          "output_type": "stream",
          "name": "stdout",
          "text": [
            "2494/2494 - 1807s - loss: 0.2267 - accuracy: 0.9325 - val_loss: 0.1934 - val_accuracy: 0.9422 - 1807s/epoch - 724ms/step\n"
          ]
        },
        {
          "output_type": "execute_result",
          "data": {
            "text/plain": [
              "<keras.callbacks.History at 0x7f43f573a250>"
            ]
          },
          "metadata": {},
          "execution_count": 10
        }
      ]
    },
    {
      "cell_type": "code",
      "source": [
        "from sklearn.metrics import f1_score, log_loss, accuracy_score, recall_score, precision_score"
      ],
      "metadata": {
        "id": "gsmDNBaz0GTH"
      },
      "execution_count": null,
      "outputs": []
    },
    {
      "cell_type": "code",
      "source": [
        "ypreds = model.predict(df_valid)"
      ],
      "metadata": {
        "colab": {
          "base_uri": "https://localhost:8080/"
        },
        "id": "9tQhpbFB2ZY1",
        "outputId": "668379b7-e8d4-4787-aeda-a3b8d84a1e29"
      },
      "execution_count": null,
      "outputs": [
        {
          "output_type": "stream",
          "name": "stdout",
          "text": [
            "623/623 [==============================] - 128s 206ms/step\n"
          ]
        }
      ]
    },
    {
      "cell_type": "code",
      "source": [
        "ypreds = ypreds.logits\n",
        "print(ypreds[:5])"
      ],
      "metadata": {
        "colab": {
          "base_uri": "https://localhost:8080/"
        },
        "id": "2W8iMjJd2gWZ",
        "outputId": "2062ead8-9206-41c4-a7e2-ed5c0ab515d2"
      },
      "execution_count": null,
      "outputs": [
        {
          "output_type": "stream",
          "name": "stdout",
          "text": [
            "[[ 0.46934596 -1.0455719 ]\n",
            " [ 0.78268856 -1.2551302 ]\n",
            " [ 1.6793638  -1.7786064 ]\n",
            " [ 0.46934596 -1.0455719 ]\n",
            " [ 1.2808208  -1.5485667 ]]\n"
          ]
        }
      ]
    },
    {
      "cell_type": "code",
      "source": [
        "ypreds_soft = tf.math.softmax(ypreds).numpy()\n",
        "print(ypreds_soft[:5])"
      ],
      "metadata": {
        "colab": {
          "base_uri": "https://localhost:8080/"
        },
        "id": "yhoNFVn_2hLk",
        "outputId": "25535013-a0fd-4c4d-c7d8-855b070a9953"
      },
      "execution_count": null,
      "outputs": [
        {
          "output_type": "stream",
          "name": "stdout",
          "text": [
            "[[0.81978893 0.18021111]\n",
            " [0.88471097 0.11528903]\n",
            " [0.9694679  0.03053206]\n",
            " [0.81978893 0.18021111]\n",
            " [0.9442434  0.05575662]]\n"
          ]
        }
      ]
    },
    {
      "cell_type": "code",
      "source": [
        "ypreds_classes = tf.math.argmax(ypreds_soft, axis = -1)"
      ],
      "metadata": {
        "id": "q0KVqk7p3DqL"
      },
      "execution_count": null,
      "outputs": []
    },
    {
      "cell_type": "code",
      "source": [
        "import matplotlib.pyplot as plt"
      ],
      "metadata": {
        "id": "ruHa5F5iH2Jx"
      },
      "execution_count": null,
      "outputs": []
    },
    {
      "cell_type": "code",
      "source": [
        "threhsold_f1(ypreds_soft[:, 0], ylabels)"
      ],
      "metadata": {
        "colab": {
          "base_uri": "https://localhost:8080/",
          "height": 333
        },
        "id": "l8K_E_a13QHN",
        "outputId": "47988267-d096-4778-a578-6b965cd8a403"
      },
      "execution_count": null,
      "outputs": [
        {
          "output_type": "stream",
          "name": "stdout",
          "text": [
            "\n",
            "\n",
            "The best 0.117 at threshold 0.98 with precision 0.062 and recall 1.000\n"
          ]
        },
        {
          "output_type": "display_data",
          "data": {
            "text/plain": [
              "<Figure size 432x288 with 1 Axes>"
            ],
            "image/png": "[encoded data removed]"
          },
          "metadata": {
            "needs_background": "light"
          }
        },
        {
          "output_type": "execute_result",
          "data": {
            "text/plain": [
              "(0.98, 0.11729152894513174, 0.06229935794542536, 1.0)"
            ]
          },
          "metadata": {},
          "execution_count": 24
        }
      ]
    },
    {
      "cell_type": "markdown",
      "source": [
        "It looks like the difference between expert and non-expert tweets does not lie in their \"meaning\". A contextual embedding from BERT produced by far the worst result. Which doesn't change the fact that generally BERT rocks!"
      ],
      "metadata": {
        "id": "qdMigQPDIJVG"
      }
    },
    {
      "cell_type": "markdown",
      "source": [
        "This is the end of the notebook. I hope you had fun :-)"
      ],
      "metadata": {
        "id": "aGnEh84bIdC3"
      }
    }
  ]
}